{
 "cells": [
  {
   "cell_type": "markdown",
   "id": "e2dc5c7a-63b5-43bc-a823-7c56e9b903ff",
   "metadata": {},
   "source": [
    "# Python'da emoji kullanımı "
   ]
  },
  {
   "cell_type": "code",
   "execution_count": 2,
   "id": "b2e5534a-3699-4595-9764-b9e40709ca5c",
   "metadata": {},
   "outputs": [
    {
     "name": "stdout",
     "output_type": "stream",
     "text": [
      "😀\n",
      "😂\n"
     ]
    }
   ],
   "source": [
    "print(\"\\U0001F600\")  # 😀\n",
    "print(\"\\U0001F602\")  # 😂"
   ]
  },
  {
   "cell_type": "code",
   "execution_count": 3,
   "id": "14402a64-0dbb-426b-a830-f9e94ff83283",
   "metadata": {},
   "outputs": [
    {
     "name": "stdout",
     "output_type": "stream",
     "text": [
      "✅ İşlem başarılı!\n",
      "⚠️ Dikkat etmelisin!\n",
      "🔥 Çok iyi gidiyorsun!\n",
      "🎉 Tebrikler, başardın!\n"
     ]
    }
   ],
   "source": [
    "print(\"✅ İşlem başarılı!\")\n",
    "print(\"⚠️ Dikkat etmelisin!\")\n",
    "print(\"🔥 Çok iyi gidiyorsun!\")\n",
    "print(\"🎉 Tebrikler, başardın!\")"
   ]
  },
  {
   "cell_type": "code",
   "execution_count": 4,
   "id": "4965a94f-134a-4617-8556-5cbcf764e85e",
   "metadata": {},
   "outputs": [
    {
     "name": "stdout",
     "output_type": "stream",
     "text": [
      "✅ İşlem başarılı!\n",
      "⚠ Dikkat etmelisin!\n",
      "🔥 Çok iyi gidiyorsun!\n",
      "🎉 Tebrikler!\n"
     ]
    }
   ],
   "source": [
    "print(\"\\u2705 İşlem başarılı!\")  # ✅\n",
    "print(\"\\u26A0 Dikkat etmelisin!\")  # ⚠️\n",
    "print(\"\\U0001F525 Çok iyi gidiyorsun!\")  # 🔥\n",
    "print(\"\\U0001F389 Tebrikler!\")  # 🎉"
   ]
  },
  {
   "cell_type": "markdown",
   "id": "3e75150d-b917-441a-a89c-0d25e853a33d",
   "metadata": {},
   "source": [
    "## emoji modülü ile "
   ]
  },
  {
   "cell_type": "code",
   "execution_count": 6,
   "id": "78a3e43e-3b9f-483c-aff2-64db63349e1d",
   "metadata": {},
   "outputs": [
    {
     "name": "stdout",
     "output_type": "stream",
     "text": [
      "💯 İşlem başarılı!\n",
      "⚠️ Dikkat!\n",
      "🔥 Çok iyi!\n",
      "🌨 Tebrikler!\n"
     ]
    }
   ],
   "source": [
    "import emoji\n",
    "\n",
    "print(emoji.emojize(\"\\U0001F4AF İşlem başarılı!\"))\n",
    "print(emoji.emojize(\":warning: Dikkat!\"))\n",
    "print(emoji.emojize(\":fire: Çok iyi!\"))\n",
    "print(emoji.emojize(\"\\U0001F328 Tebrikler!\"))"
   ]
  },
  {
   "cell_type": "markdown",
   "id": "8d56a717-8a2f-4f47-afd7-46e225b77307",
   "metadata": {},
   "source": [
    "### emojileri değişken olarak atama"
   ]
  },
  {
   "cell_type": "code",
   "execution_count": 8,
   "id": "163595ed-5c0d-4b73-9957-95e92eaa164a",
   "metadata": {},
   "outputs": [
    {
     "name": "stdout",
     "output_type": "stream",
     "text": [
      "✅ İşlem başarılı!\n",
      "⚠️ Dikkat etmelisin!\n",
      "🔥 Harika gidiyorsun!\n",
      "🎉 Kutlama zamanı!\n"
     ]
    }
   ],
   "source": [
    "check = \"✅\"\n",
    "warning = \"⚠️\"\n",
    "fire = \"🔥\"\n",
    "party = \"🎉\"\n",
    "\n",
    "print(f\"{check} İşlem başarılı!\")\n",
    "print(f\"{warning} Dikkat etmelisin!\")\n",
    "print(f\"{fire} Harika gidiyorsun!\")\n",
    "print(f\"{party} Kutlama zamanı!\")"
   ]
  },
  {
   "cell_type": "markdown",
   "id": "065ddc7a-371a-4b93-aaeb-55fa0d2b91b4",
   "metadata": {},
   "source": [
    "### pandas dataframei olarak bazı emojiler "
   ]
  },
  {
   "cell_type": "code",
   "execution_count": 10,
   "id": "54d13b74-6870-4a33-87ff-d311962fa569",
   "metadata": {},
   "outputs": [
    {
     "data": {
      "text/html": [
       "<div>\n",
       "<style scoped>\n",
       "    .dataframe tbody tr th:only-of-type {\n",
       "        vertical-align: middle;\n",
       "    }\n",
       "\n",
       "    .dataframe tbody tr th {\n",
       "        vertical-align: top;\n",
       "    }\n",
       "\n",
       "    .dataframe thead th {\n",
       "        text-align: right;\n",
       "    }\n",
       "</style>\n",
       "<table border=\"1\" class=\"dataframe\">\n",
       "  <thead>\n",
       "    <tr style=\"text-align: right;\">\n",
       "      <th></th>\n",
       "      <th>Kategori</th>\n",
       "      <th>Emoji</th>\n",
       "      <th>Unicode</th>\n",
       "    </tr>\n",
       "  </thead>\n",
       "  <tbody>\n",
       "    <tr>\n",
       "      <th>0</th>\n",
       "      <td>Onay &amp; Hata</td>\n",
       "      <td>✅ ❌ ⚠️</td>\n",
       "      <td>\\u2705 \\u274C \\u26A0</td>\n",
       "    </tr>\n",
       "    <tr>\n",
       "      <th>1</th>\n",
       "      <td>Mutluluk &amp; Parti</td>\n",
       "      <td>🎉 🎊 🥳</td>\n",
       "      <td>\\U0001F389 \\U0001F38A \\U0001F973</td>\n",
       "    </tr>\n",
       "    <tr>\n",
       "      <th>2</th>\n",
       "      <td>Ateş &amp; Enerji</td>\n",
       "      <td>🔥 ⚡ 🚀</td>\n",
       "      <td>\\U0001F525 \\u26A1 \\U0001F680</td>\n",
       "    </tr>\n",
       "    <tr>\n",
       "      <th>3</th>\n",
       "      <td>Yıldız &amp; Kalp</td>\n",
       "      <td>⭐ 💖 💯</td>\n",
       "      <td>\\u2B50 \\U0001F496 \\U0001F4AF</td>\n",
       "    </tr>\n",
       "    <tr>\n",
       "      <th>4</th>\n",
       "      <td>Hayvanlar</td>\n",
       "      <td>🐶 🐱 🦄</td>\n",
       "      <td>\\U0001F436 \\U0001F431 \\U0001F984</td>\n",
       "    </tr>\n",
       "    <tr>\n",
       "      <th>5</th>\n",
       "      <td>Hava Durumu</td>\n",
       "      <td>☀️ 🌧️ ❄️</td>\n",
       "      <td>\\u2600 \\U0001F327 \\U0001F328</td>\n",
       "    </tr>\n",
       "  </tbody>\n",
       "</table>\n",
       "</div>"
      ],
      "text/plain": [
       "           Kategori     Emoji                           Unicode\n",
       "0       Onay & Hata    ✅ ❌ ⚠️              \\u2705 \\u274C \\u26A0\n",
       "1  Mutluluk & Parti     🎉 🎊 🥳  \\U0001F389 \\U0001F38A \\U0001F973\n",
       "2     Ateş & Enerji     🔥 ⚡ 🚀      \\U0001F525 \\u26A1 \\U0001F680\n",
       "3     Yıldız & Kalp     ⭐ 💖 💯      \\u2B50 \\U0001F496 \\U0001F4AF\n",
       "4         Hayvanlar     🐶 🐱 🦄  \\U0001F436 \\U0001F431 \\U0001F984\n",
       "5       Hava Durumu  ☀️ 🌧️ ❄️      \\u2600 \\U0001F327 \\U0001F328"
      ]
     },
     "execution_count": 10,
     "metadata": {},
     "output_type": "execute_result"
    }
   ],
   "source": [
    "import pandas as pd\n",
    "\n",
    "data = {\"Kategori\": \n",
    "        [\n",
    "    \"Onay & Hata\", \"Mutluluk & Parti\", \"Ateş & Enerji\",\n",
    "        \"Yıldız & Kalp\", \"Hayvanlar\", \"Hava Durumu\"],\n",
    "    \"Emoji\": \n",
    "        [ \n",
    "            \"✅ ❌ ⚠️\", \"🎉 🎊 🥳\", \"🔥 ⚡ 🚀\",\n",
    "        \"⭐ 💖 💯\", \"🐶 🐱 🦄\", \"☀️ 🌧️ ❄️\"],\n",
    "    \"Unicode\": [\n",
    "        r\"\\u2705 \\u274C \\u26A0\",\n",
    "        r\"\\U0001F389 \\U0001F38A \\U0001F973\",\n",
    "        r\"\\U0001F525 \\u26A1 \\U0001F680\",\n",
    "        r\"\\u2B50 \\U0001F496 \\U0001F4AF\",\n",
    "        r\"\\U0001F436 \\U0001F431 \\U0001F984\",\n",
    "        r\"\\u2600 \\U0001F327 \\U0001F328\"\n",
    "    ]\n",
    "}\n",
    "\n",
    "df = pd.DataFrame(data)\n",
    "df"
   ]
  },
  {
   "cell_type": "markdown",
   "id": "8793464d-7ec2-422d-be04-20602def1836",
   "metadata": {},
   "source": [
    "## Raw string "
   ]
  },
  {
   "cell_type": "code",
   "execution_count": 12,
   "id": "689dd67d-7ca2-4085-b6b0-44c766736cd3",
   "metadata": {},
   "outputs": [
    {
     "name": "stdout",
     "output_type": "stream",
     "text": [
      "\\U0001F600\n",
      "😀\n"
     ]
    }
   ],
   "source": [
    "print(r\"\\U0001F600\")  # Çıktı: \\U0001F600 (Unicode karakter yazılmaz, düz metin olarak kalır)\n",
    "\n",
    "print(\"\\U0001F600\")  # Çıktı: 😀"
   ]
  },
  {
   "cell_type": "markdown",
   "id": "821e148b-665b-4d44-9e66-9566a8eed3be",
   "metadata": {},
   "source": [
    "## tkinter modülü ile arayüz yoluyla emoji "
   ]
  },
  {
   "cell_type": "code",
   "execution_count": 14,
   "id": "24f6a7fa-455f-46ba-88bb-1daf5b0178c4",
   "metadata": {},
   "outputs": [],
   "source": [
    "import tkinter as tk\n",
    "\n",
    "root = tk.Tk()\n",
    "label = tk.Label(root, text=\"\\U0001F600 \\U0001F602\", font=(\"Arial\", 50))  # Font boyutu 50\n",
    "label.pack()\n",
    "root.mainloop()"
   ]
  },
  {
   "cell_type": "code",
   "execution_count": null,
   "id": "c25b9f0a-57cf-4e46-a305-6787e55f1559",
   "metadata": {},
   "outputs": [],
   "source": []
  },
  {
   "cell_type": "code",
   "execution_count": null,
   "id": "6edf6dc6-3e1f-4cd9-814b-f74bff2fd44a",
   "metadata": {},
   "outputs": [],
   "source": []
  },
  {
   "cell_type": "code",
   "execution_count": null,
   "id": "657c37b0-8068-4d53-978a-48247000eea1",
   "metadata": {},
   "outputs": [],
   "source": []
  },
  {
   "cell_type": "code",
   "execution_count": null,
   "id": "c6da032e-089d-4de4-98d2-46220f4ff8c7",
   "metadata": {},
   "outputs": [],
   "source": []
  },
  {
   "cell_type": "markdown",
   "id": "9f3fd663-7121-4903-bd80-c219f45fb604",
   "metadata": {},
   "source": [
    "# Python ile Takvim"
   ]
  },
  {
   "cell_type": "markdown",
   "id": "0f505167-f2b1-43aa-9c92-a1c205f81f35",
   "metadata": {},
   "source": [
    "### Belirli bir ay için"
   ]
  },
  {
   "cell_type": "code",
   "execution_count": 17,
   "id": "c6f63858-7bd2-47bc-aba4-dc359aa16c88",
   "metadata": {},
   "outputs": [
    {
     "name": "stdout",
     "output_type": "stream",
     "text": [
      "     April 2025\n",
      "Mo Tu We Th Fr Sa Su\n",
      "    1  2  3  4  5  6\n",
      " 7  8  9 10 11 12 13\n",
      "14 15 16 17 18 19 20\n",
      "21 22 23 24 25 26 27\n",
      "28 29 30\n",
      "\n"
     ]
    }
   ],
   "source": [
    "import calendar\n",
    "\n",
    "cal = calendar.month(2025, 4)\n",
    "print(cal)"
   ]
  },
  {
   "cell_type": "markdown",
   "id": "b6c26c40-d959-4139-bb4c-8103b09ae906",
   "metadata": {},
   "source": [
    "### belirli bir yıla ait döküm"
   ]
  },
  {
   "cell_type": "code",
   "execution_count": 19,
   "id": "3bff007a-0c17-4866-9b06-ac3bb0493b23",
   "metadata": {},
   "outputs": [
    {
     "name": "stdout",
     "output_type": "stream",
     "text": [
      "                                             2025\n",
      "\n",
      "          January                          February                          March\n",
      "Mon Tue Wed Thu Fri Sat Sun      Mon Tue Wed Thu Fri Sat Sun      Mon Tue Wed Thu Fri Sat Sun\n",
      "          1   2   3   4   5                            1   2                            1   2\n",
      "  6   7   8   9  10  11  12        3   4   5   6   7   8   9        3   4   5   6   7   8   9\n",
      " 13  14  15  16  17  18  19       10  11  12  13  14  15  16       10  11  12  13  14  15  16\n",
      " 20  21  22  23  24  25  26       17  18  19  20  21  22  23       17  18  19  20  21  22  23\n",
      " 27  28  29  30  31               24  25  26  27  28               24  25  26  27  28  29  30\n",
      "                                                                   31\n",
      "\n",
      "           April                             May                              June\n",
      "Mon Tue Wed Thu Fri Sat Sun      Mon Tue Wed Thu Fri Sat Sun      Mon Tue Wed Thu Fri Sat Sun\n",
      "      1   2   3   4   5   6                    1   2   3   4                                1\n",
      "  7   8   9  10  11  12  13        5   6   7   8   9  10  11        2   3   4   5   6   7   8\n",
      " 14  15  16  17  18  19  20       12  13  14  15  16  17  18        9  10  11  12  13  14  15\n",
      " 21  22  23  24  25  26  27       19  20  21  22  23  24  25       16  17  18  19  20  21  22\n",
      " 28  29  30                       26  27  28  29  30  31           23  24  25  26  27  28  29\n",
      "                                                                   30\n",
      "\n",
      "            July                            August                         September\n",
      "Mon Tue Wed Thu Fri Sat Sun      Mon Tue Wed Thu Fri Sat Sun      Mon Tue Wed Thu Fri Sat Sun\n",
      "      1   2   3   4   5   6                        1   2   3        1   2   3   4   5   6   7\n",
      "  7   8   9  10  11  12  13        4   5   6   7   8   9  10        8   9  10  11  12  13  14\n",
      " 14  15  16  17  18  19  20       11  12  13  14  15  16  17       15  16  17  18  19  20  21\n",
      " 21  22  23  24  25  26  27       18  19  20  21  22  23  24       22  23  24  25  26  27  28\n",
      " 28  29  30  31                   25  26  27  28  29  30  31       29  30\n",
      "\n",
      "          October                          November                         December\n",
      "Mon Tue Wed Thu Fri Sat Sun      Mon Tue Wed Thu Fri Sat Sun      Mon Tue Wed Thu Fri Sat Sun\n",
      "          1   2   3   4   5                            1   2        1   2   3   4   5   6   7\n",
      "  6   7   8   9  10  11  12        3   4   5   6   7   8   9        8   9  10  11  12  13  14\n",
      " 13  14  15  16  17  18  19       10  11  12  13  14  15  16       15  16  17  18  19  20  21\n",
      " 20  21  22  23  24  25  26       17  18  19  20  21  22  23       22  23  24  25  26  27  28\n",
      " 27  28  29  30  31               24  25  26  27  28  29  30       29  30  31\n",
      "\n"
     ]
    }
   ],
   "source": [
    "year = 2025  \n",
    "\n",
    "cal = calendar.TextCalendar()\n",
    "print(cal.formatyear(year, 3)) # 3 rakal-mı sütunlar arasındaki boşluk içindir. "
   ]
  },
  {
   "cell_type": "code",
   "execution_count": null,
   "id": "ae4d0e87-add8-4f76-b39f-c2e7b046671a",
   "metadata": {},
   "outputs": [],
   "source": []
  },
  {
   "cell_type": "code",
   "execution_count": 20,
   "id": "3dc57a3a-0e33-48da-a69a-5b73ffc1c66b",
   "metadata": {},
   "outputs": [
    {
     "name": "stdout",
     "output_type": "stream",
     "text": [
      "                                                           2025\n",
      "\n",
      "             January                                     February                                     March\n",
      "Mon  Tue  Wed  Thu  Fri  Sat  Sun           Mon  Tue  Wed  Thu  Fri  Sat  Sun           Mon  Tue  Wed  Thu  Fri  Sat  Sun\n",
      "            1    2    3    4    5                                      1    2                                      1    2\n",
      "  6    7    8    9   10   11   12             3    4    5    6    7    8    9             3    4    5    6    7    8    9\n",
      " 13   14   15   16   17   18   19            10   11   12   13   14   15   16            10   11   12   13   14   15   16\n",
      " 20   21   22   23   24   25   26            17   18   19   20   21   22   23            17   18   19   20   21   22   23\n",
      " 27   28   29   30   31                      24   25   26   27   28                      24   25   26   27   28   29   30\n",
      "                                                                                         31\n",
      "\n",
      "              April                                        May                                         June\n",
      "Mon  Tue  Wed  Thu  Fri  Sat  Sun           Mon  Tue  Wed  Thu  Fri  Sat  Sun           Mon  Tue  Wed  Thu  Fri  Sat  Sun\n",
      "       1    2    3    4    5    6                            1    2    3    4                                           1\n",
      "  7    8    9   10   11   12   13             5    6    7    8    9   10   11             2    3    4    5    6    7    8\n",
      " 14   15   16   17   18   19   20            12   13   14   15   16   17   18             9   10   11   12   13   14   15\n",
      " 21   22   23   24   25   26   27            19   20   21   22   23   24   25            16   17   18   19   20   21   22\n",
      " 28   29   30                                26   27   28   29   30   31                 23   24   25   26   27   28   29\n",
      "                                                                                         30\n",
      "\n",
      "               July                                       August                                    September\n",
      "Mon  Tue  Wed  Thu  Fri  Sat  Sun           Mon  Tue  Wed  Thu  Fri  Sat  Sun           Mon  Tue  Wed  Thu  Fri  Sat  Sun\n",
      "       1    2    3    4    5    6                                 1    2    3             1    2    3    4    5    6    7\n",
      "  7    8    9   10   11   12   13             4    5    6    7    8    9   10             8    9   10   11   12   13   14\n",
      " 14   15   16   17   18   19   20            11   12   13   14   15   16   17            15   16   17   18   19   20   21\n",
      " 21   22   23   24   25   26   27            18   19   20   21   22   23   24            22   23   24   25   26   27   28\n",
      " 28   29   30   31                           25   26   27   28   29   30   31            29   30\n",
      "\n",
      "             October                                     November                                    December\n",
      "Mon  Tue  Wed  Thu  Fri  Sat  Sun           Mon  Tue  Wed  Thu  Fri  Sat  Sun           Mon  Tue  Wed  Thu  Fri  Sat  Sun\n",
      "            1    2    3    4    5                                      1    2             1    2    3    4    5    6    7\n",
      "  6    7    8    9   10   11   12             3    4    5    6    7    8    9             8    9   10   11   12   13   14\n",
      " 13   14   15   16   17   18   19            10   11   12   13   14   15   16            15   16   17   18   19   20   21\n",
      " 20   21   22   23   24   25   26            17   18   19   20   21   22   23            22   23   24   25   26   27   28\n",
      " 27   28   29   30   31                      24   25   26   27   28   29   30            29   30   31\n"
     ]
    }
   ],
   "source": [
    "calendar.prcal(2025, w = 4, l = 0.5, c = 10, m = 3)\n",
    "\n",
    "# w: Günlerin arasındaki boşluk\n",
    "# l: Satırlar arasındaki boşluk\n",
    "# c: Aylar arasındaki boşluk\n",
    "# m: Her satırda 3 ay olacak şekilde göster"
   ]
  },
  {
   "cell_type": "code",
   "execution_count": 21,
   "id": "daf98fd1-0f3c-4358-9d50-5eb0387e5e8d",
   "metadata": {},
   "outputs": [
    {
     "name": "stdout",
     "output_type": "stream",
     "text": [
      "    January 2025          February 2025            March 2025     \n",
      "Mo Tu We Th Fr Sa Su   Mo Tu We Th Fr Sa Su   Mo Tu We Th Fr Sa Su\n",
      "       1  2  3  4  5                   1  2                   1  2\n",
      " 6  7  8  9 10 11 12    3  4  5  6  7  8  9    3  4  5  6  7  8  9\n",
      "13 14 15 16 17 18 19   10 11 12 13 14 15 16   10 11 12 13 14 15 16\n",
      "20 21 22 23 24 25 26   17 18 19 20 21 22 23   17 18 19 20 21 22 23\n",
      "27 28 29 30 31         24 25 26 27 28         24 25 26 27 28 29 30\n",
      "                                              31                  \n",
      "                                                                  \n",
      "🎉 1 January - Yılbaşı\n",
      "❌ February ayında tatil yok.\n",
      "❌ March ayında tatil yok.\n",
      "xxxxxxxxxxxxxxxxxxxxxxxxxxxxxxxxxxxxxxxxxxxxxxxxxxxxxxxxxxxxxxxxxxxxxx\n",
      "     April 2025              May 2025              June 2025      \n",
      "Mo Tu We Th Fr Sa Su   Mo Tu We Th Fr Sa Su   Mo Tu We Th Fr Sa Su\n",
      "    1  2  3  4  5  6             1  2  3  4                      1\n",
      " 7  8  9 10 11 12 13    5  6  7  8  9 10 11    2  3  4  5  6  7  8\n",
      "14 15 16 17 18 19 20   12 13 14 15 16 17 18    9 10 11 12 13 14 15\n",
      "21 22 23 24 25 26 27   19 20 21 22 23 24 25   16 17 18 19 20 21 22\n",
      "28 29 30               26 27 28 29 30 31      23 24 25 26 27 28 29\n",
      "                                              30                  \n",
      "                                                                  \n",
      "🎉 23 April - 23 Nisan Ulusal Egemenlik ve Çocuk Bayramı\n",
      "🎉 1 May - İşçi Bayramı\n",
      "🎉 19 May - 19 Mayıs Atatürk'ü Anma, Gençlik ve Spor Bayramı\n",
      "❌ June ayında tatil yok.\n",
      "xxxxxxxxxxxxxxxxxxxxxxxxxxxxxxxxxxxxxxxxxxxxxxxxxxxxxxxxxxxxxxxxxxxxxx\n",
      "     July 2025             August 2025           September 2025   \n",
      "Mo Tu We Th Fr Sa Su   Mo Tu We Th Fr Sa Su   Mo Tu We Th Fr Sa Su\n",
      "    1  2  3  4  5  6                1  2  3    1  2  3  4  5  6  7\n",
      " 7  8  9 10 11 12 13    4  5  6  7  8  9 10    8  9 10 11 12 13 14\n",
      "14 15 16 17 18 19 20   11 12 13 14 15 16 17   15 16 17 18 19 20 21\n",
      "21 22 23 24 25 26 27   18 19 20 21 22 23 24   22 23 24 25 26 27 28\n",
      "28 29 30 31            25 26 27 28 29 30 31   29 30               \n",
      "                                                                  \n",
      "🎉 15 July - 15 Temmuz Demokrasi ve Milli Birlik Günü\n",
      "🎉 30 August - Zafer Bayramı\n",
      "❌ September ayında tatil yok.\n",
      "xxxxxxxxxxxxxxxxxxxxxxxxxxxxxxxxxxxxxxxxxxxxxxxxxxxxxxxxxxxxxxxxxxxxxx\n",
      "    October 2025          November 2025          December 2025    \n",
      "Mo Tu We Th Fr Sa Su   Mo Tu We Th Fr Sa Su   Mo Tu We Th Fr Sa Su\n",
      "       1  2  3  4  5                   1  2    1  2  3  4  5  6  7\n",
      " 6  7  8  9 10 11 12    3  4  5  6  7  8  9    8  9 10 11 12 13 14\n",
      "13 14 15 16 17 18 19   10 11 12 13 14 15 16   15 16 17 18 19 20 21\n",
      "20 21 22 23 24 25 26   17 18 19 20 21 22 23   22 23 24 25 26 27 28\n",
      "27 28 29 30 31         24 25 26 27 28 29 30   29 30 31            \n",
      "                                                                  \n",
      "🎉 29 October - Cumhuriyet Bayramı\n",
      "❌ November ayında tatil yok.\n",
      "❌ December ayında tatil yok.\n",
      "xxxxxxxxxxxxxxxxxxxxxxxxxxxxxxxxxxxxxxxxxxxxxxxxxxxxxxxxxxxxxxxxxxxxxx\n"
     ]
    }
   ],
   "source": [
    "from itertools import zip_longest  # Satırları hizalamak için\n",
    "\n",
    "tatil_gunleri = {\n",
    "    (1, 1): \"Yılbaşı\",\n",
    "    (4, 23): \"23 Nisan Ulusal Egemenlik ve Çocuk Bayramı\",\n",
    "    (5, 1): \"İşçi Bayramı\",\n",
    "    (5, 19): \"19 Mayıs Atatürk'ü Anma, Gençlik ve Spor Bayramı\",\n",
    "    (7, 15): \"15 Temmuz Demokrasi ve Milli Birlik Günü\",\n",
    "    (8, 30): \"Zafer Bayramı\",\n",
    "    (10, 29): \"Cumhuriyet Bayramı\"\n",
    "}\n",
    "\n",
    "def uc_aylik_takvim(yil):\n",
    "    cal = calendar.TextCalendar()\n",
    "    \n",
    "    # Her satırda 3 ay olacak şekilde döngüye alalım\n",
    "    for ay_baslangici in range(1, 13, 3):\n",
    "        ay_satiri = []\n",
    "        tatil_satiri = []\n",
    "\n",
    "        for ay in range(ay_baslangici, ay_baslangici + 3):\n",
    "            ay_metni = cal.formatmonth(yil, ay).split(\"\\n\")\n",
    "            max_genislik = max(len(satir) for satir in ay_metni)  # En geniş satırı bul\n",
    "            ay_metni = [satir.ljust(max_genislik) for satir in ay_metni]  # Satırları eşitle\n",
    "            ay_satiri.append(ay_metni)\n",
    "            \n",
    "            # Tatil günlerini belirle\n",
    "            tatiller = [f\"🎉 {gun} {calendar.month_name[ay]} - {tatil_gunleri[(ay, gun)]}\"\n",
    "                        for gun in range(1, 32) if (ay, gun) in tatil_gunleri]\n",
    "            \n",
    "            # Eğer tatil varsa listeyi yaz, yoksa \"Ayın ismi + tatil yok\" mesajı göster\n",
    "            if tatiller:\n",
    "                tatil_satiri.append(\"\\n\".join(tatiller))\n",
    "            else:\n",
    "                tatil_satiri.append(f\"❌ {calendar.month_name[ay]} ayında tatil yok.\")\n",
    "\n",
    "        # 3 ayı yan yana hizalayarak yazdıralım\n",
    "        for satir in zip_longest(*ay_satiri, fillvalue=\" \" * max_genislik):\n",
    "            print(\"   \".join(satir))\n",
    "\n",
    "       # Tatil günlerini alt alta yazdıralım\n",
    "        for tatil in tatil_satiri:\n",
    "            print(tatil)\n",
    "        print(f\"x\" * 70)  # Aylar arasında çizgi çizelim\n",
    "\n",
    "uc_aylik_takvim(2025)"
   ]
  },
  {
   "cell_type": "code",
   "execution_count": null,
   "id": "d41ed916-51c4-4b9d-857c-b2744fed415d",
   "metadata": {},
   "outputs": [],
   "source": []
  },
  {
   "cell_type": "code",
   "execution_count": null,
   "id": "fbdc13e0-25ad-488c-a3bf-86aee8e9cd87",
   "metadata": {},
   "outputs": [],
   "source": []
  },
  {
   "cell_type": "code",
   "execution_count": null,
   "id": "c1b38bfb-ee50-4cbf-b7b1-ea0ae291f432",
   "metadata": {},
   "outputs": [],
   "source": []
  },
  {
   "cell_type": "markdown",
   "id": "1f3bf37a-4033-44fb-adc6-4aaaac0f5479",
   "metadata": {},
   "source": [
    "### belirli bir yılın belirli bir ayının belilri bir günü için"
   ]
  },
  {
   "cell_type": "code",
   "execution_count": 23,
   "id": "a71b89e4-79db-4425-bb3a-3a20a053a971",
   "metadata": {},
   "outputs": [
    {
     "data": {
      "text/plain": [
       "'Mon Apr  4 00:00:00 2005'"
      ]
     },
     "execution_count": 23,
     "metadata": {},
     "output_type": "execute_result"
    }
   ],
   "source": [
    "from datetime import date\n",
    "date(2005, 4, 4).ctime()"
   ]
  },
  {
   "cell_type": "markdown",
   "id": "e83b787a-3c41-4cb6-ae8b-598de8efa32b",
   "metadata": {},
   "source": [
    "### belirli bir gün için .today()"
   ]
  },
  {
   "cell_type": "code",
   "execution_count": 25,
   "id": "1f2daf3c-f315-4c53-a83f-9be0a97759ce",
   "metadata": {},
   "outputs": [
    {
     "data": {
      "text/plain": [
       "datetime.date(2025, 3, 28)"
      ]
     },
     "execution_count": 25,
     "metadata": {},
     "output_type": "execute_result"
    }
   ],
   "source": [
    "import time\n",
    "from datetime import date\n",
    "today = date.today()\n",
    "today"
   ]
  },
  {
   "cell_type": "code",
   "execution_count": 26,
   "id": "949d80ca-3866-4ed8-99af-c9c7ff66042f",
   "metadata": {},
   "outputs": [
    {
     "name": "stdout",
     "output_type": "stream",
     "text": [
      "2025-03-28\n"
     ]
    }
   ],
   "source": [
    "print(today)"
   ]
  },
  {
   "cell_type": "markdown",
   "id": "3f3d44c2-5271-4244-a3b1-5cfdfd4d90f2",
   "metadata": {},
   "source": [
    "# Python'da hata ve istisnalar"
   ]
  },
  {
   "cell_type": "code",
   "execution_count": 28,
   "id": "a9474deb-76d5-4290-8ca6-741839281a9d",
   "metadata": {},
   "outputs": [
    {
     "ename": "NameError",
     "evalue": "name 'a' is not defined",
     "output_type": "error",
     "traceback": [
      "\u001b[1;31m---------------------------------------------------------------------------\u001b[0m",
      "\u001b[1;31mNameError\u001b[0m                                 Traceback (most recent call last)",
      "Cell \u001b[1;32mIn[28], line 1\u001b[0m\n\u001b[1;32m----> 1\u001b[0m \u001b[38;5;28mprint\u001b[39m(a)\n",
      "\u001b[1;31mNameError\u001b[0m: name 'a' is not defined"
     ]
    }
   ],
   "source": [
    "print(a) # tanımlanmamış değişken"
   ]
  },
  {
   "cell_type": "code",
   "execution_count": 29,
   "id": "2c34b344-42a3-47b3-93b5-a855d344afeb",
   "metadata": {},
   "outputs": [
    {
     "ename": "NameError",
     "evalue": "name 'ab2345' is not defined",
     "output_type": "error",
     "traceback": [
      "\u001b[1;31m---------------------------------------------------------------------------\u001b[0m",
      "\u001b[1;31mNameError\u001b[0m                                 Traceback (most recent call last)",
      "Cell \u001b[1;32mIn[29], line 1\u001b[0m\n\u001b[1;32m----> 1\u001b[0m \u001b[38;5;28mint\u001b[39m(ab2345)\n",
      "\u001b[1;31mNameError\u001b[0m: name 'ab2345' is not defined"
     ]
    }
   ],
   "source": [
    "int(ab2345) # value error - değer hatası"
   ]
  },
  {
   "cell_type": "code",
   "execution_count": 31,
   "id": "8552b229-a390-4540-92a3-a80e379c60d6",
   "metadata": {},
   "outputs": [
    {
     "ename": "ZeroDivisionError",
     "evalue": "division by zero",
     "output_type": "error",
     "traceback": [
      "\u001b[1;31m---------------------------------------------------------------------------\u001b[0m",
      "\u001b[1;31mZeroDivisionError\u001b[0m                         Traceback (most recent call last)",
      "Cell \u001b[1;32mIn[31], line 1\u001b[0m\n\u001b[1;32m----> 1\u001b[0m \u001b[38;5;241m2\u001b[39m \u001b[38;5;241m/\u001b[39m \u001b[38;5;241m0\u001b[39m\n",
      "\u001b[1;31mZeroDivisionError\u001b[0m: division by zero"
     ]
    }
   ],
   "source": [
    "2 / 0  # bir sayının sıfıra bölünmesi -ıraksama hatası"
   ]
  },
  {
   "cell_type": "code",
   "execution_count": 33,
   "id": "56fc0e1f-669b-4f72-a6c0-cdb36251f757",
   "metadata": {},
   "outputs": [
    {
     "ename": "SyntaxError",
     "evalue": "invalid syntax. Perhaps you forgot a comma? (2155492053.py, line 1)",
     "output_type": "error",
     "traceback": [
      "\u001b[1;36m  Cell \u001b[1;32mIn[33], line 1\u001b[1;36m\u001b[0m\n\u001b[1;33m    print(\"deneme\" 1234)  # invalid syntax error\u001b[0m\n\u001b[1;37m          ^\u001b[0m\n\u001b[1;31mSyntaxError\u001b[0m\u001b[1;31m:\u001b[0m invalid syntax. Perhaps you forgot a comma?\n"
     ]
    }
   ],
   "source": [
    "print(\"deneme\" 1234)  # invalid syntax error"
   ]
  },
  {
   "cell_type": "code",
   "execution_count": 35,
   "id": "d03773ea-0198-431b-9c13-7364dffee084",
   "metadata": {},
   "outputs": [
    {
     "ename": "ValueError",
     "evalue": "invalid literal for int() with base 10: 'a12345'",
     "output_type": "error",
     "traceback": [
      "\u001b[1;31m---------------------------------------------------------------------------\u001b[0m",
      "\u001b[1;31mValueError\u001b[0m                                Traceback (most recent call last)",
      "Cell \u001b[1;32mIn[35], line 1\u001b[0m\n\u001b[1;32m----> 1\u001b[0m a \u001b[38;5;241m=\u001b[39m \u001b[38;5;28mint\u001b[39m(\u001b[38;5;124m\"\u001b[39m\u001b[38;5;124ma12345\u001b[39m\u001b[38;5;124m\"\u001b[39m)\n",
      "\u001b[1;31mValueError\u001b[0m: invalid literal for int() with base 10: 'a12345'"
     ]
    }
   ],
   "source": [
    "a = int(\"a12345\")"
   ]
  },
  {
   "cell_type": "markdown",
   "id": "613d554d-7ac3-4c71-92c7-a5f13ce73f1c",
   "metadata": {},
   "source": [
    "## try - except"
   ]
  },
  {
   "cell_type": "code",
   "execution_count": 37,
   "id": "8ec42256-f3aa-4a4a-abe8-76095b8adead",
   "metadata": {},
   "outputs": [
    {
     "name": "stdout",
     "output_type": "stream",
     "text": [
      "\n",
      "bir hata oluştu\n",
      "\n",
      "Kod blokları bitti\n"
     ]
    }
   ],
   "source": [
    "x = \"a12345\"\n",
    "\n",
    "try:\n",
    "    u = int(x)\n",
    "    print(\"stringin tamsayıya dönüştürülmesi : \", \"u = {}\".format(u))\n",
    "except:\n",
    "    print(\"\\nbir hata oluştu\")\n",
    "print(\"\\nKod blokları bitti\")"
   ]
  },
  {
   "cell_type": "code",
   "execution_count": 39,
   "id": "b5ed5fad-1578-49a7-a28d-ecdc65fc8937",
   "metadata": {},
   "outputs": [
    {
     "name": "stdout",
     "output_type": "stream",
     "text": [
      "stringin tamsayıya dönüştürülmesi :  u = 12345\n",
      "\n",
      "Kod blokları bitti\n"
     ]
    }
   ],
   "source": [
    "x = \"12345\"\n",
    "\n",
    "try:\n",
    "    u = int(x)\n",
    "    print(\"stringin tamsayıya dönüştürülmesi : \", \"u = {}\".format(u))\n",
    "except:\n",
    "    print(\"bir hata oluştu\")\n",
    "print(\"\\nKod blokları bitti\")"
   ]
  },
  {
   "cell_type": "markdown",
   "id": "7f28a6af-4381-4c20-8909-00ce7d224271",
   "metadata": {},
   "source": [
    "### ZeroDivisionError veya ValueError hatası için"
   ]
  },
  {
   "cell_type": "code",
   "execution_count": 41,
   "id": "b1d0c228-32b5-4027-bf23-40347b092b40",
   "metadata": {},
   "outputs": [
    {
     "ename": "ZeroDivisionError",
     "evalue": "division by zero",
     "output_type": "error",
     "traceback": [
      "\u001b[1;31m---------------------------------------------------------------------------\u001b[0m",
      "\u001b[1;31mZeroDivisionError\u001b[0m                         Traceback (most recent call last)",
      "Cell \u001b[1;32mIn[41], line 1\u001b[0m\n\u001b[1;32m----> 1\u001b[0m \u001b[38;5;28mprint\u001b[39m(\u001b[38;5;241m2\u001b[39m\u001b[38;5;241m/\u001b[39m\u001b[38;5;241m0\u001b[39m)\n",
      "\u001b[1;31mZeroDivisionError\u001b[0m: division by zero"
     ]
    }
   ],
   "source": [
    "print(2/0)"
   ]
  },
  {
   "cell_type": "code",
   "execution_count": 43,
   "id": "409cebaa-d123-48aa-a194-08579d6ec1ff",
   "metadata": {},
   "outputs": [
    {
     "name": "stdin",
     "output_type": "stream",
     "text": [
      "sayı1 : 6\n",
      "sayı2 : 0\n"
     ]
    },
    {
     "name": "stdout",
     "output_type": "stream",
     "text": [
      "\n",
      "ValueError veya ZeroDivisionError hatası var...\n",
      "Kod bloğu sona erdi...\n"
     ]
    }
   ],
   "source": [
    "try:\n",
    "    a = int(input(\"sayı1 :\"))\n",
    "    b = int(input(\"sayı2 :\"))\n",
    "    print(a/b)\n",
    "\n",
    "# iki tip hata olabilir.\n",
    "# 1- ıraksama problemi olabilir\n",
    "# 2- sayı girilmemiş olabilir\n",
    "\n",
    "except (ValueError, ZeroDivisionError):\n",
    "    print(\"\\nValueError veya ZeroDivisionError hatası var...\")\n",
    "\n",
    "print(\"Kod bloğu sona erdi...\")"
   ]
  },
  {
   "cell_type": "code",
   "execution_count": 45,
   "id": "aaaf11b1-06d9-4b91-8609-450566b22af3",
   "metadata": {},
   "outputs": [
    {
     "name": "stdin",
     "output_type": "stream",
     "text": [
      "sayı1 : 6\n",
      "sayı2 : h\n"
     ]
    },
    {
     "name": "stdout",
     "output_type": "stream",
     "text": [
      "Lütfen bir sayı giriniz...\n",
      "Kod bloğu sona erdi...\n"
     ]
    }
   ],
   "source": [
    "try:\n",
    "    a = int(input(\"sayı1 :\"))\n",
    "    b = int(input(\"sayı2 :\"))\n",
    "    print(a/b)\n",
    "\n",
    "# iki tip hata olabilir.\n",
    "# 1- ıraksama problemi olabilir\n",
    "# 2- sayı girilmemiş olabilir\n",
    "\n",
    "except ValueError:\n",
    "    print(\"Lütfen bir sayı giriniz...\")\n",
    "except ZeroDivisionError: \n",
    "    print(\"\\nPayda sıfır girildi, sonuç sonsuza ıraksamaktadır\")\n",
    "\n",
    "print(\"Kod bloğu sona erdi...\")"
   ]
  },
  {
   "cell_type": "markdown",
   "id": "a5ec63de-10ce-47e6-8fd1-b6f2877964a7",
   "metadata": {},
   "source": [
    "## raise ile özel hata mesajı açıklaması oluşturma "
   ]
  },
  {
   "cell_type": "code",
   "execution_count": 47,
   "id": "94425964-e2dd-4f66-a378-9fbb00cae333",
   "metadata": {},
   "outputs": [],
   "source": [
    "def terscevirme(s):\n",
    "    if (type(s) != str):\n",
    "        raise ValueError(\"Lütfen string bir değer giriniz\")\n",
    "    else:\n",
    "        return s[::-1]"
   ]
  },
  {
   "cell_type": "code",
   "execution_count": 49,
   "id": "064bee7b-b0d9-4bb6-9bcf-5243868a320f",
   "metadata": {},
   "outputs": [
    {
     "data": {
      "text/plain": [
       "'nohtyP'"
      ]
     },
     "execution_count": 49,
     "metadata": {},
     "output_type": "execute_result"
    }
   ],
   "source": [
    "terscevirme(\"Python\")"
   ]
  },
  {
   "cell_type": "code",
   "execution_count": 51,
   "id": "e4b038d0-9e43-4e04-a1ac-bd35afb0f675",
   "metadata": {},
   "outputs": [
    {
     "ename": "ValueError",
     "evalue": "Lütfen string bir değer giriniz",
     "output_type": "error",
     "traceback": [
      "\u001b[1;31m---------------------------------------------------------------------------\u001b[0m",
      "\u001b[1;31mValueError\u001b[0m                                Traceback (most recent call last)",
      "Cell \u001b[1;32mIn[51], line 1\u001b[0m\n\u001b[1;32m----> 1\u001b[0m terscevirme(\u001b[38;5;241m123456789\u001b[39m)\n",
      "Cell \u001b[1;32mIn[47], line 3\u001b[0m, in \u001b[0;36mterscevirme\u001b[1;34m(s)\u001b[0m\n\u001b[0;32m      1\u001b[0m \u001b[38;5;28;01mdef\u001b[39;00m \u001b[38;5;21mterscevirme\u001b[39m(s):\n\u001b[0;32m      2\u001b[0m     \u001b[38;5;28;01mif\u001b[39;00m (\u001b[38;5;28mtype\u001b[39m(s) \u001b[38;5;241m!=\u001b[39m \u001b[38;5;28mstr\u001b[39m):\n\u001b[1;32m----> 3\u001b[0m         \u001b[38;5;28;01mraise\u001b[39;00m \u001b[38;5;167;01mValueError\u001b[39;00m(\u001b[38;5;124m\"\u001b[39m\u001b[38;5;124mLütfen string bir değer giriniz\u001b[39m\u001b[38;5;124m\"\u001b[39m)\n\u001b[0;32m      4\u001b[0m     \u001b[38;5;28;01melse\u001b[39;00m:\n\u001b[0;32m      5\u001b[0m         \u001b[38;5;28;01mreturn\u001b[39;00m s[::\u001b[38;5;241m-\u001b[39m\u001b[38;5;241m1\u001b[39m]\n",
      "\u001b[1;31mValueError\u001b[0m: Lütfen string bir değer giriniz"
     ]
    }
   ],
   "source": [
    "terscevirme(123456789)"
   ]
  },
  {
   "cell_type": "code",
   "execution_count": 53,
   "id": "49aaba59-b666-44e3-ae29-b521844067a5",
   "metadata": {},
   "outputs": [
    {
     "name": "stdout",
     "output_type": "stream",
     "text": [
      "Fonksiyona string değer atayınız\n"
     ]
    }
   ],
   "source": [
    "try:\n",
    "    print(terscevirme(12))\n",
    "except ValueError:\n",
    "    print(\"Fonksiyona string değer atayınız\")"
   ]
  },
  {
   "cell_type": "code",
   "execution_count": 55,
   "id": "2d717b32-2a2f-43ca-a165-5258445880bc",
   "metadata": {},
   "outputs": [],
   "source": [
    "try:\n",
    "    def terscevirme(s):\n",
    "        if (type(s) != str):\n",
    "            raise ValueError(\"Lütfen string bir değer giriniz\")\n",
    "        else:\n",
    "            return s[::-1]\n",
    "except ValueError:\n",
    "    print(\"Fonksiyona string değer atayınız\")"
   ]
  },
  {
   "cell_type": "code",
   "execution_count": 57,
   "id": "52d29fcd-7f8e-4403-b238-29eb19dce67e",
   "metadata": {},
   "outputs": [
    {
     "ename": "ValueError",
     "evalue": "Lütfen string bir değer giriniz",
     "output_type": "error",
     "traceback": [
      "\u001b[1;31m---------------------------------------------------------------------------\u001b[0m",
      "\u001b[1;31mValueError\u001b[0m                                Traceback (most recent call last)",
      "Cell \u001b[1;32mIn[57], line 1\u001b[0m\n\u001b[1;32m----> 1\u001b[0m terscevirme(\u001b[38;5;241m123\u001b[39m)\n",
      "Cell \u001b[1;32mIn[55], line 4\u001b[0m, in \u001b[0;36mterscevirme\u001b[1;34m(s)\u001b[0m\n\u001b[0;32m      2\u001b[0m \u001b[38;5;28;01mdef\u001b[39;00m \u001b[38;5;21mterscevirme\u001b[39m(s):\n\u001b[0;32m      3\u001b[0m     \u001b[38;5;28;01mif\u001b[39;00m (\u001b[38;5;28mtype\u001b[39m(s) \u001b[38;5;241m!=\u001b[39m \u001b[38;5;28mstr\u001b[39m):\n\u001b[1;32m----> 4\u001b[0m         \u001b[38;5;28;01mraise\u001b[39;00m \u001b[38;5;167;01mValueError\u001b[39;00m(\u001b[38;5;124m\"\u001b[39m\u001b[38;5;124mLütfen string bir değer giriniz\u001b[39m\u001b[38;5;124m\"\u001b[39m)\n\u001b[0;32m      5\u001b[0m     \u001b[38;5;28;01melse\u001b[39;00m:\n\u001b[0;32m      6\u001b[0m         \u001b[38;5;28;01mreturn\u001b[39;00m s[::\u001b[38;5;241m-\u001b[39m\u001b[38;5;241m1\u001b[39m]\n",
      "\u001b[1;31mValueError\u001b[0m: Lütfen string bir değer giriniz"
     ]
    }
   ],
   "source": [
    "terscevirme(123) # hata mesajının en alt satırında uyarı oluşturma; raise"
   ]
  },
  {
   "cell_type": "code",
   "execution_count": 59,
   "id": "e02398ec-71e8-41db-b90f-d6a86e9f2e8c",
   "metadata": {},
   "outputs": [],
   "source": [
    "def terscevirme(s):\n",
    "    try: \n",
    "        if (type(s) != str):\n",
    "            raise ValueError(\"Lütfen string bir değer giriniz\")\n",
    "        else:\n",
    "            return s[::-1]\n",
    "    except ValueError:\n",
    "        print(\"Fonksiyona string değer atayınız\")"
   ]
  },
  {
   "cell_type": "code",
   "execution_count": 61,
   "id": "c5fbcde2-9a1a-49d7-8609-ed75a353e4c9",
   "metadata": {},
   "outputs": [
    {
     "name": "stdout",
     "output_type": "stream",
     "text": [
      "Fonksiyona string değer atayınız\n"
     ]
    }
   ],
   "source": [
    "terscevirme(123)"
   ]
  },
  {
   "cell_type": "code",
   "execution_count": 63,
   "id": "a4a582b9-eb72-42a2-b0f6-357359cb7dc7",
   "metadata": {},
   "outputs": [
    {
     "name": "stdout",
     "output_type": "stream",
     "text": [
      "abahreM\n"
     ]
    }
   ],
   "source": [
    "print(terscevirme(\"Merhaba\"))"
   ]
  },
  {
   "cell_type": "code",
   "execution_count": 65,
   "id": "217125ce-e2e9-4a96-89e0-97255ea5320b",
   "metadata": {},
   "outputs": [
    {
     "name": "stdout",
     "output_type": "stream",
     "text": [
      "Fonksiyona string değer atayınız\n",
      "None\n"
     ]
    }
   ],
   "source": [
    "print(terscevirme(123)) "
   ]
  },
  {
   "cell_type": "code",
   "execution_count": null,
   "id": "1e4a4ca7-245d-4550-82b4-57878c8e30ce",
   "metadata": {},
   "outputs": [],
   "source": []
  },
  {
   "cell_type": "code",
   "execution_count": 67,
   "id": "a2c438c0-1285-4851-ab1a-29f64d37f7ec",
   "metadata": {},
   "outputs": [
    {
     "name": "stdout",
     "output_type": "stream",
     "text": [
      "345\n",
      "köfte incelenirken bir hata oluştu.\n",
      "324a incelenirken bir hata oluştu.\n",
      "14\n",
      "kuzey yıldızı incelenirken bir hata oluştu.\n"
     ]
    }
   ],
   "source": [
    "L = [\"345\", \"köfte\", \"324a\", \"14\",\"kuzey yıldızı\"]\n",
    "\n",
    "for i in L:\n",
    "    try:\n",
    "        if (int(i) == int):\n",
    "            print(i)\n",
    "        print(i)\n",
    "        continue\n",
    "    except ValueError:\n",
    "        print(f\"{i} incelenirken bir hata oluştu.\")  # Hata mesajını burada yakalayıp yazdırıyoruz. "
   ]
  },
  {
   "cell_type": "code",
   "execution_count": 69,
   "id": "5a0914de-84a3-401b-9b76-682f3bf3aa76",
   "metadata": {},
   "outputs": [
    {
     "name": "stdout",
     "output_type": "stream",
     "text": [
      "345\n",
      "14\n"
     ]
    }
   ],
   "source": [
    "for i in L:\n",
    "    try:\n",
    "        int(i)\n",
    "        print(i)  \n",
    "    except ValueError:\n",
    "        pass"
   ]
  },
  {
   "cell_type": "code",
   "execution_count": 71,
   "id": "5a29e833-1e69-40f7-b01b-e8327d391354",
   "metadata": {},
   "outputs": [
    {
     "name": "stdout",
     "output_type": "stream",
     "text": [
      "345\n",
      "324a\n",
      "14\n"
     ]
    }
   ],
   "source": [
    "for i in L:\n",
    "    try:\n",
    "        if any(char.isdigit() for char in i):\n",
    "            print(i)\n",
    "            continue\n",
    "    except ValueError:\n",
    "        # Normalde bu bloğa girmememiz gerekir çünkü isdigit() ValueError fırlatmaz.\n",
    "        # Ancak genel bir hata yönetimi için burada bulunuyor.\n",
    "        print(f\"{i} incelenirken bir hata oluştu.\")"
   ]
  },
  {
   "cell_type": "code",
   "execution_count": 73,
   "id": "33bb6e9f-bb4c-4194-b982-fb1d3cd5e0f6",
   "metadata": {},
   "outputs": [
    {
     "name": "stdout",
     "output_type": "stream",
     "text": [
      "345\n",
      "14\n"
     ]
    }
   ],
   "source": [
    "for i in L:\n",
    "    \n",
    "    try: \n",
    "        i = int(i) # Eğer hata ile karşılaşırsak burası hata verecek ve print çalışmayacak.\n",
    "        print(i)\n",
    "    except:\n",
    "        pass # pass deyimi bir blokun hiçbir şey yapmadığı anlamına geliyor. Python'ın hata vermemesi için kullanabilirsiniz."
   ]
  },
  {
   "cell_type": "code",
   "execution_count": null,
   "id": "1ec8724a-01a0-4316-a7b3-a4fca5497f95",
   "metadata": {},
   "outputs": [],
   "source": []
  }
 ],
 "metadata": {
  "kernelspec": {
   "display_name": "Python [conda env:base] *",
   "language": "python",
   "name": "conda-base-py"
  },
  "language_info": {
   "codemirror_mode": {
    "name": "ipython",
    "version": 3
   },
   "file_extension": ".py",
   "mimetype": "text/x-python",
   "name": "python",
   "nbconvert_exporter": "python",
   "pygments_lexer": "ipython3",
   "version": "3.12.7"
  }
 },
 "nbformat": 4,
 "nbformat_minor": 5
}
