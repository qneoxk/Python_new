{
 "cells": [
  {
   "cell_type": "markdown",
   "id": "b88623ad",
   "metadata": {},
   "source": [
    "# numpy"
   ]
  },
  {
   "cell_type": "raw",
   "id": "1beebe09",
   "metadata": {},
   "source": [
    "Lineer Cebir (Algebra)\n",
    "Veri Madenciliği, Makine öğrenmesi ve veri analizi\n",
    "Tek boyutlu ve çok boyutlu diziler (array)"
   ]
  },
  {
   "cell_type": "raw",
   "id": "82d0fb7f",
   "metadata": {},
   "source": [
    "Neden List veri tipi değil de numpyı tercih ediyoruz? \n",
    "- numpy array leri, list veri tipine göre çok daha az yer kaplar.\n",
    "- array elemanlarına ulaşmak, list elemanlarına ulaşmaktan daha kolaydır.\n",
    "- Etkin metot ve fonksiyonlar var. "
   ]
  },
  {
   "cell_type": "raw",
   "id": "9f5ba4fb",
   "metadata": {},
   "source": [
    "numpy, Anaconda Distribution ile hazır olarak kurulu gelir. Zaten Jupyter Notebook kullanma amaçlarımızdan biri de budur. \n",
    "Eğer kurulu değil ya da kaldırılmış ise kurulum için: \n",
    "    \n",
    "    anaconda distribution var ise : conda install numpy \n",
    "    anaconda distribution yok ise : pip install numpy \n",
    "\n",
    "ile kurulum sağlanır. "
   ]
  },
  {
   "cell_type": "markdown",
   "id": "c0fea9d9-028a-4b3f-90e5-7a2e5d8ce51a",
   "metadata": {},
   "source": [
    "# Tüm modülü yükleme"
   ]
  },
  {
   "cell_type": "code",
   "execution_count": 3,
   "id": "16102d51-daa4-4ec4-b870-8bddf5c9a10d",
   "metadata": {},
   "outputs": [],
   "source": [
    "import numpy as np # numpy modülünün tamamı yüklenir. "
   ]
  },
  {
   "cell_type": "code",
   "execution_count": 4,
   "id": "4b21b8b0-0ba8-4873-8b01-105d3ad0c6eb",
   "metadata": {},
   "outputs": [
    {
     "data": {
      "text/plain": [
       "-0.9880316240928618"
      ]
     },
     "execution_count": 4,
     "metadata": {},
     "output_type": "execute_result"
    }
   ],
   "source": [
    "np.sin(30)"
   ]
  },
  {
   "cell_type": "code",
   "execution_count": 5,
   "id": "4a10549e-3ef0-41aa-bc6c-db7916555538",
   "metadata": {},
   "outputs": [
    {
     "data": {
      "text/plain": [
       "0.49999999999999994"
      ]
     },
     "execution_count": 5,
     "metadata": {},
     "output_type": "execute_result"
    }
   ],
   "source": [
    "np.sin(np.deg2rad(30))"
   ]
  },
  {
   "cell_type": "code",
   "execution_count": 6,
   "id": "2a62e569-7cce-4c24-87db-7268b6114229",
   "metadata": {},
   "outputs": [
    {
     "data": {
      "text/plain": [
       "1.0"
      ]
     },
     "execution_count": 6,
     "metadata": {},
     "output_type": "execute_result"
    }
   ],
   "source": [
    "np.log10(10)"
   ]
  },
  {
   "cell_type": "code",
   "execution_count": 7,
   "id": "e8e3dc89-9ae8-490b-aeaa-97ec136ebd96",
   "metadata": {},
   "outputs": [
    {
     "data": {
      "text/plain": [
       "1.0"
      ]
     },
     "execution_count": 7,
     "metadata": {},
     "output_type": "execute_result"
    }
   ],
   "source": [
    "np.log(np.exp(1))"
   ]
  },
  {
   "cell_type": "code",
   "execution_count": 8,
   "id": "5b2aac5d-5567-4b5a-9e32-78f747447921",
   "metadata": {},
   "outputs": [
    {
     "data": {
      "text/plain": [
       "2.718281828459045"
      ]
     },
     "execution_count": 8,
     "metadata": {},
     "output_type": "execute_result"
    }
   ],
   "source": [
    "np.exp(1) # Euler sayısı "
   ]
  },
  {
   "cell_type": "markdown",
   "id": "516ea24d-ae03-4ba1-81a9-9c00356bc753",
   "metadata": {},
   "source": [
    "# Belirli bir modülden sadece belilrli özellikleri yükleme"
   ]
  },
  {
   "cell_type": "code",
   "execution_count": 10,
   "id": "0d1a0c79-7004-43d1-8a12-d84020bda266",
   "metadata": {},
   "outputs": [],
   "source": [
    "from numpy import sin, deg2rad # sadece bu iki fonksiyon yüklenir."
   ]
  },
  {
   "cell_type": "code",
   "execution_count": 11,
   "id": "bee137eb-5327-4780-9df3-edbdb9ed1556",
   "metadata": {},
   "outputs": [
    {
     "data": {
      "text/plain": [
       "0.49999999999999994"
      ]
     },
     "execution_count": 11,
     "metadata": {},
     "output_type": "execute_result"
    }
   ],
   "source": [
    "sin(deg2rad(30))"
   ]
  },
  {
   "cell_type": "code",
   "execution_count": 12,
   "id": "9d22e9a3-91ae-492a-a137-7dabe143f328",
   "metadata": {},
   "outputs": [
    {
     "data": {
      "text/plain": [
       "1.0"
      ]
     },
     "execution_count": 12,
     "metadata": {},
     "output_type": "execute_result"
    }
   ],
   "source": [
    "np.sin(np.deg2rad(30)) ** 2 + np.cos(np.deg2rad(30)) ** 2 "
   ]
  },
  {
   "cell_type": "markdown",
   "id": "af3bf2c9-57f8-4c39-8cf2-450f71a16cd9",
   "metadata": {},
   "source": [
    "## Matrix işlemleri "
   ]
  },
  {
   "cell_type": "code",
   "execution_count": 14,
   "id": "d2b19365",
   "metadata": {},
   "outputs": [],
   "source": [
    "data_list = [1,2,3]"
   ]
  },
  {
   "cell_type": "code",
   "execution_count": 15,
   "id": "4eca20c3",
   "metadata": {},
   "outputs": [
    {
     "data": {
      "text/plain": [
       "[1, 2, 3]"
      ]
     },
     "execution_count": 15,
     "metadata": {},
     "output_type": "execute_result"
    }
   ],
   "source": [
    "data_list"
   ]
  },
  {
   "cell_type": "code",
   "execution_count": 16,
   "id": "3baf688f",
   "metadata": {},
   "outputs": [],
   "source": [
    "import numpy as np"
   ]
  },
  {
   "cell_type": "code",
   "execution_count": 17,
   "id": "d21854d8",
   "metadata": {},
   "outputs": [],
   "source": [
    "arr = np.array(data_list)"
   ]
  },
  {
   "cell_type": "code",
   "execution_count": 18,
   "id": "dad4d8fa",
   "metadata": {},
   "outputs": [
    {
     "data": {
      "text/plain": [
       "array([1, 2, 3])"
      ]
     },
     "execution_count": 18,
     "metadata": {},
     "output_type": "execute_result"
    }
   ],
   "source": [
    "arr"
   ]
  },
  {
   "cell_type": "code",
   "execution_count": 19,
   "id": "461f92fe",
   "metadata": {},
   "outputs": [],
   "source": [
    "data_list2 = [[10,20,30],[40,50,60],[70,80,90]]"
   ]
  },
  {
   "cell_type": "code",
   "execution_count": 20,
   "id": "530f4b34",
   "metadata": {},
   "outputs": [],
   "source": [
    "arr2 = np.array(data_list2)"
   ]
  },
  {
   "cell_type": "code",
   "execution_count": 21,
   "id": "fc5c529c",
   "metadata": {},
   "outputs": [
    {
     "data": {
      "text/plain": [
       "array([[10, 20, 30],\n",
       "       [40, 50, 60],\n",
       "       [70, 80, 90]])"
      ]
     },
     "execution_count": 21,
     "metadata": {},
     "output_type": "execute_result"
    }
   ],
   "source": [
    "arr2"
   ]
  },
  {
   "cell_type": "code",
   "execution_count": 22,
   "id": "22aa25ed",
   "metadata": {},
   "outputs": [],
   "source": [
    "arr3 = np.array([1,2,3,4,5])"
   ]
  },
  {
   "cell_type": "code",
   "execution_count": 23,
   "id": "ea0a05f0",
   "metadata": {},
   "outputs": [
    {
     "data": {
      "text/plain": [
       "array([1, 2, 3, 4, 5])"
      ]
     },
     "execution_count": 23,
     "metadata": {},
     "output_type": "execute_result"
    }
   ],
   "source": [
    "arr3"
   ]
  },
  {
   "cell_type": "code",
   "execution_count": 24,
   "id": "834c7e21",
   "metadata": {},
   "outputs": [
    {
     "data": {
      "text/plain": [
       "1"
      ]
     },
     "execution_count": 24,
     "metadata": {},
     "output_type": "execute_result"
    }
   ],
   "source": [
    "arr3[0]"
   ]
  },
  {
   "cell_type": "code",
   "execution_count": 25,
   "id": "14d5d6a9",
   "metadata": {},
   "outputs": [
    {
     "data": {
      "text/plain": [
       "5"
      ]
     },
     "execution_count": 25,
     "metadata": {},
     "output_type": "execute_result"
    }
   ],
   "source": [
    "arr3[4]"
   ]
  },
  {
   "cell_type": "code",
   "execution_count": 26,
   "id": "fd843dd7",
   "metadata": {},
   "outputs": [
    {
     "data": {
      "text/plain": [
       "array([[10, 20, 30],\n",
       "       [40, 50, 60],\n",
       "       [70, 80, 90]])"
      ]
     },
     "execution_count": 26,
     "metadata": {},
     "output_type": "execute_result"
    }
   ],
   "source": [
    "arr2"
   ]
  },
  {
   "cell_type": "code",
   "execution_count": 27,
   "id": "3f22eabe",
   "metadata": {},
   "outputs": [
    {
     "data": {
      "text/plain": [
       "90"
      ]
     },
     "execution_count": 27,
     "metadata": {},
     "output_type": "execute_result"
    }
   ],
   "source": [
    "arr2[2,2] # 2. satır 2. sütun "
   ]
  },
  {
   "cell_type": "code",
   "execution_count": 28,
   "id": "40efb6dd",
   "metadata": {},
   "outputs": [
    {
     "data": {
      "text/plain": [
       "3"
      ]
     },
     "execution_count": 28,
     "metadata": {},
     "output_type": "execute_result"
    }
   ],
   "source": [
    "len(arr2)"
   ]
  },
  {
   "cell_type": "code",
   "execution_count": 29,
   "id": "21f6e551",
   "metadata": {},
   "outputs": [
    {
     "data": {
      "text/plain": [
       "numpy.ndarray"
      ]
     },
     "execution_count": 29,
     "metadata": {},
     "output_type": "execute_result"
    }
   ],
   "source": [
    "type(arr2)"
   ]
  },
  {
   "cell_type": "raw",
   "id": "5319dd10",
   "metadata": {},
   "source": [
    ".arange metodu"
   ]
  },
  {
   "cell_type": "code",
   "execution_count": 30,
   "id": "96bf03ce",
   "metadata": {},
   "outputs": [
    {
     "data": {
      "text/plain": [
       "array([10, 11, 12, 13, 14, 15, 16, 17, 18, 19])"
      ]
     },
     "execution_count": 30,
     "metadata": {},
     "output_type": "execute_result"
    }
   ],
   "source": [
    "np.arange(10,20) # 10'dan 20'ye kadar 20 dahil değil"
   ]
  },
  {
   "cell_type": "code",
   "execution_count": 31,
   "id": "457e326b",
   "metadata": {},
   "outputs": [
    {
     "data": {
      "text/plain": [
       "array([ 0,  5, 10, 15, 20, 25, 30, 35, 40, 45, 50, 55, 60, 65, 70, 75, 80,\n",
       "       85, 90, 95])"
      ]
     },
     "execution_count": 31,
     "metadata": {},
     "output_type": "execute_result"
    }
   ],
   "source": [
    "np.arange(0,100,5)"
   ]
  },
  {
   "cell_type": "raw",
   "id": "0f8996d7",
   "metadata": {},
   "source": [
    ".zeros metodu ve .ones metodu"
   ]
  },
  {
   "cell_type": "code",
   "execution_count": 32,
   "id": "9a0c0a46",
   "metadata": {},
   "outputs": [
    {
     "data": {
      "text/plain": [
       "array([0., 0., 0., 0., 0., 0., 0., 0., 0., 0.])"
      ]
     },
     "execution_count": 32,
     "metadata": {},
     "output_type": "execute_result"
    }
   ],
   "source": [
    "np.zeros(10)"
   ]
  },
  {
   "cell_type": "code",
   "execution_count": 33,
   "id": "7b9625a8",
   "metadata": {},
   "outputs": [
    {
     "data": {
      "text/plain": [
       "array([1., 1., 1., 1., 1., 1., 1., 1., 1., 1.])"
      ]
     },
     "execution_count": 33,
     "metadata": {},
     "output_type": "execute_result"
    }
   ],
   "source": [
    "np.ones(10)"
   ]
  },
  {
   "cell_type": "code",
   "execution_count": 34,
   "id": "0b2750d4",
   "metadata": {},
   "outputs": [
    {
     "data": {
      "text/plain": [
       "array([[0., 0.],\n",
       "       [0., 0.]])"
      ]
     },
     "execution_count": 34,
     "metadata": {},
     "output_type": "execute_result"
    }
   ],
   "source": [
    "np.zeros((2,2))"
   ]
  },
  {
   "cell_type": "code",
   "execution_count": 35,
   "id": "0e154fea",
   "metadata": {},
   "outputs": [
    {
     "data": {
      "text/plain": [
       "array([[0., 0., 0., 0., 0., 0., 0., 0.],\n",
       "       [0., 0., 0., 0., 0., 0., 0., 0.],\n",
       "       [0., 0., 0., 0., 0., 0., 0., 0.],\n",
       "       [0., 0., 0., 0., 0., 0., 0., 0.],\n",
       "       [0., 0., 0., 0., 0., 0., 0., 0.]])"
      ]
     },
     "execution_count": 35,
     "metadata": {},
     "output_type": "execute_result"
    }
   ],
   "source": [
    "np.zeros((5,8))"
   ]
  },
  {
   "cell_type": "code",
   "execution_count": 36,
   "id": "4110314b",
   "metadata": {},
   "outputs": [
    {
     "data": {
      "text/plain": [
       "array([[1., 1., 1.],\n",
       "       [1., 1., 1.],\n",
       "       [1., 1., 1.]])"
      ]
     },
     "execution_count": 36,
     "metadata": {},
     "output_type": "execute_result"
    }
   ],
   "source": [
    "np.ones((3,3))"
   ]
  },
  {
   "cell_type": "raw",
   "id": "3986d593",
   "metadata": {},
   "source": [
    ".linespace metodu"
   ]
  },
  {
   "cell_type": "markdown",
   "id": "d54edbf1",
   "metadata": {},
   "source": [
    "aşağıdaki örnekte, 0 ile 100 arasını 4 eşit parçaya bölerek 5 tane değer tutmayı sağlıyor. "
   ]
  },
  {
   "cell_type": "code",
   "execution_count": 38,
   "id": "91bbb430",
   "metadata": {},
   "outputs": [
    {
     "data": {
      "text/plain": [
       "array([  0.,  25.,  50.,  75., 100.])"
      ]
     },
     "execution_count": 38,
     "metadata": {},
     "output_type": "execute_result"
    }
   ],
   "source": [
    "np.linspace(0,100,5)"
   ]
  },
  {
   "cell_type": "code",
   "execution_count": 39,
   "id": "946e06d4",
   "metadata": {},
   "outputs": [
    {
     "data": {
      "text/plain": [
       "array([0. , 0.2, 0.4, 0.6, 0.8, 1. ])"
      ]
     },
     "execution_count": 39,
     "metadata": {},
     "output_type": "execute_result"
    }
   ],
   "source": [
    "np.linspace(0,1,6)"
   ]
  },
  {
   "cell_type": "markdown",
   "id": "2e04c68f",
   "metadata": {},
   "source": [
    "# birim matris"
   ]
  },
  {
   "cell_type": "code",
   "execution_count": 41,
   "id": "bb40e6b6",
   "metadata": {},
   "outputs": [
    {
     "data": {
      "text/plain": [
       "array([[1., 0., 0., 0., 0., 0.],\n",
       "       [0., 1., 0., 0., 0., 0.],\n",
       "       [0., 0., 1., 0., 0., 0.],\n",
       "       [0., 0., 0., 1., 0., 0.],\n",
       "       [0., 0., 0., 0., 1., 0.],\n",
       "       [0., 0., 0., 0., 0., 1.]])"
      ]
     },
     "execution_count": 41,
     "metadata": {},
     "output_type": "execute_result"
    }
   ],
   "source": [
    "np.eye(6)"
   ]
  },
  {
   "cell_type": "raw",
   "id": "c8d41c13",
   "metadata": {},
   "source": [
    ".random.randint metodu\n",
    "Başlangıç değeri dahil, so değer dahil olmadan rastgele sayı döner. "
   ]
  },
  {
   "cell_type": "code",
   "execution_count": 42,
   "id": "02774058",
   "metadata": {},
   "outputs": [
    {
     "data": {
      "text/plain": [
       "6"
      ]
     },
     "execution_count": 42,
     "metadata": {},
     "output_type": "execute_result"
    }
   ],
   "source": [
    "np.random.randint(0,10)"
   ]
  },
  {
   "cell_type": "code",
   "execution_count": 43,
   "id": "0cf8c4f4",
   "metadata": {},
   "outputs": [
    {
     "data": {
      "text/plain": [
       "13"
      ]
     },
     "execution_count": 43,
     "metadata": {},
     "output_type": "execute_result"
    }
   ],
   "source": [
    "np.random.randint(15) # (0,15) olarak algılar"
   ]
  },
  {
   "cell_type": "code",
   "execution_count": 44,
   "id": "7c811377",
   "metadata": {},
   "outputs": [
    {
     "data": {
      "text/plain": [
       "array([ 5, 15,  4, 19,  6])"
      ]
     },
     "execution_count": 44,
     "metadata": {},
     "output_type": "execute_result"
    }
   ],
   "source": [
    "np.random.randint(1, 20, 5) #1 ile 20 arasında 5 değer üretip np.array yaptı. "
   ]
  },
  {
   "cell_type": "markdown",
   "id": "c7c3149f-2b4e-478b-8818-a79b50d2896d",
   "metadata": {},
   "source": [
    "#### .randeom.rand metodu. tek parametre alır ve bu parametre değerine göre 0 ile 1 arası sayı üretir. "
   ]
  },
  {
   "cell_type": "code",
   "execution_count": 46,
   "id": "54064080",
   "metadata": {},
   "outputs": [
    {
     "data": {
      "text/plain": [
       "array([0.80944022, 0.52285661, 0.71026687, 0.636184  , 0.85050475])"
      ]
     },
     "execution_count": 46,
     "metadata": {},
     "output_type": "execute_result"
    }
   ],
   "source": [
    "np.random.rand(5) #0 ile 1 arasında 5 tane sayı üretti. "
   ]
  },
  {
   "cell_type": "raw",
   "id": "316a28b6",
   "metadata": {},
   "source": [
    ".random.randn metodu 0 etrafında Gaussian Distribution yaparak değer oluşturur. \n",
    "rand metodundan farkı (-) değerlerin de çıkamasıdır. "
   ]
  },
  {
   "cell_type": "code",
   "execution_count": 47,
   "id": "fe6a47a3",
   "metadata": {},
   "outputs": [
    {
     "data": {
      "text/plain": [
       "array([-0.53157847, -0.62760157, -1.03727145,  0.13970771, -0.17687475])"
      ]
     },
     "execution_count": 47,
     "metadata": {},
     "output_type": "execute_result"
    }
   ],
   "source": [
    "np.random.randn(5)"
   ]
  },
  {
   "cell_type": "markdown",
   "id": "40c42c7e-d441-4de1-bfcd-f5a468719b0e",
   "metadata": {},
   "source": [
    "### .reshape metodu"
   ]
  },
  {
   "cell_type": "code",
   "execution_count": 49,
   "id": "257dad4b",
   "metadata": {},
   "outputs": [],
   "source": [
    "arr = np.arange(25)"
   ]
  },
  {
   "cell_type": "code",
   "execution_count": 50,
   "id": "bd097594",
   "metadata": {},
   "outputs": [
    {
     "data": {
      "text/plain": [
       "array([ 0,  1,  2,  3,  4,  5,  6,  7,  8,  9, 10, 11, 12, 13, 14, 15, 16,\n",
       "       17, 18, 19, 20, 21, 22, 23, 24])"
      ]
     },
     "execution_count": 50,
     "metadata": {},
     "output_type": "execute_result"
    }
   ],
   "source": [
    "arr # dizi eleman sayısı ile matris botyutu tam uyuşmalı, eksik ya da fazla olamaz. "
   ]
  },
  {
   "cell_type": "code",
   "execution_count": 51,
   "id": "f7c86a46",
   "metadata": {},
   "outputs": [
    {
     "data": {
      "text/plain": [
       "array([[ 0,  1,  2,  3,  4],\n",
       "       [ 5,  6,  7,  8,  9],\n",
       "       [10, 11, 12, 13, 14],\n",
       "       [15, 16, 17, 18, 19],\n",
       "       [20, 21, 22, 23, 24]])"
      ]
     },
     "execution_count": 51,
     "metadata": {},
     "output_type": "execute_result"
    }
   ],
   "source": [
    "arr.reshape(5,5)"
   ]
  },
  {
   "cell_type": "code",
   "execution_count": 52,
   "id": "94edf7a4",
   "metadata": {},
   "outputs": [],
   "source": [
    "arr = np.random.randint(1,100,10)"
   ]
  },
  {
   "cell_type": "code",
   "execution_count": 53,
   "id": "dd63da1e",
   "metadata": {},
   "outputs": [
    {
     "data": {
      "text/plain": [
       "array([ 2, 24, 10, 51, 83, 43, 66, 89, 46, 38])"
      ]
     },
     "execution_count": 53,
     "metadata": {},
     "output_type": "execute_result"
    }
   ],
   "source": [
    "arr"
   ]
  },
  {
   "cell_type": "code",
   "execution_count": 54,
   "id": "1b037af5",
   "metadata": {},
   "outputs": [
    {
     "data": {
      "text/plain": [
       "89"
      ]
     },
     "execution_count": 54,
     "metadata": {},
     "output_type": "execute_result"
    }
   ],
   "source": [
    "arr.max()"
   ]
  },
  {
   "cell_type": "code",
   "execution_count": 55,
   "id": "fb3cb0e0",
   "metadata": {},
   "outputs": [
    {
     "data": {
      "text/plain": [
       "2"
      ]
     },
     "execution_count": 55,
     "metadata": {},
     "output_type": "execute_result"
    }
   ],
   "source": [
    "arr.min()"
   ]
  },
  {
   "cell_type": "code",
   "execution_count": 56,
   "id": "a48936c7",
   "metadata": {},
   "outputs": [
    {
     "data": {
      "text/plain": [
       "452"
      ]
     },
     "execution_count": 56,
     "metadata": {},
     "output_type": "execute_result"
    }
   ],
   "source": [
    "arr.sum() #arr elemanlarının toplamı "
   ]
  },
  {
   "cell_type": "code",
   "execution_count": 57,
   "id": "4d33bfd1",
   "metadata": {},
   "outputs": [
    {
     "data": {
      "text/plain": [
       "45.2"
      ]
     },
     "execution_count": 57,
     "metadata": {},
     "output_type": "execute_result"
    }
   ],
   "source": [
    "arr.mean() # ortalaması "
   ]
  },
  {
   "cell_type": "raw",
   "id": "0082ac77",
   "metadata": {},
   "source": [
    "max eleman hangi indekste ? "
   ]
  },
  {
   "cell_type": "code",
   "execution_count": 58,
   "id": "994425fc",
   "metadata": {},
   "outputs": [
    {
     "data": {
      "text/plain": [
       "7"
      ]
     },
     "execution_count": 58,
     "metadata": {},
     "output_type": "execute_result"
    }
   ],
   "source": [
    "arr.argmax()"
   ]
  },
  {
   "cell_type": "code",
   "execution_count": 59,
   "id": "7544b07b",
   "metadata": {},
   "outputs": [
    {
     "data": {
      "text/plain": [
       "0"
      ]
     },
     "execution_count": 59,
     "metadata": {},
     "output_type": "execute_result"
    }
   ],
   "source": [
    "arr.argmin()"
   ]
  },
  {
   "cell_type": "markdown",
   "id": "9c5b6824",
   "metadata": {},
   "source": [
    "# Determinant hesaplama"
   ]
  },
  {
   "cell_type": "code",
   "execution_count": 61,
   "id": "7f1cfa10",
   "metadata": {},
   "outputs": [],
   "source": [
    "arr = np.random.randint(1, 100, 25)"
   ]
  },
  {
   "cell_type": "code",
   "execution_count": 62,
   "id": "d2f96bb9",
   "metadata": {},
   "outputs": [
    {
     "data": {
      "text/plain": [
       "array([36, 95, 94, 55, 35, 29, 75, 69, 27, 75, 51, 67, 85, 52, 30, 62,  9,\n",
       "       88, 53, 95, 50, 86, 96, 42, 88])"
      ]
     },
     "execution_count": 62,
     "metadata": {},
     "output_type": "execute_result"
    }
   ],
   "source": [
    "arr"
   ]
  },
  {
   "cell_type": "code",
   "execution_count": 63,
   "id": "f2c8f345",
   "metadata": {},
   "outputs": [
    {
     "data": {
      "text/plain": [
       "array([[36, 95, 94, 55, 35],\n",
       "       [29, 75, 69, 27, 75],\n",
       "       [51, 67, 85, 52, 30],\n",
       "       [62,  9, 88, 53, 95],\n",
       "       [50, 86, 96, 42, 88]])"
      ]
     },
     "execution_count": 63,
     "metadata": {},
     "output_type": "execute_result"
    }
   ],
   "source": [
    "arrshape = arr.reshape(5,5)\n",
    "arrshape"
   ]
  },
  {
   "cell_type": "code",
   "execution_count": 64,
   "id": "62d60a8c",
   "metadata": {},
   "outputs": [
    {
     "data": {
      "text/plain": [
       "-13610075.999999957"
      ]
     },
     "execution_count": 64,
     "metadata": {},
     "output_type": "execute_result"
    }
   ],
   "source": [
    "np.linalg.det(arrshape)"
   ]
  },
  {
   "cell_type": "code",
   "execution_count": 65,
   "id": "30055cb4",
   "metadata": {},
   "outputs": [
    {
     "data": {
      "text/plain": [
       "array([[10, 20],\n",
       "       [ 1,  2]])"
      ]
     },
     "execution_count": 65,
     "metadata": {},
     "output_type": "execute_result"
    }
   ],
   "source": [
    "arr2 = np.array([[10,20],[1,2]])\n",
    "arr2"
   ]
  },
  {
   "cell_type": "code",
   "execution_count": 66,
   "id": "71671293",
   "metadata": {},
   "outputs": [
    {
     "data": {
      "text/plain": [
       "0.0"
      ]
     },
     "execution_count": 66,
     "metadata": {},
     "output_type": "execute_result"
    }
   ],
   "source": [
    "np.linalg.det(arr2)"
   ]
  },
  {
   "cell_type": "code",
   "execution_count": 67,
   "id": "a4f67409",
   "metadata": {},
   "outputs": [
    {
     "data": {
      "text/plain": [
       "0"
      ]
     },
     "execution_count": 67,
     "metadata": {},
     "output_type": "execute_result"
    }
   ],
   "source": [
    "round(np.linalg.det(arr2))"
   ]
  },
  {
   "cell_type": "markdown",
   "id": "213210c9",
   "metadata": {},
   "source": [
    "# array lerin indekslenmesi ve parçalanması "
   ]
  },
  {
   "cell_type": "code",
   "execution_count": 69,
   "id": "16a3290f",
   "metadata": {},
   "outputs": [
    {
     "data": {
      "text/plain": [
       "array([1, 2, 3, 4, 5, 6, 7, 8, 9])"
      ]
     },
     "execution_count": 69,
     "metadata": {},
     "output_type": "execute_result"
    }
   ],
   "source": [
    "arr = np.arange(1,10)\n",
    "arr"
   ]
  },
  {
   "cell_type": "code",
   "execution_count": 70,
   "id": "57fe8f27",
   "metadata": {},
   "outputs": [
    {
     "data": {
      "text/plain": [
       "3"
      ]
     },
     "execution_count": 70,
     "metadata": {},
     "output_type": "execute_result"
    }
   ],
   "source": [
    "arr[2]"
   ]
  },
  {
   "cell_type": "code",
   "execution_count": 71,
   "id": "683f5fd6",
   "metadata": {},
   "outputs": [
    {
     "data": {
      "text/plain": [
       "array([2, 3, 4])"
      ]
     },
     "execution_count": 71,
     "metadata": {},
     "output_type": "execute_result"
    }
   ],
   "source": [
    "arr[1:4]"
   ]
  },
  {
   "cell_type": "code",
   "execution_count": 72,
   "id": "2c01690b",
   "metadata": {},
   "outputs": [
    {
     "data": {
      "text/plain": [
       "array([1, 2, 3, 4])"
      ]
     },
     "execution_count": 72,
     "metadata": {},
     "output_type": "execute_result"
    }
   ],
   "source": [
    "arr[:4]"
   ]
  },
  {
   "cell_type": "code",
   "execution_count": 73,
   "id": "5144caa9",
   "metadata": {},
   "outputs": [
    {
     "data": {
      "text/plain": [
       "array([1, 3, 5, 7, 9])"
      ]
     },
     "execution_count": 73,
     "metadata": {},
     "output_type": "execute_result"
    }
   ],
   "source": [
    "arr[::2]"
   ]
  },
  {
   "cell_type": "code",
   "execution_count": 74,
   "id": "79c6b021",
   "metadata": {},
   "outputs": [
    {
     "data": {
      "text/plain": [
       "array([1, 2, 3, 4, 5, 6, 7, 8, 9])"
      ]
     },
     "execution_count": 74,
     "metadata": {},
     "output_type": "execute_result"
    }
   ],
   "source": [
    "arr"
   ]
  },
  {
   "cell_type": "code",
   "execution_count": 75,
   "id": "0cd8a1b7",
   "metadata": {},
   "outputs": [
    {
     "data": {
      "text/plain": [
       "array([1, 2, 3])"
      ]
     },
     "execution_count": 75,
     "metadata": {},
     "output_type": "execute_result"
    }
   ],
   "source": [
    "arr[:3]"
   ]
  },
  {
   "cell_type": "code",
   "execution_count": 76,
   "id": "ed39d60c",
   "metadata": {},
   "outputs": [],
   "source": [
    "arr[:3] = 36"
   ]
  },
  {
   "cell_type": "code",
   "execution_count": 77,
   "id": "d7108d0a",
   "metadata": {},
   "outputs": [
    {
     "data": {
      "text/plain": [
       "array([36, 36, 36,  4,  5,  6,  7,  8,  9])"
      ]
     },
     "execution_count": 77,
     "metadata": {},
     "output_type": "execute_result"
    }
   ],
   "source": [
    "arr"
   ]
  },
  {
   "cell_type": "code",
   "execution_count": 78,
   "id": "1f75ad1b",
   "metadata": {},
   "outputs": [
    {
     "data": {
      "text/plain": [
       "array([1, 2, 3, 4, 5, 6, 7, 8, 9])"
      ]
     },
     "execution_count": 78,
     "metadata": {},
     "output_type": "execute_result"
    }
   ],
   "source": [
    "arr = np.arange(1,10)\n",
    "arr"
   ]
  },
  {
   "cell_type": "code",
   "execution_count": 79,
   "id": "3cd0afce",
   "metadata": {},
   "outputs": [
    {
     "data": {
      "text/plain": [
       "array([1, 2, 3, 4, 5, 6, 7, 8, 9])"
      ]
     },
     "execution_count": 79,
     "metadata": {},
     "output_type": "execute_result"
    }
   ],
   "source": [
    "arr2 = arr\n",
    "arr2"
   ]
  },
  {
   "cell_type": "code",
   "execution_count": 80,
   "id": "d8f1a985",
   "metadata": {},
   "outputs": [
    {
     "data": {
      "text/plain": [
       "array([100, 100, 100,   4,   5,   6,   7,   8,   9])"
      ]
     },
     "execution_count": 80,
     "metadata": {},
     "output_type": "execute_result"
    }
   ],
   "source": [
    "arr2[:3] = 100\n",
    "arr2"
   ]
  },
  {
   "cell_type": "code",
   "execution_count": 81,
   "id": "2abb8d68",
   "metadata": {},
   "outputs": [
    {
     "data": {
      "text/plain": [
       "array([100, 100, 100,   4,   5,   6,   7,   8,   9])"
      ]
     },
     "execution_count": 81,
     "metadata": {},
     "output_type": "execute_result"
    }
   ],
   "source": [
    "arr #arr2' dek ideğişiklik arr' yi etkiledi. Sebebi bellekten okuma ! "
   ]
  },
  {
   "cell_type": "markdown",
   "id": "cc04de75",
   "metadata": {},
   "source": [
    "değişiklik olsun istemiyorsak copy metodu kullanılmalı "
   ]
  },
  {
   "cell_type": "code",
   "execution_count": 83,
   "id": "5884709d",
   "metadata": {},
   "outputs": [
    {
     "data": {
      "text/plain": [
       "array([1, 2, 3, 4, 5, 6, 7, 8, 9])"
      ]
     },
     "execution_count": 83,
     "metadata": {},
     "output_type": "execute_result"
    }
   ],
   "source": [
    "arr= np.arange(1,10)\n",
    "arr"
   ]
  },
  {
   "cell_type": "code",
   "execution_count": 84,
   "id": "c86edf1a",
   "metadata": {},
   "outputs": [
    {
     "data": {
      "text/plain": [
       "array([1, 2, 3, 4, 5, 6, 7, 8, 9])"
      ]
     },
     "execution_count": 84,
     "metadata": {},
     "output_type": "execute_result"
    }
   ],
   "source": [
    "arr2 = arr.copy()\n",
    "arr2"
   ]
  },
  {
   "cell_type": "code",
   "execution_count": 85,
   "id": "2c63b3c9",
   "metadata": {},
   "outputs": [
    {
     "data": {
      "text/plain": [
       "array([1000, 1000, 1000,    4,    5,    6,    7,    8,    9])"
      ]
     },
     "execution_count": 85,
     "metadata": {},
     "output_type": "execute_result"
    }
   ],
   "source": [
    "arr2[:3] = 1000\n",
    "arr2"
   ]
  },
  {
   "cell_type": "code",
   "execution_count": 86,
   "id": "ef8cd47e",
   "metadata": {},
   "outputs": [
    {
     "data": {
      "text/plain": [
       "array([1, 2, 3, 4, 5, 6, 7, 8, 9])"
      ]
     },
     "execution_count": 86,
     "metadata": {},
     "output_type": "execute_result"
    }
   ],
   "source": [
    "arr"
   ]
  },
  {
   "cell_type": "markdown",
   "id": "d5ca0f76",
   "metadata": {},
   "source": [
    "# Çok boyutlu matrisler, parçalama, indeksleme"
   ]
  },
  {
   "cell_type": "code",
   "execution_count": 88,
   "id": "a64d1691",
   "metadata": {},
   "outputs": [
    {
     "data": {
      "text/plain": [
       "array([ 1,  2,  3,  4,  5,  6,  7,  8,  9, 10, 11, 12, 13, 14, 15, 16, 17,\n",
       "       18, 19, 20])"
      ]
     },
     "execution_count": 88,
     "metadata": {},
     "output_type": "execute_result"
    }
   ],
   "source": [
    "arr = np.arange(1,21)\n",
    "arr"
   ]
  },
  {
   "cell_type": "code",
   "execution_count": 89,
   "id": "45d69fad",
   "metadata": {},
   "outputs": [
    {
     "data": {
      "text/plain": [
       "array([[ 1,  2,  3,  4],\n",
       "       [ 5,  6,  7,  8],\n",
       "       [ 9, 10, 11, 12],\n",
       "       [13, 14, 15, 16],\n",
       "       [17, 18, 19, 20]])"
      ]
     },
     "execution_count": 89,
     "metadata": {},
     "output_type": "execute_result"
    }
   ],
   "source": [
    "arr.reshape(5,4)"
   ]
  },
  {
   "cell_type": "code",
   "execution_count": 90,
   "id": "e1efcb80",
   "metadata": {},
   "outputs": [
    {
     "data": {
      "text/plain": [
       "array([ 1,  2,  3,  4,  5,  6,  7,  8,  9, 10, 11, 12, 13, 14, 15, 16, 17,\n",
       "       18, 19, 20])"
      ]
     },
     "execution_count": 90,
     "metadata": {},
     "output_type": "execute_result"
    }
   ],
   "source": [
    "arr"
   ]
  },
  {
   "cell_type": "code",
   "execution_count": 91,
   "id": "b8725f17",
   "metadata": {},
   "outputs": [
    {
     "data": {
      "text/plain": [
       "array([[ 1,  2,  3,  4],\n",
       "       [ 5,  6,  7,  8],\n",
       "       [ 9, 10, 11, 12],\n",
       "       [13, 14, 15, 16],\n",
       "       [17, 18, 19, 20]])"
      ]
     },
     "execution_count": 91,
     "metadata": {},
     "output_type": "execute_result"
    }
   ],
   "source": [
    "arr = arr.reshape(5,4)\n",
    "arr"
   ]
  },
  {
   "cell_type": "code",
   "execution_count": 92,
   "id": "3dfa2339",
   "metadata": {},
   "outputs": [
    {
     "data": {
      "text/plain": [
       "1"
      ]
     },
     "execution_count": 92,
     "metadata": {},
     "output_type": "execute_result"
    }
   ],
   "source": [
    "arr[0,0]"
   ]
  },
  {
   "cell_type": "code",
   "execution_count": 93,
   "id": "7843e9e0",
   "metadata": {},
   "outputs": [
    {
     "data": {
      "text/plain": [
       "array([[ 1,  2],\n",
       "       [ 5,  6],\n",
       "       [ 9, 10],\n",
       "       [13, 14],\n",
       "       [17, 18]])"
      ]
     },
     "execution_count": 93,
     "metadata": {},
     "output_type": "execute_result"
    }
   ],
   "source": [
    "arr[:,:2]"
   ]
  },
  {
   "cell_type": "markdown",
   "id": "5f2bee5a",
   "metadata": {},
   "source": [
    "Virgünden öncesi satırlar için, tümünü aldık, virgülden sonrası sütunlar için 2' ye kadar 2 dahil değil. "
   ]
  },
  {
   "cell_type": "code",
   "execution_count": 95,
   "id": "5768adbd",
   "metadata": {},
   "outputs": [
    {
     "data": {
      "text/plain": [
       "array([[1, 2, 3, 4],\n",
       "       [5, 6, 7, 8]])"
      ]
     },
     "execution_count": 95,
     "metadata": {},
     "output_type": "execute_result"
    }
   ],
   "source": [
    "arr[:2,:]"
   ]
  },
  {
   "cell_type": "code",
   "execution_count": 96,
   "id": "a7ef665b",
   "metadata": {},
   "outputs": [
    {
     "data": {
      "text/plain": [
       "array([[1, 2, 3, 4],\n",
       "       [5, 6, 7, 8]])"
      ]
     },
     "execution_count": 96,
     "metadata": {},
     "output_type": "execute_result"
    }
   ],
   "source": [
    "arr[:2]"
   ]
  },
  {
   "cell_type": "markdown",
   "id": "a33b6530",
   "metadata": {},
   "source": [
    "# array'leri filtreleme"
   ]
  },
  {
   "cell_type": "code",
   "execution_count": 98,
   "id": "41c455de",
   "metadata": {},
   "outputs": [
    {
     "data": {
      "text/plain": [
       "array([[False, False, False, False],\n",
       "       [False,  True,  True,  True],\n",
       "       [ True,  True,  True,  True],\n",
       "       [ True,  True,  True,  True],\n",
       "       [ True,  True,  True,  True]])"
      ]
     },
     "execution_count": 98,
     "metadata": {},
     "output_type": "execute_result"
    }
   ],
   "source": [
    "arr > 5"
   ]
  },
  {
   "cell_type": "code",
   "execution_count": 99,
   "id": "c6b75e48",
   "metadata": {},
   "outputs": [
    {
     "data": {
      "text/plain": [
       "array([ 1,  2,  3,  4,  5,  6,  7,  8,  9, 10])"
      ]
     },
     "execution_count": 99,
     "metadata": {},
     "output_type": "execute_result"
    }
   ],
   "source": [
    "arr = np.arange(1,11)\n",
    "arr"
   ]
  },
  {
   "cell_type": "code",
   "execution_count": 100,
   "id": "d1b9803b",
   "metadata": {},
   "outputs": [
    {
     "data": {
      "text/plain": [
       "array([False, False, False, False, False,  True,  True,  True,  True,\n",
       "        True])"
      ]
     },
     "execution_count": 100,
     "metadata": {},
     "output_type": "execute_result"
    }
   ],
   "source": [
    "booleanArray = arr > 5\n",
    "booleanArray"
   ]
  },
  {
   "cell_type": "code",
   "execution_count": 101,
   "id": "2214aa3c",
   "metadata": {},
   "outputs": [
    {
     "data": {
      "text/plain": [
       "array([ 6,  7,  8,  9, 10])"
      ]
     },
     "execution_count": 101,
     "metadata": {},
     "output_type": "execute_result"
    }
   ],
   "source": [
    "arr[booleanArray]"
   ]
  },
  {
   "cell_type": "code",
   "execution_count": 102,
   "id": "08ab0c22",
   "metadata": {},
   "outputs": [
    {
     "data": {
      "text/plain": [
       "array([ 7,  8,  9, 10])"
      ]
     },
     "execution_count": 102,
     "metadata": {},
     "output_type": "execute_result"
    }
   ],
   "source": [
    "arr[arr>6]"
   ]
  },
  {
   "cell_type": "markdown",
   "id": "d01e84f8",
   "metadata": {},
   "source": [
    "# numpy arraylerinin temel operasyonları"
   ]
  },
  {
   "cell_type": "code",
   "execution_count": 104,
   "id": "d4e0831c",
   "metadata": {},
   "outputs": [],
   "source": [
    "arr1 = np.array([10,20,30,40,50,60])\n",
    "arr2 = np.array([2,3,4,5,6,7])"
   ]
  },
  {
   "cell_type": "code",
   "execution_count": 105,
   "id": "07e41677",
   "metadata": {},
   "outputs": [
    {
     "data": {
      "text/plain": [
       "array([12, 23, 34, 45, 56, 67])"
      ]
     },
     "execution_count": 105,
     "metadata": {},
     "output_type": "execute_result"
    }
   ],
   "source": [
    "arr1 + arr2"
   ]
  },
  {
   "cell_type": "code",
   "execution_count": 106,
   "id": "3434b563",
   "metadata": {},
   "outputs": [
    {
     "data": {
      "text/plain": [
       "array([ 8, 17, 26, 35, 44, 53])"
      ]
     },
     "execution_count": 106,
     "metadata": {},
     "output_type": "execute_result"
    }
   ],
   "source": [
    "arr1 - arr2"
   ]
  },
  {
   "cell_type": "code",
   "execution_count": 107,
   "id": "47e4072a",
   "metadata": {},
   "outputs": [
    {
     "data": {
      "text/plain": [
       "array([ 20,  60, 120, 200, 300, 420])"
      ]
     },
     "execution_count": 107,
     "metadata": {},
     "output_type": "execute_result"
    }
   ],
   "source": [
    "arr1 * arr2 #inner product - skaler çarpma"
   ]
  },
  {
   "cell_type": "code",
   "execution_count": 108,
   "id": "393d7048",
   "metadata": {},
   "outputs": [
    {
     "data": {
      "text/plain": [
       "array([20, 30, 40, 50, 60, 70])"
      ]
     },
     "execution_count": 108,
     "metadata": {},
     "output_type": "execute_result"
    }
   ],
   "source": [
    "arr1 + 10"
   ]
  },
  {
   "cell_type": "code",
   "execution_count": 109,
   "id": "7e8db910",
   "metadata": {},
   "outputs": [
    {
     "data": {
      "text/plain": [
       "array([-2, -1,  0,  1,  2,  3])"
      ]
     },
     "execution_count": 109,
     "metadata": {},
     "output_type": "execute_result"
    }
   ],
   "source": [
    "arr2 - 4"
   ]
  },
  {
   "cell_type": "code",
   "execution_count": 110,
   "id": "368bfc36",
   "metadata": {},
   "outputs": [
    {
     "data": {
      "text/plain": [
       "array([ 1.66666667,  3.33333333,  5.        ,  6.66666667,  8.33333333,\n",
       "       10.        ])"
      ]
     },
     "execution_count": 110,
     "metadata": {},
     "output_type": "execute_result"
    }
   ],
   "source": [
    "arr1 / 6"
   ]
  },
  {
   "cell_type": "markdown",
   "id": "84447e92-ba7b-4057-873e-70c5ff39f964",
   "metadata": {},
   "source": [
    "### .sqrt()"
   ]
  },
  {
   "cell_type": "code",
   "execution_count": 113,
   "id": "821c9a7d",
   "metadata": {},
   "outputs": [
    {
     "data": {
      "text/plain": [
       "array([3.16227766, 4.47213595, 5.47722558, 6.32455532, 7.07106781,\n",
       "       7.74596669])"
      ]
     },
     "execution_count": 113,
     "metadata": {},
     "output_type": "execute_result"
    }
   ],
   "source": [
    "np.sqrt(arr1)"
   ]
  },
  {
   "cell_type": "code",
   "execution_count": null,
   "id": "8204e7a6",
   "metadata": {},
   "outputs": [],
   "source": []
  },
  {
   "cell_type": "markdown",
   "id": "2a9d0a77-85b9-4975-879b-20c6d0612e4c",
   "metadata": {},
   "source": [
    "https://numpy.org/doc/1.24/reference/routines.linalg.html#module-numpy.linalg"
   ]
  },
  {
   "cell_type": "code",
   "execution_count": null,
   "id": "105f0a93",
   "metadata": {},
   "outputs": [],
   "source": []
  }
 ],
 "metadata": {
  "kernelspec": {
   "display_name": "Python 3 (ipykernel)",
   "language": "python",
   "name": "python3"
  },
  "language_info": {
   "codemirror_mode": {
    "name": "ipython",
    "version": 3
   },
   "file_extension": ".py",
   "mimetype": "text/x-python",
   "name": "python",
   "nbconvert_exporter": "python",
   "pygments_lexer": "ipython3",
   "version": "3.12.4"
  }
 },
 "nbformat": 4,
 "nbformat_minor": 5
}
