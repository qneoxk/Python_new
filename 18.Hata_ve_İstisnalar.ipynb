{
 "cells": [
  {
   "cell_type": "markdown",
   "id": "531f4b05-7b1b-4431-ba10-ec9bc11da50f",
   "metadata": {},
   "source": [
    "# Hatalar ve İstisnalar"
   ]
  },
  {
   "cell_type": "code",
   "execution_count": 2,
   "id": "4e58e049-47ca-4162-b525-f9a4aa5008ee",
   "metadata": {},
   "outputs": [
    {
     "ename": "NameError",
     "evalue": "name 'a' is not defined",
     "output_type": "error",
     "traceback": [
      "\u001b[1;31m---------------------------------------------------------------------------\u001b[0m",
      "\u001b[1;31mNameError\u001b[0m                                 Traceback (most recent call last)",
      "Cell \u001b[1;32mIn[2], line 1\u001b[0m\n\u001b[1;32m----> 1\u001b[0m \u001b[38;5;28mprint\u001b[39m(a)\n",
      "\u001b[1;31mNameError\u001b[0m: name 'a' is not defined"
     ]
    }
   ],
   "source": [
    "print(a) # tnaımlanmamış değişken"
   ]
  },
  {
   "cell_type": "code",
   "execution_count": 3,
   "id": "e95b867b-27f3-4ff8-a532-caacddd8638e",
   "metadata": {},
   "outputs": [
    {
     "ename": "NameError",
     "evalue": "name 'ab2345' is not defined",
     "output_type": "error",
     "traceback": [
      "\u001b[1;31m---------------------------------------------------------------------------\u001b[0m",
      "\u001b[1;31mNameError\u001b[0m                                 Traceback (most recent call last)",
      "Cell \u001b[1;32mIn[3], line 1\u001b[0m\n\u001b[1;32m----> 1\u001b[0m \u001b[38;5;28mint\u001b[39m(ab2345)\n",
      "\u001b[1;31mNameError\u001b[0m: name 'ab2345' is not defined"
     ]
    }
   ],
   "source": [
    "int(ab2345) # value error"
   ]
  },
  {
   "cell_type": "code",
   "execution_count": 4,
   "id": "bbf3b2a6-4b27-4709-a613-88516788bb0a",
   "metadata": {},
   "outputs": [
    {
     "ename": "ZeroDivisionError",
     "evalue": "division by zero",
     "output_type": "error",
     "traceback": [
      "\u001b[1;31m---------------------------------------------------------------------------\u001b[0m",
      "\u001b[1;31mZeroDivisionError\u001b[0m                         Traceback (most recent call last)",
      "Cell \u001b[1;32mIn[4], line 1\u001b[0m\n\u001b[1;32m----> 1\u001b[0m \u001b[38;5;241m2\u001b[39m \u001b[38;5;241m/\u001b[39m \u001b[38;5;241m0\u001b[39m\n",
      "\u001b[1;31mZeroDivisionError\u001b[0m: division by zero"
     ]
    }
   ],
   "source": [
    "2 / 0  # bir sayının sıfıra bölünmesi"
   ]
  },
  {
   "cell_type": "code",
   "execution_count": 6,
   "id": "440a01b7-3ab3-4874-b3df-f09aa4332669",
   "metadata": {},
   "outputs": [
    {
     "ename": "SyntaxError",
     "evalue": "invalid syntax. Perhaps you forgot a comma? (457399162.py, line 1)",
     "output_type": "error",
     "traceback": [
      "\u001b[1;36m  Cell \u001b[1;32mIn[6], line 1\u001b[1;36m\u001b[0m\n\u001b[1;33m    print(\"deneme\" 1234)\u001b[0m\n\u001b[1;37m          ^\u001b[0m\n\u001b[1;31mSyntaxError\u001b[0m\u001b[1;31m:\u001b[0m invalid syntax. Perhaps you forgot a comma?\n"
     ]
    }
   ],
   "source": [
    "print(\"deneme\" 1234) # syntax error"
   ]
  },
  {
   "cell_type": "markdown",
   "id": "80211468-0040-4ada-b525-46e5e7fd78b2",
   "metadata": {},
   "source": [
    "# Let's Go"
   ]
  },
  {
   "cell_type": "code",
   "execution_count": 7,
   "id": "e34507ad-bf57-4d03-b6ca-f67ca4025067",
   "metadata": {},
   "outputs": [
    {
     "ename": "ValueError",
     "evalue": "invalid literal for int() with base 10: 'a12345'",
     "output_type": "error",
     "traceback": [
      "\u001b[1;31m---------------------------------------------------------------------------\u001b[0m",
      "\u001b[1;31mValueError\u001b[0m                                Traceback (most recent call last)",
      "Cell \u001b[1;32mIn[7], line 1\u001b[0m\n\u001b[1;32m----> 1\u001b[0m a \u001b[38;5;241m=\u001b[39m \u001b[38;5;28mint\u001b[39m(\u001b[38;5;124m\"\u001b[39m\u001b[38;5;124ma12345\u001b[39m\u001b[38;5;124m\"\u001b[39m)\n",
      "\u001b[1;31mValueError\u001b[0m: invalid literal for int() with base 10: 'a12345'"
     ]
    }
   ],
   "source": [
    "a = int(\"a12345\")"
   ]
  },
  {
   "cell_type": "code",
   "execution_count": 14,
   "id": "048710f6-4cfa-4ee1-b590-abf1147034b0",
   "metadata": {},
   "outputs": [
    {
     "name": "stdout",
     "output_type": "stream",
     "text": [
      "bir hata oluştu\n",
      "Kod blokları bitti\n"
     ]
    }
   ],
   "source": [
    "try:\n",
    "    a = int(\"a12345\")\n",
    "    print(\"code is here\")\n",
    "    print(\"a = {}\".format(a))\n",
    "except:\n",
    "    print(\"bir hata oluştu\")\n",
    "print(\"Kod blokları bitti\")"
   ]
  },
  {
   "cell_type": "code",
   "execution_count": 15,
   "id": "6d78a527-a41f-4e40-aa61-587906fd03ec",
   "metadata": {},
   "outputs": [
    {
     "name": "stdout",
     "output_type": "stream",
     "text": [
      "code is here\n",
      "a = 12345\n",
      "Kod blokları bitti\n"
     ]
    }
   ],
   "source": [
    "try:\n",
    "    a = int(\"12345\")\n",
    "    print(\"code is here\")\n",
    "    print(\"a = {}\".format(a))\n",
    "except:\n",
    "    print(\"bir hata oluştu\")\n",
    "print(\"Kod blokları bitti\")"
   ]
  },
  {
   "cell_type": "code",
   "execution_count": 17,
   "id": "8fd47812-8691-4c9b-ab76-69297b5e3d67",
   "metadata": {},
   "outputs": [
    {
     "name": "stdout",
     "output_type": "stream",
     "text": [
      "bir hata oluştu\n",
      "Kod blokları bitti\n"
     ]
    }
   ],
   "source": [
    "try:\n",
    "    a = int(\"A12345\")\n",
    "    print(\"code is here\")\n",
    "    print(\"a = {}\".format(a))\n",
    "except ValueError:\n",
    "    print(\"bir hata oluştu\")\n",
    "print(\"Kod blokları bitti\")"
   ]
  },
  {
   "cell_type": "code",
   "execution_count": null,
   "id": "724bb2a8-bf90-47c2-b5a4-f4b7fadc7019",
   "metadata": {},
   "outputs": [],
   "source": []
  },
  {
   "cell_type": "code",
   "execution_count": 1,
   "id": "b7ba0c04-473b-4af9-8506-3f8ffa60a9dd",
   "metadata": {},
   "outputs": [
    {
     "ename": "ZeroDivisionError",
     "evalue": "division by zero",
     "output_type": "error",
     "traceback": [
      "\u001b[1;31m---------------------------------------------------------------------------\u001b[0m",
      "\u001b[1;31mZeroDivisionError\u001b[0m                         Traceback (most recent call last)",
      "Cell \u001b[1;32mIn[1], line 1\u001b[0m\n\u001b[1;32m----> 1\u001b[0m \u001b[38;5;28mprint\u001b[39m(\u001b[38;5;241m2\u001b[39m\u001b[38;5;241m/\u001b[39m\u001b[38;5;241m0\u001b[39m)\n",
      "\u001b[1;31mZeroDivisionError\u001b[0m: division by zero"
     ]
    }
   ],
   "source": [
    "print(2/0)"
   ]
  },
  {
   "cell_type": "code",
   "execution_count": 3,
   "id": "c63cc2c3-cc76-482c-ba9e-ece2d14b9561",
   "metadata": {},
   "outputs": [
    {
     "name": "stdin",
     "output_type": "stream",
     "text": [
      "sayı1 : 6\n",
      "sayı2 : 0\n"
     ]
    },
    {
     "name": "stdout",
     "output_type": "stream",
     "text": [
      "Bir sayının sıfıra bölünmesi sonsuza ıraksar...\n",
      "Bloklar sona erdi...\n"
     ]
    }
   ],
   "source": [
    "try:\n",
    "    a = int(input(\"sayı1 :\"))\n",
    "    b = int(input(\"sayı2 :\"))\n",
    "    print(a/b)\n",
    "\n",
    "# iki tip hata olabilir.\n",
    "# 1- ıraksama \n",
    "# 2- sayı girilmemiş olabilir\n",
    "\n",
    "except ValueError:\n",
    "    print(\"Lütfen bir sayı giriniz...\")\n",
    "except ZeroDivisionError: \n",
    "    print(\"Bir sayının sıfıra bölünmesi sonsuza ıraksar...\")\n",
    "\n",
    "print(\"Bloklar sona erdi...\")"
   ]
  },
  {
   "cell_type": "code",
   "execution_count": 4,
   "id": "e0e4e233-b5bf-43a6-a01e-b00dc2921c31",
   "metadata": {},
   "outputs": [
    {
     "name": "stdin",
     "output_type": "stream",
     "text": [
      "sayı1 : 4\n",
      "sayı2 : p\n"
     ]
    },
    {
     "name": "stdout",
     "output_type": "stream",
     "text": [
      "Lütfen bir sayı giriniz...\n",
      "Bloklar sona erdi...\n"
     ]
    }
   ],
   "source": [
    "try:\n",
    "    a = int(input(\"sayı1 :\"))\n",
    "    b = int(input(\"sayı2 :\"))\n",
    "    print(a/b)\n",
    "\n",
    "# iki tip hata olabilir.\n",
    "# 1- ıraksama \n",
    "# 2- sayı girilmemiş olabilir\n",
    "\n",
    "except ValueError:\n",
    "    print(\"Lütfen bir sayı giriniz...\")\n",
    "except ZeroDivisionError: \n",
    "    print(\"Bir sayının sıfıra bölünmesi sonsuza ıraksar...\")\n",
    "\n",
    "print(\"Bloklar sona erdi...\")"
   ]
  },
  {
   "cell_type": "code",
   "execution_count": 5,
   "id": "b3802e15-eb57-4926-9c23-71451f2aa3e8",
   "metadata": {},
   "outputs": [
    {
     "name": "stdin",
     "output_type": "stream",
     "text": [
      "sayı1 : 16\n",
      "sayı2 : 4\n"
     ]
    },
    {
     "name": "stdout",
     "output_type": "stream",
     "text": [
      "4.0\n",
      "Bloklar sona erdi...\n"
     ]
    }
   ],
   "source": [
    "try:\n",
    "    a = int(input(\"sayı1 :\"))\n",
    "    b = int(input(\"sayı2 :\"))\n",
    "    print(a/b)\n",
    "\n",
    "# iki tip hata olabilir.\n",
    "# 1- ıraksama \n",
    "# 2- sayı girilmemiş olabilir\n",
    "\n",
    "except ValueError:\n",
    "    print(\"Lütfen bir sayı giriniz...\")\n",
    "except ZeroDivisionError: \n",
    "    print(\"Bir sayının sıfıra bölünmesi sonsuza ıraksar...\")\n",
    "\n",
    "print(\"Bloklar sona erdi...\")"
   ]
  },
  {
   "cell_type": "code",
   "execution_count": 7,
   "id": "1b98a9db-7524-432e-a3be-a08b1dfc1204",
   "metadata": {},
   "outputs": [
    {
     "name": "stdin",
     "output_type": "stream",
     "text": [
      "sayı1 : 4\n",
      "sayı2 : ş\n"
     ]
    },
    {
     "name": "stdout",
     "output_type": "stream",
     "text": [
      "ValueError veya ZeroDivisionError hatası var\n",
      "Bloklar sona erdi...\n"
     ]
    }
   ],
   "source": [
    "try:\n",
    "    a = int(input(\"sayı1 :\"))\n",
    "    b = int(input(\"sayı2 :\"))\n",
    "    print(a/b)\n",
    "\n",
    "# iki tip hata olabilir.\n",
    "# 1- ıraksama \n",
    "# 2- sayı girilmemiş olabilir\n",
    "\n",
    "except (ValueError, ZeroDivisionError):\n",
    "    print(\"ValueError veya ZeroDivisionError hatası var...\")\n",
    "print(\"Bloklar sona erdi...\")"
   ]
  },
  {
   "cell_type": "markdown",
   "id": "7ee5cb6c-a572-4f64-8826-451cdd524434",
   "metadata": {},
   "source": [
    "# Finally Bloğu "
   ]
  },
  {
   "cell_type": "code",
   "execution_count": 8,
   "id": "0f4c3388-0568-464c-a560-c204b7769c9d",
   "metadata": {},
   "outputs": [
    {
     "name": "stdin",
     "output_type": "stream",
     "text": [
      "sayı1 : 4\n",
      "sayı2 : 0\n"
     ]
    },
    {
     "name": "stdout",
     "output_type": "stream",
     "text": [
      "Bir sayının sıfıra bölünmesi sonsuza ıraksar...\n",
      "finally bloğu çalıştı...\n",
      "Bloklar sona erdi...\n"
     ]
    }
   ],
   "source": [
    "try:\n",
    "    a = int(input(\"sayı1 :\"))\n",
    "    b = int(input(\"sayı2 :\"))\n",
    "    print(a/b)\n",
    "\n",
    "# iki tip hata olabilir.\n",
    "# 1- ıraksama \n",
    "# 2- sayı girilmemiş olabilir\n",
    "\n",
    "except ValueError:\n",
    "    print(\"Lütfen bir sayı giriniz...\")\n",
    "except ZeroDivisionError: \n",
    "    print(\"Bir sayının sıfıra bölünmesi sonsuza ıraksar...\")\n",
    "finally:\n",
    "    print(\"finally bloğu çalıştı...\")\n",
    "\n",
    "print(\"Bloklar sona erdi...\")"
   ]
  },
  {
   "cell_type": "code",
   "execution_count": 9,
   "id": "ae5dff49-b68b-4a7f-bf90-c2915cae9fa6",
   "metadata": {},
   "outputs": [
    {
     "name": "stdin",
     "output_type": "stream",
     "text": [
      "sayı1 : 46\n",
      "sayı2 : 2\n"
     ]
    },
    {
     "name": "stdout",
     "output_type": "stream",
     "text": [
      "23.0\n",
      "finally bloğu çalıştı...\n",
      "Bloklar sona erdi...\n"
     ]
    }
   ],
   "source": [
    "try:\n",
    "    a = int(input(\"sayı1 :\"))\n",
    "    b = int(input(\"sayı2 :\"))\n",
    "    print(a/b)\n",
    "\n",
    "# iki tip hata olabilir.\n",
    "# 1- ıraksama \n",
    "# 2- sayı girilmemiş olabilir\n",
    "\n",
    "except ValueError:\n",
    "    print(\"Lütfen bir sayı giriniz...\")\n",
    "except ZeroDivisionError: \n",
    "    print(\"Bir sayının sıfıra bölünmesi sonsuza ıraksar...\")\n",
    "finally:\n",
    "    print(\"finally bloğu çalıştı...\")\n",
    "\n",
    "print(\"Bloklar sona erdi...\")"
   ]
  },
  {
   "cell_type": "markdown",
   "id": "98499899-6d27-4e2b-80bb-9211ac08cd6a",
   "metadata": {},
   "source": [
    "# Raise Hata fırlatma "
   ]
  },
  {
   "cell_type": "code",
   "execution_count": 11,
   "id": "cf2cb2c4-9c4e-4baa-b2da-a16bb7afad35",
   "metadata": {},
   "outputs": [],
   "source": [
    "def terscevir(s):\n",
    "    if (type(s) != str):\n",
    "        raise ValueError(\"Lütfen string bir değer gönderin\")\n",
    "    else:\n",
    "        return s[::-1]"
   ]
  },
  {
   "cell_type": "code",
   "execution_count": 12,
   "id": "51e57894-5149-47b1-847a-fa78bc76be24",
   "metadata": {},
   "outputs": [
    {
     "data": {
      "text/plain": [
       "'nohtyP'"
      ]
     },
     "execution_count": 12,
     "metadata": {},
     "output_type": "execute_result"
    }
   ],
   "source": [
    "terscevir(\"Python\")"
   ]
  },
  {
   "cell_type": "code",
   "execution_count": 13,
   "id": "76d1e689-1d3d-42a5-a4f8-620e417e59e3",
   "metadata": {},
   "outputs": [
    {
     "ename": "ValueError",
     "evalue": "Lütfen string bir değer gönderin",
     "output_type": "error",
     "traceback": [
      "\u001b[1;31m---------------------------------------------------------------------------\u001b[0m",
      "\u001b[1;31mValueError\u001b[0m                                Traceback (most recent call last)",
      "Cell \u001b[1;32mIn[13], line 1\u001b[0m\n\u001b[1;32m----> 1\u001b[0m terscevir(\u001b[38;5;241m123\u001b[39m)\n",
      "Cell \u001b[1;32mIn[11], line 3\u001b[0m, in \u001b[0;36mterscevir\u001b[1;34m(s)\u001b[0m\n\u001b[0;32m      1\u001b[0m \u001b[38;5;28;01mdef\u001b[39;00m \u001b[38;5;21mterscevir\u001b[39m(s):\n\u001b[0;32m      2\u001b[0m     \u001b[38;5;28;01mif\u001b[39;00m (\u001b[38;5;28mtype\u001b[39m(s) \u001b[38;5;241m!=\u001b[39m \u001b[38;5;28mstr\u001b[39m):\n\u001b[1;32m----> 3\u001b[0m         \u001b[38;5;28;01mraise\u001b[39;00m \u001b[38;5;167;01mValueError\u001b[39;00m(\u001b[38;5;124m\"\u001b[39m\u001b[38;5;124mLütfen string bir değer gönderin\u001b[39m\u001b[38;5;124m\"\u001b[39m)\n\u001b[0;32m      4\u001b[0m     \u001b[38;5;28;01melse\u001b[39;00m:\n\u001b[0;32m      5\u001b[0m         \u001b[38;5;28;01mreturn\u001b[39;00m s[::\u001b[38;5;241m-\u001b[39m\u001b[38;5;241m1\u001b[39m]\n",
      "\u001b[1;31mValueError\u001b[0m: Lütfen string bir değer gönderin"
     ]
    }
   ],
   "source": [
    "terscevir(123)"
   ]
  },
  {
   "cell_type": "code",
   "execution_count": 14,
   "id": "2b674cec-3151-4481-9930-c4b51d489a62",
   "metadata": {},
   "outputs": [
    {
     "name": "stdout",
     "output_type": "stream",
     "text": [
      "Fonksiyon hata verdi\n"
     ]
    }
   ],
   "source": [
    "try:\n",
    "    print(terscevir(12))\n",
    "except ValueError:\n",
    "    print(\"Fonksiyon hata verdi\")"
   ]
  },
  {
   "cell_type": "code",
   "execution_count": 16,
   "id": "f3fd35be-ac6b-4af8-bfa4-7dd1fa3ebfbb",
   "metadata": {},
   "outputs": [],
   "source": [
    "try:\n",
    "    def terscevir(s):\n",
    "        if (type(s) != str):\n",
    "            raise ValueError(\"Lütfen string bir değer gönderin\")\n",
    "        else:\n",
    "            return s[::-1]\n",
    "except ValueError:\n",
    "    print(\"Fonksiyon hata verdi\")"
   ]
  },
  {
   "cell_type": "code",
   "execution_count": null,
   "id": "e1785fcc-f63a-4d35-8871-abcd04e2937c",
   "metadata": {},
   "outputs": [],
   "source": []
  },
  {
   "cell_type": "code",
   "execution_count": 17,
   "id": "652f1cf7-2a0c-473c-a462-4f9d6baf7ee1",
   "metadata": {},
   "outputs": [],
   "source": [
    "def terscevir(s):\n",
    "    try: \n",
    "        if (type(s) != str):\n",
    "            raise ValueError(\"Lütfen string bir değer gönderin\")\n",
    "        else:\n",
    "            return s[::-1]\n",
    "    except ValueError:\n",
    "        print(\"Fonksiyon hata verdi\")"
   ]
  },
  {
   "cell_type": "code",
   "execution_count": 18,
   "id": "05e1be8b-3f36-46df-9135-02dad46ee3b3",
   "metadata": {},
   "outputs": [
    {
     "name": "stdout",
     "output_type": "stream",
     "text": [
      "Fonksiyon hata verdi\n"
     ]
    }
   ],
   "source": [
    "terscevir(98)"
   ]
  },
  {
   "cell_type": "code",
   "execution_count": 19,
   "id": "ad993127-8be7-4a0c-ad0c-641150cbbe9e",
   "metadata": {},
   "outputs": [
    {
     "data": {
      "text/plain": [
       "'emened'"
      ]
     },
     "execution_count": 19,
     "metadata": {},
     "output_type": "execute_result"
    }
   ],
   "source": [
    "terscevir(\"deneme\")"
   ]
  },
  {
   "cell_type": "code",
   "execution_count": 20,
   "id": "69a866fc-bd3e-4965-b7af-4f95480b3dde",
   "metadata": {},
   "outputs": [],
   "source": [
    "def terscevir(s):\n",
    "    try: \n",
    "        if (type(s) != str):\n",
    "            print(\"Fonksiyon hata verdi\")  # Hata mesajını buraya alıyoruz.\n",
    "            raise ValueError(\"Lütfen string bir değer gönderin\")\n",
    "        else:\n",
    "            return s[::-1]\n",
    "    except ValueError as e:\n",
    "        print(e)  # Hata mesajını burada yakalayıp yazdırıyoruz."
   ]
  },
  {
   "cell_type": "code",
   "execution_count": 21,
   "id": "2526ed02-ba0c-4b1a-85c6-6195f3a30164",
   "metadata": {},
   "outputs": [
    {
     "name": "stdout",
     "output_type": "stream",
     "text": [
      "abahreM\n"
     ]
    }
   ],
   "source": [
    "print(terscevir(\"Merhaba\"))"
   ]
  },
  {
   "cell_type": "code",
   "execution_count": 22,
   "id": "7e636433-f59b-45aa-ad68-634f65b66b31",
   "metadata": {},
   "outputs": [
    {
     "name": "stdout",
     "output_type": "stream",
     "text": [
      "Fonksiyon hata verdi\n",
      "Lütfen string bir değer gönderin\n",
      "None\n"
     ]
    }
   ],
   "source": [
    "print(terscevir(123)) "
   ]
  },
  {
   "cell_type": "markdown",
   "id": "40bd8b6f-822f-4ec0-82f8-e3ad7b0ef988",
   "metadata": {},
   "source": [
    "# Örnek"
   ]
  },
  {
   "cell_type": "markdown",
   "id": "c7addc2c-a4c5-46ea-b27e-d5993c891520",
   "metadata": {},
   "source": [
    "Elinizde stringlerin bulunduğu bir liste bulunduğunu düşünün.\n",
    "\n",
    "liste = [\"345\",\"sadas\",\"324a\",\"14\",\"kemal\"]\n",
    "\n",
    "Bu listenin içindeki stringlerden içinde sadece rakam bulunanları ekrana yazdırın. Bunu yaparken try,except bloklarını kullanmayı unutmayın."
   ]
  },
  {
   "cell_type": "code",
   "execution_count": 53,
   "id": "96fa75ac-4154-4b2c-8304-ae976bbdb93b",
   "metadata": {},
   "outputs": [
    {
     "name": "stdout",
     "output_type": "stream",
     "text": [
      "345\n",
      "sadas incelenirken bir hata oluştu.\n",
      "324a incelenirken bir hata oluştu.\n",
      "14\n",
      "kemal incelenirken bir hata oluştu.\n"
     ]
    }
   ],
   "source": [
    "L = [\"345\",\"sadas\",\"324a\",\"14\",\"kemal\"]\n",
    "\n",
    "for i in L:\n",
    "    try:\n",
    "        if (int(i) == int):\n",
    "            print(i)\n",
    "        print(i)\n",
    "        continue\n",
    "    except ValueError:\n",
    "        print(f\"{i} incelenirken bir hata oluştu.\")  # Hata mesajını burada yakalayıp yazdırıyoruz.    "
   ]
  },
  {
   "cell_type": "code",
   "execution_count": 54,
   "id": "e10993c6-f764-41c9-9394-df4b1096f519",
   "metadata": {},
   "outputs": [
    {
     "name": "stdout",
     "output_type": "stream",
     "text": [
      "345\n",
      "14\n"
     ]
    }
   ],
   "source": [
    "for item in liste:\n",
    "    try:\n",
    "        int(item)\n",
    "        print(item)  \n",
    "    except ValueError:\n",
    "        pass"
   ]
  },
  {
   "cell_type": "code",
   "execution_count": 55,
   "id": "4bbad1cf-e56c-4efb-82ad-dfa1267ab6f4",
   "metadata": {},
   "outputs": [
    {
     "name": "stdout",
     "output_type": "stream",
     "text": [
      "345\n",
      "324a\n",
      "14\n"
     ]
    }
   ],
   "source": [
    "liste = [\"345\",\"sadas\",\"324a\",\"14\",\"kemal\"]\n",
    "\n",
    "for item in liste:\n",
    "    try:\n",
    "        if any(char.isdigit() for char in item):\n",
    "            print(item)\n",
    "            continue\n",
    "    except ValueError:\n",
    "        # Normalde bu bloğa girmememiz gerekir çünkü isdigit() ValueError fırlatmaz.\n",
    "        # Ancak genel bir hata yönetimi için burada bulunuyor.\n",
    "        print(f\"{item} incelenirken bir hata oluştu.\")"
   ]
  },
  {
   "cell_type": "code",
   "execution_count": 77,
   "id": "e08cf9ec-63ce-48a0-a40e-64771c6cf175",
   "metadata": {},
   "outputs": [
    {
     "name": "stdout",
     "output_type": "stream",
     "text": [
      "345\n",
      "14\n"
     ]
    }
   ],
   "source": [
    "liste = [\"345\",\"sadas\",\"324a\",\"14\",\"kemal\"]\n",
    "\n",
    "for eleman in liste:\n",
    "    \n",
    "    try: \n",
    "        eleman = int(eleman) # Eğer hata ile karşılaşırsak burası hata verecek ve print çalışmayacak.\n",
    "        print(eleman)\n",
    "    except:\n",
    "        pass # pass deyimi bir blokun hiçbir şey yapmadığı anlamına geliyor. Python'ın hata vermemesi için kullanabilirsiniz."
   ]
  },
  {
   "cell_type": "markdown",
   "id": "89460eb4-6ba7-418f-94f4-74eb61743c4f",
   "metadata": {},
   "source": [
    "# Örnek"
   ]
  },
  {
   "cell_type": "markdown",
   "id": "8d5d3b7c-0c1d-4d87-a190-0ca3cea8e5ea",
   "metadata": {},
   "source": [
    "Bir sayının çift olup olmadığını sorgulayan bir fonksiyon yazın. Bu fonksiyon, eğer sayı çift ise *return* ile bu değeri dönsün. \n",
    "Ancak sayı tek sayı ise fonksiyon *raise* ile *ValueError* hatası fırlatsın. \n",
    "Daha sonra, içinde çift ve tek sayılar bulunduran bir liste tanımlayın ve liste üzerinde gezinerek ekrana sadece çift sayıları bastırın."
   ]
  },
  {
   "cell_type": "code",
   "execution_count": 72,
   "id": "ee1931a7-dc7c-44af-b9aa-a7d14e6ba506",
   "metadata": {},
   "outputs": [],
   "source": [
    "def tekçift(x):\n",
    "    try:\n",
    "        if (x % 2 == 0):\n",
    "            print(f\"{x} sayısı çifttir\")\n",
    "        else:\n",
    "            print(\"..\")           \n",
    "            raise ValueError(\"tek sayı girildi\")\n",
    "    except ValueError as e:\n",
    "        print(e)"
   ]
  },
  {
   "cell_type": "code",
   "execution_count": 73,
   "id": "66b06603-7c71-4264-b875-11886c0299e6",
   "metadata": {},
   "outputs": [
    {
     "name": "stdout",
     "output_type": "stream",
     "text": [
      "..\n",
      "tek sayı girildi\n"
     ]
    }
   ],
   "source": [
    "tekçift(5)"
   ]
  },
  {
   "cell_type": "code",
   "execution_count": 74,
   "id": "31809ec4-2083-4769-833c-26728f2f14e9",
   "metadata": {},
   "outputs": [
    {
     "name": "stdout",
     "output_type": "stream",
     "text": [
      "8 sayısı çifttir\n"
     ]
    }
   ],
   "source": [
    "tekçift(8)"
   ]
  },
  {
   "cell_type": "code",
   "execution_count": 76,
   "id": "bcd86aab-e253-47a6-b3c8-dbf35b7fd887",
   "metadata": {},
   "outputs": [
    {
     "name": "stdout",
     "output_type": "stream",
     "text": [
      "34\n",
      "2\n",
      "100\n",
      "1800\n"
     ]
    }
   ],
   "source": [
    "def çift_mi(sayı):\n",
    "    \n",
    "    if (sayı % 2 == 0):\n",
    "        return sayı\n",
    "    else:\n",
    "        raise ValueError\n",
    "        \n",
    "liste = [34,2,1,3,33,100,61,1800]\n",
    "\n",
    "for i in liste:\n",
    "    try:\n",
    "        print(çift_mi(i))\n",
    "    except ValueError:\n",
    "        pass"
   ]
  },
  {
   "cell_type": "code",
   "execution_count": null,
   "id": "71d4c8aa-fbb6-4691-a136-268f400a724d",
   "metadata": {},
   "outputs": [],
   "source": []
  }
 ],
 "metadata": {
  "kernelspec": {
   "display_name": "Python 3 (ipykernel)",
   "language": "python",
   "name": "python3"
  },
  "language_info": {
   "codemirror_mode": {
    "name": "ipython",
    "version": 3
   },
   "file_extension": ".py",
   "mimetype": "text/x-python",
   "name": "python",
   "nbconvert_exporter": "python",
   "pygments_lexer": "ipython3",
   "version": "3.12.4"
  }
 },
 "nbformat": 4,
 "nbformat_minor": 5
}
