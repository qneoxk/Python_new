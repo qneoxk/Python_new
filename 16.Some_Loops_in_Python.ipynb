{
 "cells": [
  {
   "cell_type": "markdown",
   "id": "f6f9b445-6995-4ca2-93da-c59395984c1f",
   "metadata": {},
   "source": [
    "# For Döngüsü örnekleri "
   ]
  },
  {
   "cell_type": "code",
   "execution_count": 2,
   "id": "37b6ce39-2fda-4cf2-96bf-3e1b59173930",
   "metadata": {},
   "outputs": [],
   "source": [
    "n = 10"
   ]
  },
  {
   "cell_type": "code",
   "execution_count": 3,
   "id": "0935b36c-d9b7-45e5-af03-b702bc2395ff",
   "metadata": {},
   "outputs": [
    {
     "name": "stdout",
     "output_type": "stream",
     "text": [
      "\n",
      " o\n",
      " o o\n",
      " o o o\n",
      " o o o o\n",
      " o o o o o\n",
      " o o o o o o\n",
      " o o o o o o o\n",
      " o o o o o o o o\n",
      " o o o o o o o o o\n",
      " o o o o o o o o o o\n"
     ]
    }
   ],
   "source": [
    "for i in range(0, n + 1):\n",
    "    print(i * \" o\")"
   ]
  },
  {
   "cell_type": "code",
   "execution_count": 4,
   "id": "a094b125-794c-4061-9c5b-a9208151a704",
   "metadata": {},
   "outputs": [
    {
     "name": "stdout",
     "output_type": "stream",
     "text": [
      " o\n",
      " o o\n",
      " o o o\n",
      " o o o o\n",
      " o o o o o\n",
      " o o o o o o\n",
      " o o o o o o o\n",
      " o o o o o o o o\n",
      " o o o o o o o o o\n",
      " o o o o o o o o o o\n"
     ]
    }
   ],
   "source": [
    "for i in range(1, n + 1):\n",
    "    print(i * \" o\")"
   ]
  },
  {
   "cell_type": "code",
   "execution_count": 5,
   "id": "e33e2e1e-9594-4efa-8efb-054cce6a7dc2",
   "metadata": {},
   "outputs": [
    {
     "name": "stdout",
     "output_type": "stream",
     "text": [
      "\n",
      "_\n",
      "__\n",
      "___\n",
      "____\n",
      "_____\n",
      "______\n",
      "_______\n",
      "________\n",
      "_________\n",
      "__________\n"
     ]
    }
   ],
   "source": [
    "for i in range(0, n + 1):\n",
    "    print(i * \"_\")"
   ]
  },
  {
   "cell_type": "code",
   "execution_count": 6,
   "id": "86889b2e-0f8a-4333-a9fc-ed2dfb26f5f4",
   "metadata": {},
   "outputs": [
    {
     "name": "stdout",
     "output_type": "stream",
     "text": [
      "_\n",
      "__\n",
      "___\n",
      "____\n",
      "_____\n",
      "______\n",
      "_______\n",
      "________\n",
      "_________\n",
      "__________\n"
     ]
    }
   ],
   "source": [
    "for i in range(1, n + 1):\n",
    "    print(i * \"_\")"
   ]
  },
  {
   "cell_type": "code",
   "execution_count": 7,
   "id": "1a08e0d3-7f6f-41d0-8968-c19cff5881a3",
   "metadata": {},
   "outputs": [
    {
     "name": "stdout",
     "output_type": "stream",
     "text": [
      " _ \n",
      " _  _ \n",
      " _  _  _ \n",
      " _  _  _  _ \n",
      " _  _  _  _  _ \n",
      " _  _  _  _  _  _ \n",
      " _  _  _  _  _  _  _ \n",
      " _  _  _  _  _  _  _  _ \n",
      " _  _  _  _  _  _  _  _  _ \n",
      " _  _  _  _  _  _  _  _  _  _ \n"
     ]
    }
   ],
   "source": [
    "for i in range(1, n + 1):\n",
    "    print(i * \" _ \")"
   ]
  },
  {
   "cell_type": "code",
   "execution_count": 8,
   "id": "bfe3a9b3-7193-4731-9a4f-904ed1ead732",
   "metadata": {},
   "outputs": [
    {
     "name": "stdout",
     "output_type": "stream",
     "text": [
      " ___\n",
      " ___ ___\n",
      " ___ ___ ___\n",
      " ___ ___ ___ ___\n",
      " ___ ___ ___ ___ ___\n",
      " ___ ___ ___ ___ ___ ___\n",
      " ___ ___ ___ ___ ___ ___ ___\n",
      " ___ ___ ___ ___ ___ ___ ___ ___\n",
      " ___ ___ ___ ___ ___ ___ ___ ___ ___\n",
      " ___ ___ ___ ___ ___ ___ ___ ___ ___ ___\n"
     ]
    }
   ],
   "source": [
    "for i in range(1, n + 1):\n",
    "    print(i * \" ___\")"
   ]
  },
  {
   "cell_type": "code",
   "execution_count": 9,
   "id": "5cf8de86-98a3-469e-b3f8-c9df84100867",
   "metadata": {},
   "outputs": [
    {
     "name": "stdout",
     "output_type": "stream",
     "text": [
      "____|___\n",
      "____|_______|___\n",
      "____|_______|_______|___\n",
      "____|_______|_______|_______|___\n",
      "____|_______|_______|_______|_______|___\n",
      "____|_______|_______|_______|_______|_______|___\n",
      "____|_______|_______|_______|_______|_______|_______|___\n",
      "____|_______|_______|_______|_______|_______|_______|_______|___\n",
      "____|_______|_______|_______|_______|_______|_______|_______|_______|___\n",
      "____|_______|_______|_______|_______|_______|_______|_______|_______|_______|___\n"
     ]
    }
   ],
   "source": [
    "for i in range(1, n + 1):\n",
    "    print(i * \"____|___\")"
   ]
  },
  {
   "cell_type": "code",
   "execution_count": 10,
   "id": "b9a5a2bd-3705-4beb-9388-1edf979d6870",
   "metadata": {},
   "outputs": [
    {
     "name": "stdout",
     "output_type": "stream",
     "text": [
      "|____|___\n",
      "|____|___|____|___\n",
      "|____|___|____|___|____|___\n",
      "|____|___|____|___|____|___|____|___\n",
      "|____|___|____|___|____|___|____|___|____|___\n",
      "|____|___|____|___|____|___|____|___|____|___|____|___\n",
      "|____|___|____|___|____|___|____|___|____|___|____|___|____|___\n",
      "|____|___|____|___|____|___|____|___|____|___|____|___|____|___|____|___\n",
      "|____|___|____|___|____|___|____|___|____|___|____|___|____|___|____|___|____|___\n",
      "|____|___|____|___|____|___|____|___|____|___|____|___|____|___|____|___|____|___|____|___\n"
     ]
    }
   ],
   "source": [
    "for i in range(1, n + 1):\n",
    "    print(i * \"|____|___\")"
   ]
  },
  {
   "cell_type": "code",
   "execution_count": 11,
   "id": "0a91ec18-83cd-4902-a2b8-8b604617eb4e",
   "metadata": {},
   "outputs": [
    {
     "name": "stdout",
     "output_type": "stream",
     "text": [
      " ___ \n",
      " ___  ___ \n",
      " ___  ___  ___ \n",
      " ___  ___  ___  ___ \n",
      " ___  ___  ___  ___  ___ \n",
      " ___  ___  ___  ___  ___  ___ \n",
      " ___  ___  ___  ___  ___  ___  ___ \n",
      " ___  ___  ___  ___  ___  ___  ___  ___ \n",
      " ___  ___  ___  ___  ___  ___  ___  ___  ___ \n",
      " ___  ___  ___  ___  ___  ___  ___  ___  ___  ___ \n"
     ]
    }
   ],
   "source": [
    "for i in range(1, n + 1):\n",
    "    print(i * \" ___ \")"
   ]
  },
  {
   "cell_type": "code",
   "execution_count": 12,
   "id": "70a5e6b0-49de-4833-bc9e-d2fb193f4df5",
   "metadata": {},
   "outputs": [
    {
     "name": "stdout",
     "output_type": "stream",
     "text": [
      "\n",
      "|\n",
      "||\n",
      "|||\n",
      "||||\n",
      "|||||\n",
      "||||||\n",
      "|||||||\n",
      "||||||||\n",
      "|||||||||\n",
      "||||||||||\n"
     ]
    }
   ],
   "source": [
    "for i in range(0, n + 1):\n",
    "    print(i * \"|\")"
   ]
  },
  {
   "cell_type": "code",
   "execution_count": 13,
   "id": "b2a7db04-bb8d-47cb-8e49-ee06dc1864ab",
   "metadata": {},
   "outputs": [
    {
     "name": "stdout",
     "output_type": "stream",
     "text": [
      "\n",
      " | \n",
      " |  | \n",
      " |  |  | \n",
      " |  |  |  | \n",
      " |  |  |  |  | \n",
      " |  |  |  |  |  | \n",
      " |  |  |  |  |  |  | \n",
      " |  |  |  |  |  |  |  | \n",
      " |  |  |  |  |  |  |  |  | \n",
      " |  |  |  |  |  |  |  |  |  | \n"
     ]
    }
   ],
   "source": [
    "for i in range(0, n + 1):\n",
    "    print(i * \" | \")"
   ]
  },
  {
   "cell_type": "code",
   "execution_count": 14,
   "id": "dbfdae68-5d89-47dc-93b4-c30b958c45c8",
   "metadata": {},
   "outputs": [
    {
     "name": "stdout",
     "output_type": "stream",
     "text": [
      "         o \n",
      "        o o \n",
      "       o o o \n",
      "      o o o o \n",
      "     o o o o o \n",
      "    o o o o o o \n",
      "   o o o o o o o \n",
      "  o o o o o o o o \n",
      " o o o o o o o o o \n",
      "o o o o o o o o o o \n"
     ]
    }
   ],
   "source": [
    "for i in range(1, n + 1):\n",
    "    print(\" \" * (n - i) + \"o \" * i)"
   ]
  },
  {
   "cell_type": "code",
   "execution_count": 15,
   "id": "7ccc7f7d-1344-4073-9a01-cf487b345aee",
   "metadata": {},
   "outputs": [
    {
     "name": "stdout",
     "output_type": "stream",
     "text": [
      "          o \n",
      "          o o \n",
      "          o o o \n",
      "          o o o o \n",
      "          o o o o o \n",
      "          o o o o o o \n",
      "          o o o o o o o \n",
      "          o o o o o o o o \n",
      "          o o o o o o o o o \n",
      "          o o o o o o o o o o \n"
     ]
    }
   ],
   "source": [
    "for i in range(1, n + 1):\n",
    "    print(\" \" * n + \"o \" * i)"
   ]
  },
  {
   "cell_type": "code",
   "execution_count": 16,
   "id": "08231a6b-7687-496d-8a9c-f833c72f45d9",
   "metadata": {},
   "outputs": [
    {
     "name": "stdout",
     "output_type": "stream",
     "text": [
      "                    o \n",
      "                    o o \n",
      "                    o o o \n",
      "                    o o o o \n",
      "                    o o o o o \n",
      "                    o o o o o o \n",
      "                    o o o o o o o \n",
      "                    o o o o o o o o \n",
      "                    o o o o o o o o o \n",
      "                    o o o o o o o o o o \n"
     ]
    }
   ],
   "source": [
    "for i in range(1, n + 1):\n",
    "    print(\"  \" * n + \"o \" * i)"
   ]
  },
  {
   "cell_type": "code",
   "execution_count": 17,
   "id": "5926a26c-74c8-43c9-9014-4f5b106c40a5",
   "metadata": {},
   "outputs": [
    {
     "name": "stdout",
     "output_type": "stream",
     "text": [
      "                    o  \n",
      "                    o  o  \n",
      "                    o  o  o  \n",
      "                    o  o  o  o  \n",
      "                    o  o  o  o  o  \n",
      "                    o  o  o  o  o  o  \n",
      "                    o  o  o  o  o  o  o  \n",
      "                    o  o  o  o  o  o  o  o  \n",
      "                    o  o  o  o  o  o  o  o  o  \n",
      "                    o  o  o  o  o  o  o  o  o  o  \n"
     ]
    }
   ],
   "source": [
    "for i in range(1, n + 1):\n",
    "    print(\"  \" * n + \"o  \" * i)"
   ]
  },
  {
   "cell_type": "code",
   "execution_count": 18,
   "id": "acdadfea-b9bd-48e3-93cf-77221896b93c",
   "metadata": {},
   "outputs": [
    {
     "name": "stdout",
     "output_type": "stream",
     "text": [
      "            o \n",
      "             o  o \n",
      "              o  o  o \n",
      "               o  o  o  o \n",
      "                o  o  o  o  o \n",
      "                 o  o  o  o  o  o \n",
      "                  o  o  o  o  o  o  o \n",
      "                   o  o  o  o  o  o  o  o \n",
      "                    o  o  o  o  o  o  o  o  o \n",
      "                     o  o  o  o  o  o  o  o  o  o \n"
     ]
    }
   ],
   "source": [
    "for i in range(1, n + 1):\n",
    "    print(\" \" * (n + i) + \" o \" * i)"
   ]
  },
  {
   "cell_type": "code",
   "execution_count": 19,
   "id": "74438573-e8d0-41a3-9aea-a42bccdb56dc",
   "metadata": {},
   "outputs": [
    {
     "name": "stdout",
     "output_type": "stream",
     "text": [
      "  o \n",
      "    o o \n",
      "      o o o \n",
      "        o o o o \n",
      "          o o o o o \n",
      "            o o o o o o \n",
      "              o o o o o o o \n",
      "                o o o o o o o o \n",
      "                  o o o o o o o o o \n",
      "                    o o o o o o o o o o \n"
     ]
    }
   ],
   "source": [
    "for i in range(1, n + 1):\n",
    "    print(\"  \" * (i) + \"o \" * i)"
   ]
  },
  {
   "cell_type": "code",
   "execution_count": 20,
   "id": "828d89b0-304e-4ba4-81dc-8b4237e5f679",
   "metadata": {},
   "outputs": [
    {
     "name": "stdout",
     "output_type": "stream",
     "text": [
      "                           o \n",
      "                        o o \n",
      "                     o o o \n",
      "                  o o o o \n",
      "               o o o o o \n",
      "            o o o o o o \n",
      "         o o o o o o o \n",
      "      o o o o o o o o \n",
      "   o o o o o o o o o \n",
      "o o o o o o o o o o \n"
     ]
    }
   ],
   "source": [
    "for i in range(1, n + 1):\n",
    "    print(\"   \" * (n - i) + \"o \" * i)"
   ]
  },
  {
   "cell_type": "code",
   "execution_count": 21,
   "id": "f865a46f-6a79-4688-8126-ff1c6e96a014",
   "metadata": {},
   "outputs": [
    {
     "name": "stdout",
     "output_type": "stream",
     "text": [
      " o           \n",
      " o  o           \n",
      " o  o  o           \n",
      " o  o  o  o           \n",
      " o  o  o  o  o           \n",
      " o  o  o  o  o  o           \n",
      " o  o  o  o  o  o  o           \n",
      " o  o  o  o  o  o  o  o           \n",
      " o  o  o  o  o  o  o  o  o           \n",
      " o  o  o  o  o  o  o  o  o  o           \n"
     ]
    }
   ],
   "source": [
    "for i in range(1, n + 1):\n",
    "    print(\" o \" * i + \" \" * n)"
   ]
  },
  {
   "cell_type": "code",
   "execution_count": 22,
   "id": "376c97e0-c570-419d-b240-eaf20100378a",
   "metadata": {},
   "outputs": [
    {
     "name": "stdout",
     "output_type": "stream",
     "text": [
      "         o \n",
      "        o o \n",
      "       o o o \n",
      "      o o o o \n",
      "     o o o o o \n",
      "    o o o o o o \n",
      "   o o o o o o o \n",
      "  o o o o o o o o \n",
      " o o o o o o o o o \n",
      "o o o o o o o o o o \n"
     ]
    }
   ],
   "source": [
    "for i in range(1, n + 1):\n",
    "    print(\" \" * (n - i) + \"o \" * i)"
   ]
  },
  {
   "cell_type": "code",
   "execution_count": 23,
   "id": "b8e0d35c-c851-4ef8-9840-181ed78d4f98",
   "metadata": {},
   "outputs": [
    {
     "name": "stdout",
     "output_type": "stream",
     "text": [
      "         ~\n",
      "        ~ ~\n",
      "       ~   ~\n",
      "      ~     ~\n",
      "     ~       ~\n",
      "    ~         ~\n",
      "   ~           ~\n",
      "  ~             ~\n",
      " ~               ~\n",
      "~ ~ ~ ~ ~ ~ ~ ~ ~ ~ \n"
     ]
    }
   ],
   "source": [
    "for i in range(1, n+1):\n",
    "    if i == 1:\n",
    "        print(\" \" * (n - i) + \"~\")\n",
    "    elif i == n:\n",
    "        print(\" \" * (n - i) + \"~ \" * i)\n",
    "    else:\n",
    "        print(\" \" * (n - i) + \"~ \" + \"  \" * (i-2) + \"~\")"
   ]
  },
  {
   "cell_type": "code",
   "execution_count": 24,
   "id": "8eec44f9-efb2-4761-b620-f757a0a3d413",
   "metadata": {},
   "outputs": [
    {
     "name": "stdout",
     "output_type": "stream",
     "text": [
      "                  ~\n",
      "                ~ ~\n",
      "              ~   ~\n",
      "            ~     ~\n",
      "          ~       ~\n",
      "        ~         ~\n",
      "      ~           ~\n",
      "    ~             ~\n",
      "  ~               ~\n",
      "~ ~ ~ ~ ~ ~ ~ ~ ~ ~ \n"
     ]
    }
   ],
   "source": [
    "for i in range(1, n+1):\n",
    "    if i == 1:\n",
    "        print(\"  \" * (n - i) + \"~\")\n",
    "    elif i == n:\n",
    "        print(\"  \" * (n - i) + \"~ \" * i)\n",
    "    else:\n",
    "        print(\"  \" * (n - i) + \"~ \" + \"  \" * (i-2) + \"~\")"
   ]
  },
  {
   "cell_type": "code",
   "execution_count": 25,
   "id": "cc89c7b8-d3a5-4fe1-8b22-cd887ad95ad4",
   "metadata": {},
   "outputs": [
    {
     "name": "stdout",
     "output_type": "stream",
     "text": [
      "                           ~\n",
      "                        ~ ~\n",
      "                     ~   ~\n",
      "                  ~     ~\n",
      "               ~       ~\n",
      "            ~         ~\n",
      "         ~           ~\n",
      "      ~             ~\n",
      "   ~               ~\n",
      "~ ~ ~ ~ ~ ~ ~ ~ ~ ~ \n"
     ]
    }
   ],
   "source": [
    "for i in range(1, n+1):\n",
    "    if i == 1:\n",
    "        print(\"   \" * (n - i) + \"~\")\n",
    "    elif i == n:\n",
    "        print(\"  \" * (n - i) + \"~ \" * i)\n",
    "    else:\n",
    "        print(\"   \" * (n - i) + \"~ \" + \"  \" * (i-2) + \"~\")"
   ]
  },
  {
   "cell_type": "code",
   "execution_count": 26,
   "id": "97f782dc-9d2c-455a-87d8-3fb6b72de01f",
   "metadata": {},
   "outputs": [
    {
     "name": "stdout",
     "output_type": "stream",
     "text": [
      "                  ~\n",
      "                ~~\n",
      "              ~ ~\n",
      "            ~  ~\n",
      "          ~   ~\n",
      "        ~    ~\n",
      "      ~     ~\n",
      "    ~      ~\n",
      "  ~       ~\n",
      "~~~~~~~~~~\n"
     ]
    }
   ],
   "source": [
    "for i in range(1, n+1):\n",
    "    if i == 1:\n",
    "        print(\"  \" * (n - i) + \"~\")\n",
    "    elif i == n:\n",
    "        print(\"  \" * (n - i) + \"~\" * i)\n",
    "    else:\n",
    "        print(\"  \" * (n - i) + \"~\" + \" \" * (i-2) + \"~\")"
   ]
  },
  {
   "cell_type": "code",
   "execution_count": 27,
   "id": "68ebcd90-7d47-4cc3-a1e9-827a3a0dcdb6",
   "metadata": {},
   "outputs": [
    {
     "name": "stdout",
     "output_type": "stream",
     "text": [
      "         ~\n",
      "        ~~\n",
      "       ~ ~\n",
      "      ~  ~\n",
      "     ~   ~\n",
      "    ~    ~\n",
      "   ~     ~\n",
      "  ~      ~\n",
      " ~       ~\n",
      "~~~~~~~~~~\n"
     ]
    }
   ],
   "source": [
    "for i in range(1, n+1):\n",
    "    if i == 1:\n",
    "        print(\" \" * (n - i) + \"~\")\n",
    "    elif i == n:\n",
    "        print(\"  \" * (n - i) + \"~\" * i)\n",
    "    else:\n",
    "        print(\" \" * (n - i) + \"~\" + \" \" * (i-2) + \"~\")"
   ]
  },
  {
   "cell_type": "code",
   "execution_count": null,
   "id": "b5a7c935-495a-4a44-a176-d20957f9a3a4",
   "metadata": {},
   "outputs": [],
   "source": []
  },
  {
   "cell_type": "markdown",
   "id": "c82e7c3e-1a78-4c78-b306-ed6592803e46",
   "metadata": {},
   "source": [
    "### kare oluşturma "
   ]
  },
  {
   "cell_type": "code",
   "execution_count": 29,
   "id": "fcbd6319-8dae-47da-a852-ed063f7c458c",
   "metadata": {},
   "outputs": [
    {
     "name": "stdout",
     "output_type": "stream",
     "text": [
      " o o o o o o o o o o\n",
      " o o o o o o o o o o\n",
      " o o o o o o o o o o\n",
      " o o o o o o o o o o\n",
      " o o o o o o o o o o\n",
      " o o o o o o o o o o\n",
      " o o o o o o o o o o\n",
      " o o o o o o o o o o\n",
      " o o o o o o o o o o\n",
      " o o o o o o o o o o\n"
     ]
    }
   ],
   "source": [
    "for i in range(0, n):\n",
    "    print( n * \" o\")"
   ]
  },
  {
   "cell_type": "code",
   "execution_count": 30,
   "id": "1ea5fe44-868d-4a9a-bcec-0808480007ba",
   "metadata": {},
   "outputs": [
    {
     "name": "stdout",
     "output_type": "stream",
     "text": [
      " |  |  |  |  |  |  |  |  |  | \n",
      " |  |  |  |  |  |  |  |  |  | \n",
      " |  |  |  |  |  |  |  |  |  | \n",
      " |  |  |  |  |  |  |  |  |  | \n",
      " |  |  |  |  |  |  |  |  |  | \n",
      " |  |  |  |  |  |  |  |  |  | \n",
      " |  |  |  |  |  |  |  |  |  | \n",
      " |  |  |  |  |  |  |  |  |  | \n",
      " |  |  |  |  |  |  |  |  |  | \n",
      " |  |  |  |  |  |  |  |  |  | \n"
     ]
    }
   ],
   "source": [
    "for i in range(0, n):\n",
    "    print( n * \" | \")"
   ]
  },
  {
   "cell_type": "code",
   "execution_count": 31,
   "id": "5722b0bb-e3b7-4769-9cf1-34ff98a77064",
   "metadata": {},
   "outputs": [
    {
     "name": "stdout",
     "output_type": "stream",
     "text": [
      "_|__|__|__|__|__|__|__|__|__|_\n",
      "_|__|__|__|__|__|__|__|__|__|_\n",
      "_|__|__|__|__|__|__|__|__|__|_\n",
      "_|__|__|__|__|__|__|__|__|__|_\n",
      "_|__|__|__|__|__|__|__|__|__|_\n",
      "_|__|__|__|__|__|__|__|__|__|_\n",
      "_|__|__|__|__|__|__|__|__|__|_\n",
      "_|__|__|__|__|__|__|__|__|__|_\n",
      "_|__|__|__|__|__|__|__|__|__|_\n",
      "_|__|__|__|__|__|__|__|__|__|_\n"
     ]
    }
   ],
   "source": [
    "for i in range(0, n):\n",
    "    print( n * \"_|_\")"
   ]
  },
  {
   "cell_type": "code",
   "execution_count": 32,
   "id": "e8b2f213-8427-43d6-bb46-14ee6776a374",
   "metadata": {},
   "outputs": [
    {
     "name": "stdout",
     "output_type": "stream",
     "text": [
      "|_|_||_|_||_|_||_|_||_|_||_|_||_|_||_|_||_|_||_|_|\n",
      "|_|_||_|_||_|_||_|_||_|_||_|_||_|_||_|_||_|_||_|_|\n",
      "|_|_||_|_||_|_||_|_||_|_||_|_||_|_||_|_||_|_||_|_|\n",
      "|_|_||_|_||_|_||_|_||_|_||_|_||_|_||_|_||_|_||_|_|\n",
      "|_|_||_|_||_|_||_|_||_|_||_|_||_|_||_|_||_|_||_|_|\n",
      "|_|_||_|_||_|_||_|_||_|_||_|_||_|_||_|_||_|_||_|_|\n",
      "|_|_||_|_||_|_||_|_||_|_||_|_||_|_||_|_||_|_||_|_|\n",
      "|_|_||_|_||_|_||_|_||_|_||_|_||_|_||_|_||_|_||_|_|\n",
      "|_|_||_|_||_|_||_|_||_|_||_|_||_|_||_|_||_|_||_|_|\n",
      "|_|_||_|_||_|_||_|_||_|_||_|_||_|_||_|_||_|_||_|_|\n"
     ]
    }
   ],
   "source": [
    "for i in range(0, n):\n",
    "    print( n * \"|_|_|\")"
   ]
  },
  {
   "cell_type": "code",
   "execution_count": 33,
   "id": "ca33f00e-eaab-47fb-8421-fae9e7900c4f",
   "metadata": {},
   "outputs": [
    {
     "name": "stdout",
     "output_type": "stream",
     "text": [
      "o o o o o o o o o o \n",
      "o                 o\n",
      "o                 o\n",
      "o                 o\n",
      "o                 o\n",
      "o                 o\n",
      "o                 o\n",
      "o                 o\n",
      "o                 o\n",
      "o o o o o o o o o o \n"
     ]
    }
   ],
   "source": [
    "for i in range(n):\n",
    "    if i == 0 or i == n - 1:\n",
    "        print(\"o \" * n)\n",
    "    else:\n",
    "        print(\"o \" + \"  \" * (n - 2) + \"o\")"
   ]
  },
  {
   "cell_type": "code",
   "execution_count": 34,
   "id": "4d64bcb4-d6bc-435e-92ad-891a2fcbc32e",
   "metadata": {},
   "outputs": [
    {
     "name": "stdout",
     "output_type": "stream",
     "text": [
      "o o o o o o o o o o \n",
      "o x x x x x x x x o\n",
      "o x x x x x x x x o\n",
      "o x x x x x x x x o\n",
      "o x x x x x x x x o\n",
      "o x x x x x x x x o\n",
      "o x x x x x x x x o\n",
      "o x x x x x x x x o\n",
      "o x x x x x x x x o\n",
      "o o o o o o o o o o \n"
     ]
    }
   ],
   "source": [
    "for i in range(n):\n",
    "    if i == 0 or i == n - 1:\n",
    "        print(\"o \" * n)\n",
    "    else:\n",
    "        print(\"o \" + \"x \" * (n - 2) + \"o\")"
   ]
  },
  {
   "cell_type": "code",
   "execution_count": 35,
   "id": "172936e1-263c-4d40-bb57-f00e4fae350e",
   "metadata": {},
   "outputs": [
    {
     "name": "stdout",
     "output_type": "stream",
     "text": [
      "         ~ ~ ~ ~ ~ ~ ~ ~ ~ ~ \n",
      "        ~ ~ ~ ~ ~ ~ ~ ~ ~ ~ ~ \n",
      "       ~ ~ ~ ~ ~ ~ ~ ~ ~ ~ ~ ~ \n",
      "      ~ ~ ~ ~ ~ ~ ~ ~ ~ ~ ~ ~ ~ \n",
      "     ~ ~ ~ ~ ~ ~ ~ ~ ~ ~ ~ ~ ~ ~ \n",
      "    ~ ~ ~ ~ ~ ~ ~ ~ ~ ~ ~ ~ ~ ~ ~ \n",
      "   ~ ~ ~ ~ ~ ~ ~ ~ ~ ~ ~ ~ ~ ~ ~ ~ \n",
      "  ~ ~ ~ ~ ~ ~ ~ ~ ~ ~ ~ ~ ~ ~ ~ ~ ~ \n",
      " ~ ~ ~ ~ ~ ~ ~ ~ ~ ~ ~ ~ ~ ~ ~ ~ ~ ~ \n",
      "~ ~ ~ ~ ~ ~ ~ ~ ~ ~ ~ ~ ~ ~ ~ ~ ~ ~ ~ \n",
      " ~ ~ ~ ~ ~ ~ ~ ~ ~ ~ ~ ~ ~ ~ ~ ~ ~ ~ \n",
      "  ~ ~ ~ ~ ~ ~ ~ ~ ~ ~ ~ ~ ~ ~ ~ ~ ~ \n",
      "   ~ ~ ~ ~ ~ ~ ~ ~ ~ ~ ~ ~ ~ ~ ~ ~ \n",
      "    ~ ~ ~ ~ ~ ~ ~ ~ ~ ~ ~ ~ ~ ~ ~ \n",
      "     ~ ~ ~ ~ ~ ~ ~ ~ ~ ~ ~ ~ ~ ~ \n",
      "      ~ ~ ~ ~ ~ ~ ~ ~ ~ ~ ~ ~ ~ \n",
      "       ~ ~ ~ ~ ~ ~ ~ ~ ~ ~ ~ ~ \n",
      "        ~ ~ ~ ~ ~ ~ ~ ~ ~ ~ ~ \n",
      "         ~ ~ ~ ~ ~ ~ ~ ~ ~ ~ \n"
     ]
    }
   ],
   "source": [
    "for i in range(n):\n",
    "    print(\" \" * (n-i-1) + \"~ \" * (n+i))\n",
    "for i in range(n-2, -1, -1):\n",
    "    print(\" \" * (n-i-1) + \"~ \" * (n+i))"
   ]
  },
  {
   "cell_type": "code",
   "execution_count": 36,
   "id": "9269ad30-6b3b-46f5-8bc3-268bd8511e24",
   "metadata": {},
   "outputs": [
    {
     "name": "stdout",
     "output_type": "stream",
     "text": [
      "         ~ ~ ~ ~ ~ ~ ~ ~ ~ ~ \n",
      "        ~                   ~\n",
      "       ~                     ~\n",
      "      ~                       ~\n",
      "     ~                         ~\n",
      "    ~                           ~\n",
      "   ~                             ~\n",
      "  ~                               ~\n",
      " ~                                 ~\n",
      "~                                   ~\n",
      " ~                                 ~\n",
      "  ~                               ~\n",
      "   ~                             ~\n",
      "    ~                           ~\n",
      "     ~                         ~\n",
      "      ~                       ~\n",
      "       ~                     ~\n",
      "        ~                   ~\n",
      "         ~ ~ ~ ~ ~ ~ ~ ~ ~ ~ \n"
     ]
    }
   ],
   "source": [
    "for i in range(n):\n",
    "    if i == 0:\n",
    "        print(\" \" * (n-i-1) + \"~ \" * n)\n",
    "    else:\n",
    "        print(\" \" * (n-i-1) + \"~ \" + \"  \" * (n+i-2) + \"~\")\n",
    "for i in range(n-2, -1, -1):\n",
    "    if i == 0:\n",
    "        print(\" \" * (n-i-1) + \"~ \" * n)\n",
    "    else:\n",
    "        print(\" \" * (n-i-1) + \"~ \" + \"  \" * (n+i-2) + \"~\")"
   ]
  },
  {
   "cell_type": "code",
   "execution_count": 37,
   "id": "12493fb5-b29a-4565-bf0b-2a3f0be22498",
   "metadata": {},
   "outputs": [
    {
     "name": "stdout",
     "output_type": "stream",
     "text": [
      "         ~ ~ ~ ~ ~ ~ ~ ~ ~ ~ \n",
      "        ~ o o o o o o o o o ~\n",
      "       ~ o o o o o o o o o o ~\n",
      "      ~ o o o o o o o o o o o ~\n",
      "     ~ o o o o o o o o o o o o ~\n",
      "    ~ o o o o o o o o o o o o o ~\n",
      "   ~ o o o o o o o o o o o o o o ~\n",
      "  ~ o o o o o o o o o o o o o o o ~\n",
      " ~ o o o o o o o o o o o o o o o o ~\n",
      "~ o o o o o o o o o o o o o o o o o ~\n",
      " ~ o o o o o o o o o o o o o o o o ~\n",
      "  ~ o o o o o o o o o o o o o o o ~\n",
      "   ~ o o o o o o o o o o o o o o ~\n",
      "    ~ o o o o o o o o o o o o o ~\n",
      "     ~ o o o o o o o o o o o o ~\n",
      "      ~ o o o o o o o o o o o ~\n",
      "       ~ o o o o o o o o o o ~\n",
      "        ~ o o o o o o o o o ~\n",
      "         ~ ~ ~ ~ ~ ~ ~ ~ ~ ~ \n"
     ]
    }
   ],
   "source": [
    "harf = \"o\"\n",
    "\n",
    "for i in range(n):\n",
    "    if i == 0:\n",
    "        print(\" \" * (n-i-1) + \"~ \" * n)\n",
    "    else:\n",
    "        print(\" \" * (n-i-1) + \"~ \" + (harf + \" \") * (n+i-2) + \"~\")\n",
    "    # Altıgenin alt yarısı\n",
    "for i in range(n-2, -1, -1):\n",
    "    if i == 0:\n",
    "        print(\" \" * (n-i-1) + \"~ \" * n)\n",
    "    else:\n",
    "        print(\" \" * (n-i-1) + \"~ \" + (harf + \" \") * (n+i-2) + \"~\")"
   ]
  },
  {
   "cell_type": "markdown",
   "id": "7ba2340d-21be-4e90-9b07-81b954fb5662",
   "metadata": {},
   "source": [
    "# Function tanımı ile"
   ]
  },
  {
   "cell_type": "code",
   "execution_count": 39,
   "id": "ff9a4364-bd24-47fc-94b1-686a82b9cb1d",
   "metadata": {},
   "outputs": [
    {
     "name": "stdout",
     "output_type": "stream",
     "text": [
      "\n",
      " o\n",
      " o o\n",
      " o o o\n",
      " o o o o\n",
      " o o o o o\n",
      " o o o o o o\n",
      " o o o o o o o\n",
      " o o o o o o o o\n",
      " o o o o o o o o o\n",
      " o o o o o o o o o o\n"
     ]
    }
   ],
   "source": [
    "n = 10\n",
    "\n",
    "def üçgen():\n",
    "    for i in range(0, n + 1):\n",
    "        print(i * \" o\")\n",
    "\n",
    "üçgen()"
   ]
  },
  {
   "cell_type": "code",
   "execution_count": 40,
   "id": "2b814cc5-2fae-4b16-b53b-7467619c07c2",
   "metadata": {},
   "outputs": [
    {
     "name": "stdout",
     "output_type": "stream",
     "text": [
      " o o o o o o o o o o\n",
      " o o o o o o o o o o\n",
      " o o o o o o o o o o\n",
      " o o o o o o o o o o\n",
      " o o o o o o o o o o\n",
      " o o o o o o o o o o\n",
      " o o o o o o o o o o\n",
      " o o o o o o o o o o\n",
      " o o o o o o o o o o\n",
      " o o o o o o o o o o\n"
     ]
    }
   ],
   "source": [
    "def kare():\n",
    "    for i in range(0, n):\n",
    "        print(n * \" o\")\n",
    "\n",
    "kare()"
   ]
  },
  {
   "cell_type": "code",
   "execution_count": 41,
   "id": "f225c6e1-84a6-4d71-9c01-89d7c2dae5ae",
   "metadata": {},
   "outputs": [
    {
     "name": "stdout",
     "output_type": "stream",
     "text": [
      "o o o o o o o o o o \n",
      "o                 o\n",
      "o                 o\n",
      "o                 o\n",
      "o                 o\n",
      "o                 o\n",
      "o                 o\n",
      "o                 o\n",
      "o                 o\n",
      "o o o o o o o o o o \n"
     ]
    }
   ],
   "source": [
    "def içi_boş_kare():\n",
    "    for i in range(n):\n",
    "        if i == 0 or i == n - 1:\n",
    "            print(\"o \" * n)\n",
    "        else:\n",
    "            print(\"o \" + \"  \" * (n - 2) + \"o\")\n",
    "\n",
    "içi_boş_kare()"
   ]
  },
  {
   "cell_type": "code",
   "execution_count": 42,
   "id": "9b779228-0e95-46b4-8d11-bfeedf57ad67",
   "metadata": {},
   "outputs": [
    {
     "name": "stdout",
     "output_type": "stream",
     "text": [
      "         ~ \n",
      "        ~ ~ \n",
      "       ~ ~ ~ \n",
      "      ~ ~ ~ ~ \n",
      "     ~ ~ ~ ~ ~ \n",
      "    ~ ~ ~ ~ ~ ~ \n",
      "   ~ ~ ~ ~ ~ ~ ~ \n",
      "  ~ ~ ~ ~ ~ ~ ~ ~ \n",
      " ~ ~ ~ ~ ~ ~ ~ ~ ~ \n",
      "~ ~ ~ ~ ~ ~ ~ ~ ~ ~ \n"
     ]
    }
   ],
   "source": [
    "def eskenar_ucgen_ciz(n):\n",
    "    for i in range(1, n+1):\n",
    "        print(\" \" * (n-i) + \"~ \" * i)\n",
    "\n",
    "eskenar_ucgen_ciz(n)"
   ]
  },
  {
   "cell_type": "code",
   "execution_count": 43,
   "id": "41541efa-5ee5-4f77-9810-c438139329af",
   "metadata": {},
   "outputs": [
    {
     "name": "stdout",
     "output_type": "stream",
     "text": [
      "      ~\n",
      "     ~ ~\n",
      "    ~   ~\n",
      "   ~     ~\n",
      "  ~       ~\n",
      " ~         ~\n",
      "~ ~ ~ ~ ~ ~ ~ \n"
     ]
    }
   ],
   "source": [
    "def icibos_eskenar_ucgen_ciz(n):\n",
    "    for i in range(1, n+1):\n",
    "        if i == 1:\n",
    "            print(\" \" * (n-i) + \"~\")\n",
    "        elif i == n:\n",
    "            print(\" \" * (n-i) + \"~ \" * i)\n",
    "        else:\n",
    "            print(\" \" * (n-i) + \"~ \" + \"  \" * (i-2) + \"~\")\n",
    "\n",
    "# Üçgen boyutu\n",
    "boyut = 7\n",
    "icibos_eskenar_ucgen_ciz(boyut)"
   ]
  },
  {
   "cell_type": "code",
   "execution_count": 44,
   "id": "737576f8-5dea-4b7e-9672-a5ea6fb7f477",
   "metadata": {},
   "outputs": [
    {
     "name": "stdout",
     "output_type": "stream",
     "text": [
      "         ~ ~ ~ ~ ~ ~ ~ ~ ~ ~ \n",
      "        ~ ~ ~ ~ ~ ~ ~ ~ ~ ~ ~ \n",
      "       ~ ~ ~ ~ ~ ~ ~ ~ ~ ~ ~ ~ \n",
      "      ~ ~ ~ ~ ~ ~ ~ ~ ~ ~ ~ ~ ~ \n",
      "     ~ ~ ~ ~ ~ ~ ~ ~ ~ ~ ~ ~ ~ ~ \n",
      "    ~ ~ ~ ~ ~ ~ ~ ~ ~ ~ ~ ~ ~ ~ ~ \n",
      "   ~ ~ ~ ~ ~ ~ ~ ~ ~ ~ ~ ~ ~ ~ ~ ~ \n",
      "  ~ ~ ~ ~ ~ ~ ~ ~ ~ ~ ~ ~ ~ ~ ~ ~ ~ \n",
      " ~ ~ ~ ~ ~ ~ ~ ~ ~ ~ ~ ~ ~ ~ ~ ~ ~ ~ \n",
      "~ ~ ~ ~ ~ ~ ~ ~ ~ ~ ~ ~ ~ ~ ~ ~ ~ ~ ~ \n",
      " ~ ~ ~ ~ ~ ~ ~ ~ ~ ~ ~ ~ ~ ~ ~ ~ ~ ~ \n",
      "  ~ ~ ~ ~ ~ ~ ~ ~ ~ ~ ~ ~ ~ ~ ~ ~ ~ \n",
      "   ~ ~ ~ ~ ~ ~ ~ ~ ~ ~ ~ ~ ~ ~ ~ ~ \n",
      "    ~ ~ ~ ~ ~ ~ ~ ~ ~ ~ ~ ~ ~ ~ ~ \n",
      "     ~ ~ ~ ~ ~ ~ ~ ~ ~ ~ ~ ~ ~ ~ \n",
      "      ~ ~ ~ ~ ~ ~ ~ ~ ~ ~ ~ ~ ~ \n",
      "       ~ ~ ~ ~ ~ ~ ~ ~ ~ ~ ~ ~ \n",
      "        ~ ~ ~ ~ ~ ~ ~ ~ ~ ~ ~ \n",
      "         ~ ~ ~ ~ ~ ~ ~ ~ ~ ~ \n"
     ]
    }
   ],
   "source": [
    "def altigen_ciz(n):\n",
    "    for i in range(n):\n",
    "        print(\" \" * (n-i-1) + \"~ \" * (n+i))\n",
    "    for i in range(n-2, -1, -1):\n",
    "        print(\" \" * (n-i-1) + \"~ \" * (n+i))\n",
    "\n",
    "# Altıgen boyutu\n",
    "i = 10\n",
    "altigen_ciz(i)"
   ]
  },
  {
   "cell_type": "code",
   "execution_count": 45,
   "id": "e53d5eaa-723f-4c80-9503-062a98b1cea9",
   "metadata": {},
   "outputs": [
    {
     "name": "stdout",
     "output_type": "stream",
     "text": [
      "         ~ ~ ~ ~ ~ ~ ~ ~ ~ ~ \n",
      "        ~                   ~\n",
      "       ~                     ~\n",
      "      ~                       ~\n",
      "     ~                         ~\n",
      "    ~                           ~\n",
      "   ~                             ~\n",
      "  ~                               ~\n",
      " ~                                 ~\n",
      "~                                   ~\n",
      " ~                                 ~\n",
      "  ~                               ~\n",
      "   ~                             ~\n",
      "    ~                           ~\n",
      "     ~                         ~\n",
      "      ~                       ~\n",
      "       ~                     ~\n",
      "        ~                   ~\n",
      "         ~ ~ ~ ~ ~ ~ ~ ~ ~ ~ \n"
     ]
    }
   ],
   "source": [
    "def icibos_altigen_ciz(n):\n",
    "    for i in range(n):\n",
    "        if i == 0:\n",
    "            print(\" \" * (n-i-1) + \"~ \" * n)\n",
    "        else:\n",
    "            print(\" \" * (n-i-1) + \"~ \" + \"  \" * (n+i-2) + \"~\")\n",
    "    for i in range(n-2, -1, -1):\n",
    "        if i == 0:\n",
    "            print(\" \" * (n-i-1) + \"~ \" * n)\n",
    "        else:\n",
    "            print(\" \" * (n-i-1) + \"~ \" + \"  \" * (n+i-2) + \"~\")\n",
    "\n",
    "# Altıgen boyutu\n",
    "j = 10\n",
    "icibos_altigen_ciz(j)"
   ]
  },
  {
   "cell_type": "code",
   "execution_count": 46,
   "id": "fe2bfde8-f4b1-45bf-b158-fe1063ebec6c",
   "metadata": {},
   "outputs": [
    {
     "name": "stdout",
     "output_type": "stream",
     "text": [
      "         ~ ~ ~ ~ ~ ~ ~ ~ ~ ~ \n",
      "        ~ o o o o o o o o o ~\n",
      "       ~ o o o o o o o o o o ~\n",
      "      ~ o o o o o o o o o o o ~\n",
      "     ~ o o o o o o o o o o o o ~\n",
      "    ~ o o o o o o o o o o o o o ~\n",
      "   ~ o o o o o o o o o o o o o o ~\n",
      "  ~ o o o o o o o o o o o o o o o ~\n",
      " ~ o o o o o o o o o o o o o o o o ~\n",
      "~ o o o o o o o o o o o o o o o o o ~\n",
      " ~ o o o o o o o o o o o o o o o o ~\n",
      "  ~ o o o o o o o o o o o o o o o ~\n",
      "   ~ o o o o o o o o o o o o o o ~\n",
      "    ~ o o o o o o o o o o o o o ~\n",
      "     ~ o o o o o o o o o o o o ~\n",
      "      ~ o o o o o o o o o o o ~\n",
      "       ~ o o o o o o o o o o ~\n",
      "        ~ o o o o o o o o o ~\n",
      "         ~ ~ ~ ~ ~ ~ ~ ~ ~ ~ \n"
     ]
    }
   ],
   "source": [
    "def altigen_dolu_ciz(n, harf):\n",
    "    # Altıgenin üst yarısı\n",
    "    for i in range(n):\n",
    "        if i == 0:\n",
    "            print(\" \" * (n-i-1) + \"~ \" * n)\n",
    "        else:\n",
    "            print(\" \" * (n-i-1) + \"~ \" + (harf + \" \") * (n+i-2) + \"~\")\n",
    "    # Altıgenin alt yarısı\n",
    "    for i in range(n-2, -1, -1):\n",
    "        if i == 0:\n",
    "            print(\" \" * (n-i-1) + \"~ \" * n)\n",
    "        else:\n",
    "            print(\" \" * (n-i-1) + \"~ \" + (harf + \" \") * (n+i-2) + \"~\")\n",
    "\n",
    "# Altıgen boyutu ve doldurulacak harf\n",
    "k = 10\n",
    "harf = 'o'\n",
    "altigen_dolu_ciz(k, harf)"
   ]
  },
  {
   "cell_type": "code",
   "execution_count": null,
   "id": "58019fec-ee7f-4f6d-b4ad-3c3652d0382c",
   "metadata": {},
   "outputs": [],
   "source": []
  }
 ],
 "metadata": {
  "kernelspec": {
   "display_name": "Python [conda env:base] *",
   "language": "python",
   "name": "conda-base-py"
  },
  "language_info": {
   "codemirror_mode": {
    "name": "ipython",
    "version": 3
   },
   "file_extension": ".py",
   "mimetype": "text/x-python",
   "name": "python",
   "nbconvert_exporter": "python",
   "pygments_lexer": "ipython3",
   "version": "3.12.7"
  }
 },
 "nbformat": 4,
 "nbformat_minor": 5
}
