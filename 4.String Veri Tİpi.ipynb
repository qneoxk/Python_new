{
 "cells": [
  {
   "cell_type": "markdown",
   "id": "823413ac-0f4d-42cc-8e2a-73818ca57c11",
   "metadata": {},
   "source": [
    "# String veri tipi "
   ]
  },
  {
   "cell_type": "code",
   "execution_count": 2,
   "id": "7b54350e-d9b5-42ec-99bc-fe912dd7fb55",
   "metadata": {},
   "outputs": [
    {
     "data": {
      "text/plain": [
       "'Mustafa Kemal'"
      ]
     },
     "execution_count": 2,
     "metadata": {},
     "output_type": "execute_result"
    }
   ],
   "source": [
    "x1 = 'Mustafa Kemal' #tek tırnak ile string tanımalama\n",
    "x1"
   ]
  },
  {
   "cell_type": "markdown",
   "id": "9d991e24-47af-4cd0-8798-21a403846749",
   "metadata": {},
   "source": [
    "x2 = \"Mustafa Kemal\" # çift tırnak ile string tanımlama\n",
    "x2"
   ]
  },
  {
   "cell_type": "code",
   "execution_count": 4,
   "id": "cafff529-adec-47f5-b30b-83fe6448e8eb",
   "metadata": {},
   "outputs": [
    {
     "data": {
      "text/plain": [
       "'Mustafa Kemal'"
      ]
     },
     "execution_count": 4,
     "metadata": {},
     "output_type": "execute_result"
    }
   ],
   "source": [
    "x3 = \"\"\"Mustafa Kemal\"\"\" # üç tane çift tırnak ile string tanımlama \n",
    "x3"
   ]
  },
  {
   "cell_type": "code",
   "execution_count": 5,
   "id": "81b889b8-ffe2-4adb-8e16-a9399d891f5b",
   "metadata": {},
   "outputs": [
    {
     "data": {
      "text/plain": [
       "str"
      ]
     },
     "execution_count": 5,
     "metadata": {},
     "output_type": "execute_result"
    }
   ],
   "source": [
    "type(x1)"
   ]
  },
  {
   "cell_type": "code",
   "execution_count": 6,
   "id": "cbc11dd0-ce1c-4c3d-aac0-8cdcf2640c36",
   "metadata": {},
   "outputs": [
    {
     "name": "stdout",
     "output_type": "stream",
     "text": [
      "<class 'str'>\n"
     ]
    }
   ],
   "source": [
    "print(type(x1))"
   ]
  },
  {
   "cell_type": "code",
   "execution_count": 7,
   "id": "5a110c32-eb6c-4b9d-a74b-95b81f4ef584",
   "metadata": {},
   "outputs": [
    {
     "name": "stdout",
     "output_type": "stream",
     "text": [
      "Mustafa Kemal\n"
     ]
    },
    {
     "ename": "NameError",
     "evalue": "name 'x2' is not defined",
     "output_type": "error",
     "traceback": [
      "\u001b[1;31m---------------------------------------------------------------------------\u001b[0m",
      "\u001b[1;31mNameError\u001b[0m                                 Traceback (most recent call last)",
      "Cell \u001b[1;32mIn[7], line 2\u001b[0m\n\u001b[0;32m      1\u001b[0m \u001b[38;5;28mprint\u001b[39m(x1)\n\u001b[1;32m----> 2\u001b[0m \u001b[38;5;28mprint\u001b[39m(x2)\n\u001b[0;32m      3\u001b[0m \u001b[38;5;28mprint\u001b[39m(x3)\n",
      "\u001b[1;31mNameError\u001b[0m: name 'x2' is not defined"
     ]
    }
   ],
   "source": [
    "print(x1)\n",
    "print(x2)\n",
    "print(x3)"
   ]
  },
  {
   "cell_type": "code",
   "execution_count": 44,
   "id": "521c0665-0f44-40bf-b98c-cfe409c053a1",
   "metadata": {},
   "outputs": [
    {
     "ename": "SyntaxError",
     "evalue": "invalid syntax (138261526.py, line 1)",
     "output_type": "error",
     "traceback": [
      "\u001b[1;36m  Cell \u001b[1;32mIn[44], line 1\u001b[1;36m\u001b[0m\n\u001b[1;33m    'Kağan'ın bugün dersi var  # tek tırnak ve kesme işareti sorunsalı\u001b[0m\n\u001b[1;37m           ^\u001b[0m\n\u001b[1;31mSyntaxError\u001b[0m\u001b[1;31m:\u001b[0m invalid syntax\n"
     ]
    }
   ],
   "source": [
    "'Kağan'ın bugün dersi var  # tek tırnak ve kesme işareti sorunsalı"
   ]
  },
  {
   "cell_type": "code",
   "execution_count": 46,
   "id": "07b75399-00f7-47d9-bbfa-1e95b79cdae0",
   "metadata": {},
   "outputs": [
    {
     "data": {
      "text/plain": [
       "\"Kağan'ın bugün dersi var\""
      ]
     },
     "execution_count": 46,
     "metadata": {},
     "output_type": "execute_result"
    }
   ],
   "source": [
    "\"Kağan'ın bugün dersi var\" # sorunsalı çift tırnak ile aşmak"
   ]
  },
  {
   "cell_type": "code",
   "execution_count": 48,
   "id": "93024567-bd88-4c2c-b8c6-baa85503c1c4",
   "metadata": {},
   "outputs": [
    {
     "data": {
      "text/plain": [
       "\"Kağan'ın bugün dersi var\""
      ]
     },
     "execution_count": 48,
     "metadata": {},
     "output_type": "execute_result"
    }
   ],
   "source": [
    "'Kağan\\'ın bugün dersi var' # \\ (ters slaş ile sorunlası aşmak)"
   ]
  },
  {
   "cell_type": "markdown",
   "id": "6abe07ec-68d7-4a8f-b82d-f3961242dc59",
   "metadata": {},
   "source": [
    "## Stringler üzerine işlemler"
   ]
  },
  {
   "cell_type": "code",
   "execution_count": 50,
   "id": "f481fd17-f9ea-4c8c-ba23-d7e8d433e86d",
   "metadata": {},
   "outputs": [],
   "source": [
    "a = \"Fener\"\n",
    "b = \"Bahçe\""
   ]
  },
  {
   "cell_type": "code",
   "execution_count": 52,
   "id": "20b5053a-5fcc-49db-b6cf-dbd244410350",
   "metadata": {},
   "outputs": [
    {
     "name": "stdout",
     "output_type": "stream",
     "text": [
      "Fener\n",
      "Bahçe\n",
      "Fener Bahçe\n"
     ]
    }
   ],
   "source": [
    "print(a)\n",
    "print(b)\n",
    "print(a, b)"
   ]
  },
  {
   "cell_type": "code",
   "execution_count": 54,
   "id": "8affdf15-9415-4ef2-9390-8254c1f51e46",
   "metadata": {},
   "outputs": [
    {
     "data": {
      "text/plain": [
       "'FenerBahçe'"
      ]
     },
     "execution_count": 54,
     "metadata": {},
     "output_type": "execute_result"
    }
   ],
   "source": [
    "c = a + b \n",
    "c"
   ]
  },
  {
   "cell_type": "code",
   "execution_count": 56,
   "id": "fcf1d6ad-8464-4596-9679-461a0a59f30b",
   "metadata": {},
   "outputs": [
    {
     "data": {
      "text/plain": [
       "'FenerBahçeFenerBahçeFenerBahçeFenerBahçeFenerBahçe'"
      ]
     },
     "execution_count": 56,
     "metadata": {},
     "output_type": "execute_result"
    }
   ],
   "source": [
    "c * 5"
   ]
  },
  {
   "cell_type": "markdown",
   "id": "4648c2a0-e99d-45c3-958d-4d4da8acc205",
   "metadata": {},
   "source": [
    "## String metotları"
   ]
  },
  {
   "cell_type": "markdown",
   "id": "4b86ede4-4ef2-47ef-a3a4-0595f1b3d047",
   "metadata": {},
   "source": [
    "Pythonda çok sayıda string metodu vardır. Bunlardan bazıları şunlardır:\n",
    "\n",
    "- upper(): String nesnesindeki tüm karakterleri büyük harfe çevirir.\n",
    "    \n",
    "- lower(): String nesnesindeki tüm karakterleri küçük harfe çevirir.\n",
    "    \n",
    "- capitalize(): String nesnesindeki ilk karakteri büyük harfe, geri kalanını küçük harfe çevirir.\n",
    "    \n",
    "- title(): String nesnesindeki her kelimenin ilk harfini büyük harfe çevirir.\n",
    "\n",
    "- index(sub): String nesnesinde sub parametresiyle belirtilen alt karakter dizisinin \n",
    "ilk bulunduğu indeksi döndürür. Eğer bulamazsa ValueError hatası verir.\n",
    "\n",
    "- join(iterable): Iterable parametresiyle belirtilen bir dizi veya liste gibi \n",
    "yinelenebilir bir veri tipinin elemanlarını string nesnesiyle birleştirerek yeni bir string nesnesi döndürür.\n",
    "    \n",
    "- replace(old, new): String nesnesindeki old parametresiyle belirtilen karakterleri \n",
    "new parametresiyle belirtilen karakterlerle değiştirir.\n",
    "\n",
    "- find(sub): String nesnesinde sub parametresiyle belirtilen alt karakter dizisinin \n",
    "ilk bulunduğu indeksi döndürür. Eğer bulamazsa -1 döndürür."
   ]
  },
  {
   "cell_type": "markdown",
   "id": "462c7c81-305f-4f2a-85c1-1df1c3edce5b",
   "metadata": {},
   "source": [
    "### upper()"
   ]
  },
  {
   "cell_type": "code",
   "execution_count": 58,
   "id": "6bc4e4c6-6cba-4e21-b57d-ab11f6272ef3",
   "metadata": {},
   "outputs": [],
   "source": [
    "x = \"harun sinanoğlu\""
   ]
  },
  {
   "cell_type": "code",
   "execution_count": 60,
   "id": "68fe662d-fdc9-4f5c-8031-10b7a0f8c725",
   "metadata": {},
   "outputs": [
    {
     "data": {
      "text/plain": [
       "'HARUN SINANOĞLU'"
      ]
     },
     "execution_count": 60,
     "metadata": {},
     "output_type": "execute_result"
    }
   ],
   "source": [
    "x.upper()"
   ]
  },
  {
   "cell_type": "code",
   "execution_count": 62,
   "id": "325670dc-b223-43ab-8f8e-c5c6c7b43ae1",
   "metadata": {},
   "outputs": [
    {
     "data": {
      "text/plain": [
       "'HARUN SINANOĞLU'"
      ]
     },
     "execution_count": 62,
     "metadata": {},
     "output_type": "execute_result"
    }
   ],
   "source": [
    "y = x.upper()\n",
    "y"
   ]
  },
  {
   "cell_type": "markdown",
   "id": "ccaec0aa-088e-4f52-b956-204369fa71d8",
   "metadata": {},
   "source": [
    "### lower()"
   ]
  },
  {
   "cell_type": "code",
   "execution_count": 65,
   "id": "dbd96393-73e6-47d1-83ed-5c80d35154b8",
   "metadata": {},
   "outputs": [
    {
     "data": {
      "text/plain": [
       "'harun sinanoğlu'"
      ]
     },
     "execution_count": 65,
     "metadata": {},
     "output_type": "execute_result"
    }
   ],
   "source": [
    "z = y.lower()\n",
    "z"
   ]
  },
  {
   "cell_type": "markdown",
   "id": "89781163-f3c1-420e-8a2c-ce187a490134",
   "metadata": {},
   "source": [
    "### capitalize()"
   ]
  },
  {
   "cell_type": "code",
   "execution_count": 67,
   "id": "2f6ff540-26b0-481f-9003-8871260e0742",
   "metadata": {},
   "outputs": [
    {
     "data": {
      "text/plain": [
       "'Harun sinanoğlu'"
      ]
     },
     "execution_count": 67,
     "metadata": {},
     "output_type": "execute_result"
    }
   ],
   "source": [
    "x.capitalize()"
   ]
  },
  {
   "cell_type": "code",
   "execution_count": 69,
   "id": "6884ae81-1215-4d8c-b273-6b81faad1aed",
   "metadata": {},
   "outputs": [
    {
     "data": {
      "text/plain": [
       "'vatanını en çok seven görevini en iyi yapandır.'"
      ]
     },
     "execution_count": 69,
     "metadata": {},
     "output_type": "execute_result"
    }
   ],
   "source": [
    "u = \"vatanını en çok seven görevini en iyi yapandır.\"\n",
    "u"
   ]
  },
  {
   "cell_type": "markdown",
   "id": "f0b75ebc-a264-478d-a31c-9fd73ec4066f",
   "metadata": {},
   "source": [
    "### title()"
   ]
  },
  {
   "cell_type": "code",
   "execution_count": 71,
   "id": "ca8a2918-a0d5-43b5-89ba-aca9488f2f29",
   "metadata": {},
   "outputs": [
    {
     "data": {
      "text/plain": [
       "'Vatanını En Çok Seven Görevini En Iyi Yapandır.'"
      ]
     },
     "execution_count": 71,
     "metadata": {},
     "output_type": "execute_result"
    }
   ],
   "source": [
    "u.title()"
   ]
  },
  {
   "cell_type": "code",
   "execution_count": 73,
   "id": "1f1ea282-4be8-4130-8ad8-7e8d81d93a39",
   "metadata": {},
   "outputs": [
    {
     "data": {
      "text/plain": [
       "'Harun Sinanoğlu'"
      ]
     },
     "execution_count": 73,
     "metadata": {},
     "output_type": "execute_result"
    }
   ],
   "source": [
    "x.title()"
   ]
  },
  {
   "cell_type": "markdown",
   "id": "33086ef8-702f-43eb-a209-2823c7c72bdf",
   "metadata": {},
   "source": [
    "### index()"
   ]
  },
  {
   "cell_type": "code",
   "execution_count": 75,
   "id": "fc668ee6-0bfe-402d-8871-c08e1159ddbe",
   "metadata": {},
   "outputs": [
    {
     "data": {
      "text/plain": [
       "1"
      ]
     },
     "execution_count": 75,
     "metadata": {},
     "output_type": "execute_result"
    }
   ],
   "source": [
    "x.index(\"a\")"
   ]
  },
  {
   "cell_type": "markdown",
   "id": "1024dcf5-ebf2-429b-820c-fda4ec4ccb28",
   "metadata": {},
   "source": [
    "### join()"
   ]
  },
  {
   "cell_type": "markdown",
   "id": "0c848870-4d67-4800-81b7-cfecf5209d3c",
   "metadata": {},
   "source": [
    "#### join() - stringlerle kullanım"
   ]
  },
  {
   "cell_type": "code",
   "execution_count": 77,
   "id": "629834fd-8c2e-482e-99d0-af5a09595bda",
   "metadata": {},
   "outputs": [
    {
     "data": {
      "text/plain": [
       "'+Harun Sinanoğlu+'"
      ]
     },
     "execution_count": 77,
     "metadata": {},
     "output_type": "execute_result"
    }
   ],
   "source": [
    "x.title().join(\"++\") "
   ]
  },
  {
   "cell_type": "code",
   "execution_count": 79,
   "id": "205f1f5c-945b-489c-9525-0bde27642950",
   "metadata": {},
   "outputs": [
    {
     "data": {
      "text/plain": [
       "'+Harun Sinanoğlu Harun Sinanoğlu+'"
      ]
     },
     "execution_count": 79,
     "metadata": {},
     "output_type": "execute_result"
    }
   ],
   "source": [
    "x.title().join(\"+ +\") "
   ]
  },
  {
   "cell_type": "code",
   "execution_count": 81,
   "id": "98090b9a-5356-4e18-871f-aa0edff728f0",
   "metadata": {},
   "outputs": [
    {
     "data": {
      "text/plain": [
       "'+Harun Sinanoğlu Harun Sinanoğlu Harun Sinanoğlu+'"
      ]
     },
     "execution_count": 81,
     "metadata": {},
     "output_type": "execute_result"
    }
   ],
   "source": [
    "x.title().join(\"+  +\") "
   ]
  },
  {
   "cell_type": "markdown",
   "id": "a80ee28f-fb11-4810-8c81-f45bd0e6681f",
   "metadata": {},
   "source": [
    "### join() farklı kullanım"
   ]
  },
  {
   "cell_type": "raw",
   "id": "3d38a227-358e-4b08-9cfe-1f456974dd84",
   "metadata": {},
   "source": [
    "join(): Listenin elemanlarını bir string değeri ile değiştirmeye yarar. "
   ]
  },
  {
   "cell_type": "code",
   "execution_count": 83,
   "id": "4deda267-05ab-4b5b-a13f-02cca2337409",
   "metadata": {},
   "outputs": [
    {
     "data": {
      "text/plain": [
       "['19', 'Mayıs', '1919']"
      ]
     },
     "execution_count": 83,
     "metadata": {},
     "output_type": "execute_result"
    }
   ],
   "source": [
    "liste = [\"19\", \"Mayıs\", \"1919\"]\n",
    "liste"
   ]
  },
  {
   "cell_type": "code",
   "execution_count": 85,
   "id": "2d219e54-cd39-48f5-85d5-a4f1ae0c6589",
   "metadata": {},
   "outputs": [
    {
     "data": {
      "text/plain": [
       "'19/Mayıs/1919'"
      ]
     },
     "execution_count": 85,
     "metadata": {},
     "output_type": "execute_result"
    }
   ],
   "source": [
    "\"/\".join(liste) # listenin her bir elemanına / yerleştirir"
   ]
  },
  {
   "cell_type": "code",
   "execution_count": 87,
   "id": "0fcd6c6f-bb94-40f4-815c-bcfd903d03f8",
   "metadata": {},
   "outputs": [
    {
     "data": {
      "text/plain": [
       "['T', 'B', 'M', 'M']"
      ]
     },
     "execution_count": 87,
     "metadata": {},
     "output_type": "execute_result"
    }
   ],
   "source": [
    "liste2 = [\"T\", \"B\", \"M\", \"M\"]\n",
    "liste2"
   ]
  },
  {
   "cell_type": "code",
   "execution_count": 89,
   "id": "5a5da9fb-6d5a-449c-80ff-2da1038c7b8e",
   "metadata": {},
   "outputs": [
    {
     "data": {
      "text/plain": [
       "'T.B.M.M'"
      ]
     },
     "execution_count": 89,
     "metadata": {},
     "output_type": "execute_result"
    }
   ],
   "source": [
    "\".\".join(liste2)"
   ]
  },
  {
   "cell_type": "markdown",
   "id": "a64ee1fb-c0cb-49e7-b741-81ad3bc19025",
   "metadata": {},
   "source": [
    "### replace()"
   ]
  },
  {
   "cell_type": "code",
   "execution_count": 91,
   "id": "f64a8024-7cc4-4aba-900c-78b8ce425594",
   "metadata": {},
   "outputs": [
    {
     "data": {
      "text/plain": [
       "'Kimleeeer geeeeldi kimleeeer geeeeçti'"
      ]
     },
     "execution_count": 91,
     "metadata": {},
     "output_type": "execute_result"
    }
   ],
   "source": [
    "\"Kimler geldi kimler geçti\".replace(\"e\", \"eeee\")"
   ]
  },
  {
   "cell_type": "code",
   "execution_count": 93,
   "id": "ed541e15-3ccd-492a-ab43-1366431ed248",
   "metadata": {},
   "outputs": [
    {
     "data": {
      "text/plain": [
       "'Kimler**geldi**kimler**geçti'"
      ]
     },
     "execution_count": 93,
     "metadata": {},
     "output_type": "execute_result"
    }
   ],
   "source": [
    "\"Kimler geldi kimler geçti\".replace(\" \", \"**\")"
   ]
  },
  {
   "cell_type": "markdown",
   "id": "dd857fda-b366-4b64-9766-2e7fa898ec1e",
   "metadata": {},
   "source": [
    "### startswith() ve endswith()"
   ]
  },
  {
   "cell_type": "raw",
   "id": "0387d448-467f-464f-a7b9-c08ee7e97531",
   "metadata": {},
   "source": [
    "startwith(x) : String x ile başlıyorsa True döner, aksi halde False.\n",
    "endswith() : String x ile bitiyorsa True döner, aksi halde False."
   ]
  },
  {
   "cell_type": "code",
   "execution_count": 95,
   "id": "8d1432b1-beef-47c5-ad38-fadf41ea4c40",
   "metadata": {},
   "outputs": [
    {
     "data": {
      "text/plain": [
       "False"
      ]
     },
     "execution_count": 95,
     "metadata": {},
     "output_type": "execute_result"
    }
   ],
   "source": [
    "\"Python\".startswith(\"p\")"
   ]
  },
  {
   "cell_type": "code",
   "execution_count": 97,
   "id": "19b1b990-e7d8-40cd-a90c-afd9ab0be048",
   "metadata": {},
   "outputs": [
    {
     "data": {
      "text/plain": [
       "True"
      ]
     },
     "execution_count": 97,
     "metadata": {},
     "output_type": "execute_result"
    }
   ],
   "source": [
    "\"Python\".startswith(\"P\")"
   ]
  },
  {
   "cell_type": "markdown",
   "id": "cf2e6f57-bc00-4c64-a0e0-288fc4c539cb",
   "metadata": {},
   "source": [
    "## split()"
   ]
  },
  {
   "cell_type": "raw",
   "id": "71f8bbae-76fa-454e-9592-0bc8c10a0da4",
   "metadata": {},
   "source": [
    "split(a) : Verilen değere göre string parçalara ayrılarak herbir parça listeye atılır."
   ]
  },
  {
   "cell_type": "code",
   "execution_count": 99,
   "id": "c164c307-c1ac-4e67-a44b-e0339e8fc783",
   "metadata": {},
   "outputs": [
    {
     "data": {
      "text/plain": [
       "['Python', 'Programlama', 'Dili']"
      ]
     },
     "execution_count": 99,
     "metadata": {},
     "output_type": "execute_result"
    }
   ],
   "source": [
    "liste = \"Python Programlama Dili\".split(\" \")\n",
    "liste"
   ]
  },
  {
   "cell_type": "code",
   "execution_count": 101,
   "id": "019e658d-ce24-47b4-ab2a-fe810f8ac398",
   "metadata": {},
   "outputs": [
    {
     "data": {
      "text/plain": [
       "['P', 'thon Programlama Dili']"
      ]
     },
     "execution_count": 101,
     "metadata": {},
     "output_type": "execute_result"
    }
   ],
   "source": [
    "liste2 = \"Python Programlama Dili\".split(\"y\")\n",
    "liste2"
   ]
  },
  {
   "cell_type": "code",
   "execution_count": 103,
   "id": "b0d82ff2-70e5-4716-bca8-0e72af9c49de",
   "metadata": {},
   "outputs": [
    {
     "data": {
      "text/plain": [
       "['Python', 'Javascript', 'C++', 'Java', 'C#']"
      ]
     },
     "execution_count": 103,
     "metadata": {},
     "output_type": "execute_result"
    }
   ],
   "source": [
    "liste3 = \"Python-Javascript-C++-Java-C#\".split(\"-\")\n",
    "liste3"
   ]
  },
  {
   "cell_type": "markdown",
   "id": "593ad09f-3ef9-4efc-9110-74e6e446ea0e",
   "metadata": {},
   "source": [
    "### strip(), lstrip() ve rstrip()"
   ]
  },
  {
   "cell_type": "raw",
   "id": "451d6256-1121-4ae6-9961-54ec10b2bb8c",
   "metadata": {},
   "source": [
    "strip(x): Stringin başında ve sonunda bulunan x değerlerini siler\n",
    "lstrip(x): Stringin sadece başında bulunan x değerlerini siler. \n",
    "rstrip(): Stringin sadece sonunda bulunan x değerlerini siler. "
   ]
  },
  {
   "cell_type": "code",
   "execution_count": 105,
   "id": "ef515500-eb2c-44cd-9a4c-3a1bd64741c9",
   "metadata": {},
   "outputs": [
    {
     "data": {
      "text/plain": [
       "'python'"
      ]
     },
     "execution_count": 105,
     "metadata": {},
     "output_type": "execute_result"
    }
   ],
   "source": [
    "\"      python         \".strip()"
   ]
  },
  {
   "cell_type": "code",
   "execution_count": 107,
   "id": "9113fc7c-3936-436b-9709-b2a4db263023",
   "metadata": {},
   "outputs": [
    {
     "data": {
      "text/plain": [
       "'python'"
      ]
     },
     "execution_count": 107,
     "metadata": {},
     "output_type": "execute_result"
    }
   ],
   "source": [
    "\"******python*****************\".strip(\"*\")"
   ]
  },
  {
   "cell_type": "code",
   "execution_count": 109,
   "id": "6e915f43-31e8-44bc-9a33-d3c6ea064747",
   "metadata": {},
   "outputs": [
    {
     "data": {
      "text/plain": [
       "'python*****************'"
      ]
     },
     "execution_count": 109,
     "metadata": {},
     "output_type": "execute_result"
    }
   ],
   "source": [
    "\"******python*****************\".lstrip(\"*\")"
   ]
  },
  {
   "cell_type": "code",
   "execution_count": 111,
   "id": "bbc431de-fce9-4707-833f-1ed20f174fd9",
   "metadata": {},
   "outputs": [
    {
     "data": {
      "text/plain": [
       "'******python'"
      ]
     },
     "execution_count": 111,
     "metadata": {},
     "output_type": "execute_result"
    }
   ],
   "source": [
    "\"******python*****************\".rstrip(\"*\")"
   ]
  },
  {
   "cell_type": "markdown",
   "id": "c925d421-20d6-4c5c-9ff8-4841c29d1d37",
   "metadata": {},
   "source": [
    "### count()"
   ]
  },
  {
   "cell_type": "raw",
   "id": "a918d223-c831-44d5-b1c0-1d2f7aea4ec0",
   "metadata": {},
   "source": [
    "count(x) : String içinde kaç tane x var\n",
    "count(x, index): String içindeki x'leri verilen index değerinden başlayarak sayar. "
   ]
  },
  {
   "cell_type": "code",
   "execution_count": 113,
   "id": "5764738d-2298-4486-ade2-c55c80de1e15",
   "metadata": {},
   "outputs": [
    {
     "data": {
      "text/plain": [
       "4"
      ]
     },
     "execution_count": 113,
     "metadata": {},
     "output_type": "execute_result"
    }
   ],
   "source": [
    "\"Hayalet Akbaba\".count(\"a\")"
   ]
  },
  {
   "cell_type": "code",
   "execution_count": 115,
   "id": "507c7102-d089-48f3-a627-d2006789ff60",
   "metadata": {},
   "outputs": [
    {
     "data": {
      "text/plain": [
       "1"
      ]
     },
     "execution_count": 115,
     "metadata": {},
     "output_type": "execute_result"
    }
   ],
   "source": [
    "\"Hayalet Akbaba\".count(\" \")"
   ]
  },
  {
   "cell_type": "code",
   "execution_count": 117,
   "id": "ca664660-8589-4207-a666-2db7d16396fc",
   "metadata": {},
   "outputs": [
    {
     "data": {
      "text/plain": [
       "2"
      ]
     },
     "execution_count": 117,
     "metadata": {},
     "output_type": "execute_result"
    }
   ],
   "source": [
    "\"Hayalet Akbaba\".count(\"a\", 4)"
   ]
  },
  {
   "cell_type": "markdown",
   "id": "4c2737ef-20fc-4380-bee2-1ec34287eaf4",
   "metadata": {},
   "source": [
    "### find() ve rfind()"
   ]
  },
  {
   "cell_type": "raw",
   "id": "74f0a9e3-fc45-42cb-95a3-1f597734b29c",
   "metadata": {},
   "source": [
    "find(x) : x değerini baştan sona tarar ve bulduğu ilk indeksi yazar. Bulamazsa \"-1\" döner.\n",
    "rfind() : x değerini sondan başa tarar ve ilk bulduğu indeksi yazar. Bulamazsa \"-1\" döner. "
   ]
  },
  {
   "cell_type": "code",
   "execution_count": 119,
   "id": "23a15890-8150-489e-905a-d28de5ec44ff",
   "metadata": {},
   "outputs": [
    {
     "data": {
      "text/plain": [
       "0"
      ]
     },
     "execution_count": 119,
     "metadata": {},
     "output_type": "execute_result"
    }
   ],
   "source": [
    "\"araba\".find(\"a\")"
   ]
  },
  {
   "cell_type": "code",
   "execution_count": 121,
   "id": "37c3c924-5c14-4f10-aa4b-7cdaf930bf42",
   "metadata": {},
   "outputs": [
    {
     "data": {
      "text/plain": [
       "4"
      ]
     },
     "execution_count": 121,
     "metadata": {},
     "output_type": "execute_result"
    }
   ],
   "source": [
    "\"araba\".rfind(\"a\")"
   ]
  },
  {
   "cell_type": "code",
   "execution_count": 123,
   "id": "9056d481-3356-454d-be3f-b2b014917f72",
   "metadata": {},
   "outputs": [
    {
     "data": {
      "text/plain": [
       "-1"
      ]
     },
     "execution_count": 123,
     "metadata": {},
     "output_type": "execute_result"
    }
   ],
   "source": [
    "\"araba\".find(\"e\")"
   ]
  },
  {
   "cell_type": "markdown",
   "id": "3cf2ddc1-d05a-4ed3-bd72-ccc911eff505",
   "metadata": {},
   "source": [
    "# String indeksleme ve parçalama"
   ]
  },
  {
   "cell_type": "markdown",
   "id": "22fe0e9e-58b1-4ae6-a95a-9bd4a5031ebc",
   "metadata": {},
   "source": [
    "##### Python'daki tüm veri tipleri indekslidir ve diğer veri tipleri için aynı kurallar geçerlidir."
   ]
  },
  {
   "cell_type": "markdown",
   "id": "d5401505-9d04-4b31-bef0-44eae02f3de8",
   "metadata": {},
   "source": [
    "##### soldan sağa doğru sıfırdan başlayarak artan sırayla indisleme yapılır"
   ]
  },
  {
   "cell_type": "code",
   "execution_count": 125,
   "id": "cb658f3f-cdba-4f12-97d2-0c78bc613a75",
   "metadata": {},
   "outputs": [
    {
     "data": {
      "text/plain": [
       "'Disk '"
      ]
     },
     "execution_count": 125,
     "metadata": {},
     "output_type": "execute_result"
    }
   ],
   "source": [
    "u = \"Disk \"\n",
    "u"
   ]
  },
  {
   "cell_type": "code",
   "execution_count": 127,
   "id": "3caf304c-57ba-4b5b-ab4f-c9210c9f0d33",
   "metadata": {},
   "outputs": [
    {
     "data": {
      "text/plain": [
       "'s'"
      ]
     },
     "execution_count": 127,
     "metadata": {},
     "output_type": "execute_result"
    }
   ],
   "source": [
    "u[2]"
   ]
  },
  {
   "cell_type": "code",
   "execution_count": 129,
   "id": "a25f802e-d9b1-440e-9bdb-7f626d8be5b1",
   "metadata": {},
   "outputs": [
    {
     "data": {
      "text/plain": [
       "' '"
      ]
     },
     "execution_count": 129,
     "metadata": {},
     "output_type": "execute_result"
    }
   ],
   "source": [
    "u[4]"
   ]
  },
  {
   "cell_type": "markdown",
   "id": "a9ce3ba2-4053-4571-81f4-5c461837c9e0",
   "metadata": {},
   "source": [
    "##### sağdan sola doğru -1' den başlayarak azalan sırada sayım ypaılır"
   ]
  },
  {
   "cell_type": "code",
   "execution_count": 131,
   "id": "f201b313-b6e5-4e1d-9fb3-473e68fb4c5e",
   "metadata": {},
   "outputs": [
    {
     "data": {
      "text/plain": [
       "' '"
      ]
     },
     "execution_count": 131,
     "metadata": {},
     "output_type": "execute_result"
    }
   ],
   "source": [
    "u[-1]"
   ]
  },
  {
   "cell_type": "code",
   "execution_count": 133,
   "id": "3ff49617-256c-40f8-9fb0-451e9521ae53",
   "metadata": {},
   "outputs": [
    {
     "data": {
      "text/plain": [
       "'k'"
      ]
     },
     "execution_count": 133,
     "metadata": {},
     "output_type": "execute_result"
    }
   ],
   "source": [
    "u[-2]"
   ]
  },
  {
   "cell_type": "code",
   "execution_count": 135,
   "id": "abd91264-7a47-4211-aeb0-c93ec6319f87",
   "metadata": {},
   "outputs": [
    {
     "data": {
      "text/plain": [
       "'Çiğdem Talu & Melih Kibar '"
      ]
     },
     "execution_count": 135,
     "metadata": {},
     "output_type": "execute_result"
    }
   ],
   "source": [
    "Q = \"Çiğdem Talu & Melih Kibar \"\n",
    "Q"
   ]
  },
  {
   "cell_type": "code",
   "execution_count": 137,
   "id": "506d11f8-5938-4a5d-90e1-cdba2070a79a",
   "metadata": {},
   "outputs": [
    {
     "data": {
      "text/plain": [
       "26"
      ]
     },
     "execution_count": 137,
     "metadata": {},
     "output_type": "execute_result"
    }
   ],
   "source": [
    "len(Q)"
   ]
  },
  {
   "cell_type": "code",
   "execution_count": 139,
   "id": "650123a5-5dd1-481d-807f-fac5010e6db8",
   "metadata": {},
   "outputs": [
    {
     "data": {
      "text/plain": [
       "'Çiğ'"
      ]
     },
     "execution_count": 139,
     "metadata": {},
     "output_type": "execute_result"
    }
   ],
   "source": [
    "Q[0:3]"
   ]
  },
  {
   "cell_type": "code",
   "execution_count": 141,
   "id": "96e4ee8c-64ba-4f4b-9088-7d012d7959c2",
   "metadata": {},
   "outputs": [
    {
     "data": {
      "text/plain": [
       "'Çiğ'"
      ]
     },
     "execution_count": 141,
     "metadata": {},
     "output_type": "execute_result"
    }
   ],
   "source": [
    "Q[:3]"
   ]
  },
  {
   "cell_type": "code",
   "execution_count": 143,
   "id": "baa3b7ca-1564-4ba6-b346-e9798208809b",
   "metadata": {},
   "outputs": [
    {
     "data": {
      "text/plain": [
       "'Talu & '"
      ]
     },
     "execution_count": 143,
     "metadata": {},
     "output_type": "execute_result"
    }
   ],
   "source": [
    "Q[7:14]"
   ]
  },
  {
   "cell_type": "code",
   "execution_count": 145,
   "id": "17722186-fce0-476e-a372-99dc230436fc",
   "metadata": {},
   "outputs": [
    {
     "data": {
      "text/plain": [
       "26"
      ]
     },
     "execution_count": 145,
     "metadata": {},
     "output_type": "execute_result"
    }
   ],
   "source": [
    "len(Q)"
   ]
  },
  {
   "cell_type": "code",
   "execution_count": 147,
   "id": "ff24f5a7-756d-451d-9227-34358f8c25f3",
   "metadata": {},
   "outputs": [
    {
     "data": {
      "text/plain": [
       "'Çd l&ehir'"
      ]
     },
     "execution_count": 147,
     "metadata": {},
     "output_type": "execute_result"
    }
   ],
   "source": [
    "Q[0:26:3]"
   ]
  },
  {
   "cell_type": "code",
   "execution_count": 149,
   "id": "06ccbde1-487e-4a7f-99e1-7be7e57e4990",
   "metadata": {},
   "outputs": [
    {
     "data": {
      "text/plain": [
       "'Çd l&ehir'"
      ]
     },
     "execution_count": 149,
     "metadata": {},
     "output_type": "execute_result"
    }
   ],
   "source": [
    "Q[::3]"
   ]
  },
  {
   "cell_type": "code",
   "execution_count": 151,
   "id": "cfad5ea3-4686-4cdc-8662-0c0c7a0f81a4",
   "metadata": {},
   "outputs": [
    {
     "data": {
      "text/plain": [
       "' rabiK hileM & ulaT medğiÇ'"
      ]
     },
     "execution_count": 151,
     "metadata": {},
     "output_type": "execute_result"
    }
   ],
   "source": [
    "Q[::-1]"
   ]
  },
  {
   "cell_type": "code",
   "execution_count": 153,
   "id": "5d2160eb-0243-4077-a1fd-fa3b0ad6067c",
   "metadata": {},
   "outputs": [
    {
     "data": {
      "text/plain": [
       "'Mertaba'"
      ]
     },
     "execution_count": 153,
     "metadata": {},
     "output_type": "execute_result"
    }
   ],
   "source": [
    "S = \"Mertaba\"\n",
    "S"
   ]
  },
  {
   "cell_type": "code",
   "execution_count": 155,
   "id": "fd2c5940-2b55-4995-bcea-bcd9f2a6feba",
   "metadata": {},
   "outputs": [
    {
     "ename": "TypeError",
     "evalue": "'str' object does not support item assignment",
     "output_type": "error",
     "traceback": [
      "\u001b[1;31m---------------------------------------------------------------------------\u001b[0m",
      "\u001b[1;31mTypeError\u001b[0m                                 Traceback (most recent call last)",
      "Cell \u001b[1;32mIn[155], line 1\u001b[0m\n\u001b[1;32m----> 1\u001b[0m S[\u001b[38;5;241m3\u001b[39m] \u001b[38;5;241m=\u001b[39m \u001b[38;5;124m\"\u001b[39m\u001b[38;5;124mh\u001b[39m\u001b[38;5;124m\"\u001b[39m\n",
      "\u001b[1;31mTypeError\u001b[0m: 'str' object does not support item assignment"
     ]
    }
   ],
   "source": [
    "S[3] = \"h\""
   ]
  },
  {
   "cell_type": "code",
   "execution_count": 157,
   "id": "3d83ad2a-a261-48be-a80f-e80635356902",
   "metadata": {},
   "outputs": [
    {
     "data": {
      "text/plain": [
       "'Merhaba'"
      ]
     },
     "execution_count": 157,
     "metadata": {},
     "output_type": "execute_result"
    }
   ],
   "source": [
    "ss = S.replace(\"t\", \"h\")\n",
    "ss"
   ]
  }
 ],
 "metadata": {
  "kernelspec": {
   "display_name": "Python 3 (ipykernel)",
   "language": "python",
   "name": "python3"
  },
  "language_info": {
   "codemirror_mode": {
    "name": "ipython",
    "version": 3
   },
   "file_extension": ".py",
   "mimetype": "text/x-python",
   "name": "python",
   "nbconvert_exporter": "python",
   "pygments_lexer": "ipython3",
   "version": "3.12.4"
  }
 },
 "nbformat": 4,
 "nbformat_minor": 5
}
